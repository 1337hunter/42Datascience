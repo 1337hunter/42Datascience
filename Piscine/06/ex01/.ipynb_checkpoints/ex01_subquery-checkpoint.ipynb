{
 "cells": [
  {
   "cell_type": "markdown",
   "id": "9865bc2d",
   "metadata": {},
   "source": [
    "## create a connection to the database using the library sqlite3"
   ]
  },
  {
   "cell_type": "code",
   "execution_count": 1,
   "id": "a1f0a706",
   "metadata": {},
   "outputs": [],
   "source": [
    "import pandas as pd\n",
    "import sqlite3"
   ]
  },
  {
   "cell_type": "code",
   "execution_count": 2,
   "id": "2c828e97",
   "metadata": {},
   "outputs": [],
   "source": [
    "conn = sqlite3.connect('../ex00/data/checking-logs.sqlite.sqlite copy')"
   ]
  },
  {
   "cell_type": "markdown",
   "id": "6bf990e1",
   "metadata": {},
   "source": [
    "## get the schema of the table checker"
   ]
  },
  {
   "cell_type": "code",
   "execution_count": 4,
   "id": "966e1eda",
   "metadata": {},
   "outputs": [
    {
     "data": {
      "text/html": [
       "<div>\n",
       "<style scoped>\n",
       "    .dataframe tbody tr th:only-of-type {\n",
       "        vertical-align: middle;\n",
       "    }\n",
       "\n",
       "    .dataframe tbody tr th {\n",
       "        vertical-align: top;\n",
       "    }\n",
       "\n",
       "    .dataframe thead th {\n",
       "        text-align: right;\n",
       "    }\n",
       "</style>\n",
       "<table border=\"1\" class=\"dataframe\">\n",
       "  <thead>\n",
       "    <tr style=\"text-align: right;\">\n",
       "      <th></th>\n",
       "      <th>cid</th>\n",
       "      <th>name</th>\n",
       "      <th>type</th>\n",
       "      <th>notnull</th>\n",
       "      <th>dflt_value</th>\n",
       "      <th>pk</th>\n",
       "    </tr>\n",
       "  </thead>\n",
       "  <tbody>\n",
       "    <tr>\n",
       "      <th>0</th>\n",
       "      <td>0</td>\n",
       "      <td>index</td>\n",
       "      <td>INTEGER</td>\n",
       "      <td>0</td>\n",
       "      <td>None</td>\n",
       "      <td>0</td>\n",
       "    </tr>\n",
       "    <tr>\n",
       "      <th>1</th>\n",
       "      <td>1</td>\n",
       "      <td>status</td>\n",
       "      <td>TEXT</td>\n",
       "      <td>0</td>\n",
       "      <td>None</td>\n",
       "      <td>0</td>\n",
       "    </tr>\n",
       "    <tr>\n",
       "      <th>2</th>\n",
       "      <td>2</td>\n",
       "      <td>success</td>\n",
       "      <td>INTEGER</td>\n",
       "      <td>0</td>\n",
       "      <td>None</td>\n",
       "      <td>0</td>\n",
       "    </tr>\n",
       "    <tr>\n",
       "      <th>3</th>\n",
       "      <td>3</td>\n",
       "      <td>timestamp</td>\n",
       "      <td>TIMESTAMP</td>\n",
       "      <td>0</td>\n",
       "      <td>None</td>\n",
       "      <td>0</td>\n",
       "    </tr>\n",
       "    <tr>\n",
       "      <th>4</th>\n",
       "      <td>4</td>\n",
       "      <td>numTrials</td>\n",
       "      <td>INTEGER</td>\n",
       "      <td>0</td>\n",
       "      <td>None</td>\n",
       "      <td>0</td>\n",
       "    </tr>\n",
       "    <tr>\n",
       "      <th>5</th>\n",
       "      <td>5</td>\n",
       "      <td>labname</td>\n",
       "      <td>TEXT</td>\n",
       "      <td>0</td>\n",
       "      <td>None</td>\n",
       "      <td>0</td>\n",
       "    </tr>\n",
       "    <tr>\n",
       "      <th>6</th>\n",
       "      <td>6</td>\n",
       "      <td>uid</td>\n",
       "      <td>TEXT</td>\n",
       "      <td>0</td>\n",
       "      <td>None</td>\n",
       "      <td>0</td>\n",
       "    </tr>\n",
       "  </tbody>\n",
       "</table>\n",
       "</div>"
      ],
      "text/plain": [
       "   cid       name       type  notnull dflt_value  pk\n",
       "0    0      index    INTEGER        0       None   0\n",
       "1    1     status       TEXT        0       None   0\n",
       "2    2    success    INTEGER        0       None   0\n",
       "3    3  timestamp  TIMESTAMP        0       None   0\n",
       "4    4  numTrials    INTEGER        0       None   0\n",
       "5    5    labname       TEXT        0       None   0\n",
       "6    6        uid       TEXT        0       None   0"
      ]
     },
     "execution_count": 4,
     "metadata": {},
     "output_type": "execute_result"
    }
   ],
   "source": [
    "pd.io.sql.read_sql(\"PRAGMA table_info(checker);\", conn)"
   ]
  },
  {
   "cell_type": "markdown",
   "id": "0edf45ed",
   "metadata": {},
   "source": [
    "## get only the first 10 rows of the table checker to check what the table looks like"
   ]
  },
  {
   "cell_type": "code",
   "execution_count": 6,
   "id": "37020ac3",
   "metadata": {},
   "outputs": [
    {
     "data": {
      "text/html": [
       "<div>\n",
       "<style scoped>\n",
       "    .dataframe tbody tr th:only-of-type {\n",
       "        vertical-align: middle;\n",
       "    }\n",
       "\n",
       "    .dataframe tbody tr th {\n",
       "        vertical-align: top;\n",
       "    }\n",
       "\n",
       "    .dataframe thead th {\n",
       "        text-align: right;\n",
       "    }\n",
       "</style>\n",
       "<table border=\"1\" class=\"dataframe\">\n",
       "  <thead>\n",
       "    <tr style=\"text-align: right;\">\n",
       "      <th></th>\n",
       "      <th>index</th>\n",
       "      <th>status</th>\n",
       "      <th>success</th>\n",
       "      <th>timestamp</th>\n",
       "      <th>numTrials</th>\n",
       "      <th>labname</th>\n",
       "      <th>uid</th>\n",
       "    </tr>\n",
       "  </thead>\n",
       "  <tbody>\n",
       "    <tr>\n",
       "      <th>0</th>\n",
       "      <td>0</td>\n",
       "      <td>checking</td>\n",
       "      <td>0</td>\n",
       "      <td>2020-04-16 21:12:50.740474</td>\n",
       "      <td>5</td>\n",
       "      <td>None</td>\n",
       "      <td>admin_1</td>\n",
       "    </tr>\n",
       "    <tr>\n",
       "      <th>1</th>\n",
       "      <td>1</td>\n",
       "      <td>ready</td>\n",
       "      <td>0</td>\n",
       "      <td>2020-04-16 21:12:54.708365</td>\n",
       "      <td>5</td>\n",
       "      <td>code_rvw</td>\n",
       "      <td>admin_1</td>\n",
       "    </tr>\n",
       "    <tr>\n",
       "      <th>2</th>\n",
       "      <td>2</td>\n",
       "      <td>checking</td>\n",
       "      <td>0</td>\n",
       "      <td>2020-04-16 21:46:47.769088</td>\n",
       "      <td>7</td>\n",
       "      <td>None</td>\n",
       "      <td>admin_1</td>\n",
       "    </tr>\n",
       "    <tr>\n",
       "      <th>3</th>\n",
       "      <td>3</td>\n",
       "      <td>ready</td>\n",
       "      <td>0</td>\n",
       "      <td>2020-04-16 21:46:48.121217</td>\n",
       "      <td>7</td>\n",
       "      <td>lab02</td>\n",
       "      <td>admin_1</td>\n",
       "    </tr>\n",
       "    <tr>\n",
       "      <th>4</th>\n",
       "      <td>4</td>\n",
       "      <td>checking</td>\n",
       "      <td>0</td>\n",
       "      <td>2020-04-16 21:53:01.862637</td>\n",
       "      <td>6</td>\n",
       "      <td>code_rvw</td>\n",
       "      <td>admin_1</td>\n",
       "    </tr>\n",
       "    <tr>\n",
       "      <th>5</th>\n",
       "      <td>5</td>\n",
       "      <td>ready</td>\n",
       "      <td>0</td>\n",
       "      <td>2020-04-16 21:53:05.373389</td>\n",
       "      <td>6</td>\n",
       "      <td>code_rvw</td>\n",
       "      <td>admin_1</td>\n",
       "    </tr>\n",
       "    <tr>\n",
       "      <th>6</th>\n",
       "      <td>6</td>\n",
       "      <td>checking</td>\n",
       "      <td>0</td>\n",
       "      <td>2020-04-17 05:18:51.965864</td>\n",
       "      <td>1</td>\n",
       "      <td>None</td>\n",
       "      <td>None</td>\n",
       "    </tr>\n",
       "    <tr>\n",
       "      <th>7</th>\n",
       "      <td>7</td>\n",
       "      <td>ready</td>\n",
       "      <td>0</td>\n",
       "      <td>2020-04-17 05:19:02.744528</td>\n",
       "      <td>1</td>\n",
       "      <td>project1</td>\n",
       "      <td>user_4</td>\n",
       "    </tr>\n",
       "    <tr>\n",
       "      <th>8</th>\n",
       "      <td>8</td>\n",
       "      <td>checking</td>\n",
       "      <td>0</td>\n",
       "      <td>2020-04-17 05:22:35.249331</td>\n",
       "      <td>2</td>\n",
       "      <td>project1</td>\n",
       "      <td>user_4</td>\n",
       "    </tr>\n",
       "    <tr>\n",
       "      <th>9</th>\n",
       "      <td>9</td>\n",
       "      <td>ready</td>\n",
       "      <td>1</td>\n",
       "      <td>2020-04-17 05:22:45.549397</td>\n",
       "      <td>2</td>\n",
       "      <td>project1</td>\n",
       "      <td>user_4</td>\n",
       "    </tr>\n",
       "  </tbody>\n",
       "</table>\n",
       "</div>"
      ],
      "text/plain": [
       "   index    status  success                   timestamp  numTrials   labname  \\\n",
       "0      0  checking        0  2020-04-16 21:12:50.740474          5      None   \n",
       "1      1     ready        0  2020-04-16 21:12:54.708365          5  code_rvw   \n",
       "2      2  checking        0  2020-04-16 21:46:47.769088          7      None   \n",
       "3      3     ready        0  2020-04-16 21:46:48.121217          7     lab02   \n",
       "4      4  checking        0  2020-04-16 21:53:01.862637          6  code_rvw   \n",
       "5      5     ready        0  2020-04-16 21:53:05.373389          6  code_rvw   \n",
       "6      6  checking        0  2020-04-17 05:18:51.965864          1      None   \n",
       "7      7     ready        0  2020-04-17 05:19:02.744528          1  project1   \n",
       "8      8  checking        0  2020-04-17 05:22:35.249331          2  project1   \n",
       "9      9     ready        1  2020-04-17 05:22:45.549397          2  project1   \n",
       "\n",
       "       uid  \n",
       "0  admin_1  \n",
       "1  admin_1  \n",
       "2  admin_1  \n",
       "3  admin_1  \n",
       "4  admin_1  \n",
       "5  admin_1  \n",
       "6     None  \n",
       "7   user_4  \n",
       "8   user_4  \n",
       "9   user_4  "
      ]
     },
     "execution_count": 6,
     "metadata": {},
     "output_type": "execute_result"
    }
   ],
   "source": [
    "pd.io.sql.read_sql(\"select * from checker limit 10\", conn)"
   ]
  },
  {
   "cell_type": "markdown",
   "id": "f5d27830",
   "metadata": {},
   "source": [
    "## count how many rows satisfy the following conditions using only one query with any number of subqueries:"
   ]
  },
  {
   "cell_type": "code",
   "execution_count": 17,
   "id": "10e24138",
   "metadata": {},
   "outputs": [
    {
     "data": {
      "text/html": [
       "<div>\n",
       "<style scoped>\n",
       "    .dataframe tbody tr th:only-of-type {\n",
       "        vertical-align: middle;\n",
       "    }\n",
       "\n",
       "    .dataframe tbody tr th {\n",
       "        vertical-align: top;\n",
       "    }\n",
       "\n",
       "    .dataframe thead th {\n",
       "        text-align: right;\n",
       "    }\n",
       "</style>\n",
       "<table border=\"1\" class=\"dataframe\">\n",
       "  <thead>\n",
       "    <tr style=\"text-align: right;\">\n",
       "      <th></th>\n",
       "      <th>count(*)</th>\n",
       "    </tr>\n",
       "  </thead>\n",
       "  <tbody>\n",
       "    <tr>\n",
       "      <th>0</th>\n",
       "      <td>1700</td>\n",
       "    </tr>\n",
       "  </tbody>\n",
       "</table>\n",
       "</div>"
      ],
      "text/plain": [
       "   count(*)\n",
       "0      1700"
      ]
     },
     "execution_count": 17,
     "metadata": {},
     "output_type": "execute_result"
    }
   ],
   "source": [
    "pd.io.sql.read_sql(\"select count(*) from checker where status = 'ready'\", conn)"
   ]
  },
  {
   "cell_type": "code",
   "execution_count": 20,
   "id": "2354a87e",
   "metadata": {},
   "outputs": [
    {
     "data": {
      "text/html": [
       "<div>\n",
       "<style scoped>\n",
       "    .dataframe tbody tr th:only-of-type {\n",
       "        vertical-align: middle;\n",
       "    }\n",
       "\n",
       "    .dataframe tbody tr th {\n",
       "        vertical-align: top;\n",
       "    }\n",
       "\n",
       "    .dataframe thead th {\n",
       "        text-align: right;\n",
       "    }\n",
       "</style>\n",
       "<table border=\"1\" class=\"dataframe\">\n",
       "  <thead>\n",
       "    <tr style=\"text-align: right;\">\n",
       "      <th></th>\n",
       "      <th>count(*)</th>\n",
       "    </tr>\n",
       "  </thead>\n",
       "  <tbody>\n",
       "    <tr>\n",
       "      <th>0</th>\n",
       "      <td>326</td>\n",
       "    </tr>\n",
       "  </tbody>\n",
       "</table>\n",
       "</div>"
      ],
      "text/plain": [
       "   count(*)\n",
       "0       326"
      ]
     },
     "execution_count": 20,
     "metadata": {},
     "output_type": "execute_result"
    }
   ],
   "source": [
    "pd.io.sql.read_sql(\"select count(*) from checker where numTrials = 1\", conn)"
   ]
  },
  {
   "cell_type": "code",
   "execution_count": 24,
   "id": "01193f91",
   "metadata": {},
   "outputs": [],
   "source": [
    "checkers = pd.io.sql.read_sql(\"select count(*) as cnt from checker where labname in ('laba04', 'laba04s', 'laba05', 'laba06', 'laba06s', 'project1')\", conn)"
   ]
  },
  {
   "cell_type": "code",
   "execution_count": 27,
   "id": "9a141e0d",
   "metadata": {},
   "outputs": [
    {
     "data": {
      "text/html": [
       "<div>\n",
       "<style scoped>\n",
       "    .dataframe tbody tr th:only-of-type {\n",
       "        vertical-align: middle;\n",
       "    }\n",
       "\n",
       "    .dataframe tbody tr th {\n",
       "        vertical-align: top;\n",
       "    }\n",
       "\n",
       "    .dataframe thead th {\n",
       "        text-align: right;\n",
       "    }\n",
       "</style>\n",
       "<table border=\"1\" class=\"dataframe\">\n",
       "  <thead>\n",
       "    <tr style=\"text-align: right;\">\n",
       "      <th></th>\n",
       "      <th>cnt</th>\n",
       "    </tr>\n",
       "  </thead>\n",
       "  <tbody>\n",
       "    <tr>\n",
       "      <th>0</th>\n",
       "      <td>3001</td>\n",
       "    </tr>\n",
       "  </tbody>\n",
       "</table>\n",
       "</div>"
      ],
      "text/plain": [
       "    cnt\n",
       "0  3001"
      ]
     },
     "execution_count": 27,
     "metadata": {},
     "output_type": "execute_result"
    }
   ],
   "source": [
    "checkers"
   ]
  },
  {
   "cell_type": "code",
   "execution_count": 28,
   "id": "becb1383",
   "metadata": {},
   "outputs": [],
   "source": [
    "conn.close()"
   ]
  }
 ],
 "metadata": {
  "kernelspec": {
   "display_name": "Python 3",
   "language": "python",
   "name": "python3"
  },
  "language_info": {
   "codemirror_mode": {
    "name": "ipython",
    "version": 3
   },
   "file_extension": ".py",
   "mimetype": "text/x-python",
   "name": "python",
   "nbconvert_exporter": "python",
   "pygments_lexer": "ipython3",
   "version": "3.8.5"
  }
 },
 "nbformat": 4,
 "nbformat_minor": 5
}
