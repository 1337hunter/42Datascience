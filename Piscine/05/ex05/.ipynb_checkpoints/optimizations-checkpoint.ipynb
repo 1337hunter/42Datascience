{
 "cells": [
  {
   "cell_type": "code",
   "execution_count": 31,
   "id": "honey-transition",
   "metadata": {},
   "outputs": [],
   "source": [
    "import pandas as pd\n",
    "import gc"
   ]
  },
  {
   "cell_type": "markdown",
   "id": "3d44dbb4",
   "metadata": {},
   "source": [
    "## read the fines.csv that you saved in the previous exercise"
   ]
  },
  {
   "cell_type": "code",
   "execution_count": 32,
   "id": "raising-meaning",
   "metadata": {},
   "outputs": [
    {
     "name": "stdout",
     "output_type": "stream",
     "text": [
      "CPU times: user 11.1 ms, sys: 0 ns, total: 11.1 ms\n",
      "Wall time: 7.29 ms\n"
     ]
    },
    {
     "data": {
      "text/html": [
       "<div>\n",
       "<style scoped>\n",
       "    .dataframe tbody tr th:only-of-type {\n",
       "        vertical-align: middle;\n",
       "    }\n",
       "\n",
       "    .dataframe tbody tr th {\n",
       "        vertical-align: top;\n",
       "    }\n",
       "\n",
       "    .dataframe thead th {\n",
       "        text-align: right;\n",
       "    }\n",
       "</style>\n",
       "<table border=\"1\" class=\"dataframe\">\n",
       "  <thead>\n",
       "    <tr style=\"text-align: right;\">\n",
       "      <th></th>\n",
       "      <th>CarNumber</th>\n",
       "      <th>Refund</th>\n",
       "      <th>Fines</th>\n",
       "      <th>Make</th>\n",
       "      <th>Model</th>\n",
       "      <th>year</th>\n",
       "    </tr>\n",
       "  </thead>\n",
       "  <tbody>\n",
       "    <tr>\n",
       "      <th>0</th>\n",
       "      <td>Y163O8161RUS</td>\n",
       "      <td>$2.00</td>\n",
       "      <td>$3,200.00</td>\n",
       "      <td>Ford</td>\n",
       "      <td>Focus</td>\n",
       "      <td>1989</td>\n",
       "    </tr>\n",
       "    <tr>\n",
       "      <th>1</th>\n",
       "      <td>E432XX77RUS</td>\n",
       "      <td>$1.00</td>\n",
       "      <td>$6,500.00</td>\n",
       "      <td>Toyota</td>\n",
       "      <td>Camry</td>\n",
       "      <td>1995</td>\n",
       "    </tr>\n",
       "    <tr>\n",
       "      <th>2</th>\n",
       "      <td>7184TT36RUS</td>\n",
       "      <td>$1.00</td>\n",
       "      <td>$2,100.00</td>\n",
       "      <td>Ford</td>\n",
       "      <td>Focus</td>\n",
       "      <td>1984</td>\n",
       "    </tr>\n",
       "    <tr>\n",
       "      <th>3</th>\n",
       "      <td>X582HE161RUS</td>\n",
       "      <td>$2.00</td>\n",
       "      <td>$2,000.00</td>\n",
       "      <td>Ford</td>\n",
       "      <td>Focus</td>\n",
       "      <td>2015</td>\n",
       "    </tr>\n",
       "    <tr>\n",
       "      <th>4</th>\n",
       "      <td>92918M178RUS</td>\n",
       "      <td>$1.00</td>\n",
       "      <td>$5,700.00</td>\n",
       "      <td>Ford</td>\n",
       "      <td>Focus</td>\n",
       "      <td>2014</td>\n",
       "    </tr>\n",
       "    <tr>\n",
       "      <th>...</th>\n",
       "      <td>...</td>\n",
       "      <td>...</td>\n",
       "      <td>...</td>\n",
       "      <td>...</td>\n",
       "      <td>...</td>\n",
       "      <td>...</td>\n",
       "    </tr>\n",
       "    <tr>\n",
       "      <th>925</th>\n",
       "      <td>X4128E125RUS</td>\n",
       "      <td>$1.00</td>\n",
       "      <td>$1,100.00</td>\n",
       "      <td>Ford</td>\n",
       "      <td>Focus</td>\n",
       "      <td>2005</td>\n",
       "    </tr>\n",
       "    <tr>\n",
       "      <th>926</th>\n",
       "      <td>X4128F125RUS</td>\n",
       "      <td>$2.00</td>\n",
       "      <td>$18,800.00</td>\n",
       "      <td>Ford</td>\n",
       "      <td>Focus</td>\n",
       "      <td>2009</td>\n",
       "    </tr>\n",
       "    <tr>\n",
       "      <th>927</th>\n",
       "      <td>X4128G125RUS</td>\n",
       "      <td>$2.00</td>\n",
       "      <td>$8,594.59</td>\n",
       "      <td>Ford</td>\n",
       "      <td>Focus</td>\n",
       "      <td>1996</td>\n",
       "    </tr>\n",
       "    <tr>\n",
       "      <th>928</th>\n",
       "      <td>X4128H125RUS</td>\n",
       "      <td>$1.00</td>\n",
       "      <td>$800.00</td>\n",
       "      <td>Ford</td>\n",
       "      <td>Focus</td>\n",
       "      <td>2007</td>\n",
       "    </tr>\n",
       "    <tr>\n",
       "      <th>929</th>\n",
       "      <td>X4128I125RUS</td>\n",
       "      <td>$2.00</td>\n",
       "      <td>$8,594.59</td>\n",
       "      <td>Ford</td>\n",
       "      <td>Focus</td>\n",
       "      <td>1991</td>\n",
       "    </tr>\n",
       "  </tbody>\n",
       "</table>\n",
       "<p>930 rows × 6 columns</p>\n",
       "</div>"
      ],
      "text/plain": [
       "        CarNumber  Refund      Fines    Make  Model  year\n",
       "0    Y163O8161RUS   $2.00  $3,200.00    Ford  Focus  1989\n",
       "1     E432XX77RUS   $1.00  $6,500.00  Toyota  Camry  1995\n",
       "2     7184TT36RUS   $1.00  $2,100.00    Ford  Focus  1984\n",
       "3    X582HE161RUS   $2.00  $2,000.00    Ford  Focus  2015\n",
       "4    92918M178RUS   $1.00  $5,700.00    Ford  Focus  2014\n",
       "..            ...     ...        ...     ...    ...   ...\n",
       "925  X4128E125RUS   $1.00  $1,100.00    Ford  Focus  2005\n",
       "926  X4128F125RUS   $2.00 $18,800.00    Ford  Focus  2009\n",
       "927  X4128G125RUS   $2.00  $8,594.59    Ford  Focus  1996\n",
       "928  X4128H125RUS   $1.00    $800.00    Ford  Focus  2007\n",
       "929  X4128I125RUS   $2.00  $8,594.59    Ford  Focus  1991\n",
       "\n",
       "[930 rows x 6 columns]"
      ]
     },
     "execution_count": 32,
     "metadata": {},
     "output_type": "execute_result"
    }
   ],
   "source": [
    "%%time\n",
    "df = pd.read_csv(\"../ex04/data/fines.csv\")\n",
    "pd.options.display.float_format = '${:,.2f}'.format\n",
    "df"
   ]
  },
  {
   "cell_type": "markdown",
   "id": "a1ddae1e",
   "metadata": {},
   "source": [
    "## iterations: in all the following subtasks, you need to calculate fines/refund*year for each row and create a new column with the calculated data and measure the time using the magic command %%timeit in the cell"
   ]
  },
  {
   "cell_type": "code",
   "execution_count": 33,
   "id": "posted-beginning",
   "metadata": {},
   "outputs": [
    {
     "name": "stdout",
     "output_type": "stream",
     "text": [
      "CPU times: user 555 ms, sys: 0 ns, total: 555 ms\n",
      "Wall time: 553 ms\n"
     ]
    }
   ],
   "source": [
    "%%time\n",
    "rez = []\n",
    "for i in range(0, len(df)):\n",
    "    rez.append(df.iloc[i][2] / df.iloc[i][1] * df.iloc[i][5])\n",
    "df['new column'] = rez"
   ]
  },
  {
   "cell_type": "code",
   "execution_count": 34,
   "id": "binary-source",
   "metadata": {},
   "outputs": [
    {
     "name": "stdout",
     "output_type": "stream",
     "text": [
      "CPU times: user 116 ms, sys: 174 µs, total: 116 ms\n",
      "Wall time: 113 ms\n"
     ]
    }
   ],
   "source": [
    "%%time\n",
    "rez = []\n",
    "for x in df.iterrows():\n",
    "    rez.append(x[1][2] /  x[1][1] * x[1][5])\n",
    "df['new column'] = rez   "
   ]
  },
  {
   "cell_type": "code",
   "execution_count": 35,
   "id": "interracial-poster",
   "metadata": {},
   "outputs": [
    {
     "name": "stdout",
     "output_type": "stream",
     "text": [
      "CPU times: user 15.8 ms, sys: 7.53 ms, total: 23.3 ms\n",
      "Wall time: 21.6 ms\n"
     ]
    }
   ],
   "source": [
    "%%time\n",
    "rez = df.apply(lambda x: x[2] /  x[1] * x[5], axis='columns', result_type='expand')\n",
    "df['new column'] = rez"
   ]
  },
  {
   "cell_type": "code",
   "execution_count": 36,
   "id": "simple-dictionary",
   "metadata": {},
   "outputs": [
    {
     "name": "stdout",
     "output_type": "stream",
     "text": [
      "CPU times: user 1.15 ms, sys: 143 µs, total: 1.3 ms\n",
      "Wall time: 1.12 ms\n"
     ]
    }
   ],
   "source": [
    "%%time\n",
    "df['new column'] =  (df[df.columns[2]].multiply(df[df.columns[5]])).divide(df[df.columns[1]])"
   ]
  },
  {
   "cell_type": "code",
   "execution_count": 37,
   "id": "capital-algebra",
   "metadata": {},
   "outputs": [
    {
     "name": "stdout",
     "output_type": "stream",
     "text": [
      "CPU times: user 1.38 ms, sys: 150 µs, total: 1.53 ms\n",
      "Wall time: 1.31 ms\n"
     ]
    }
   ],
   "source": [
    "%%time\n",
    "df['new column'] = df[df.columns[2]].values * df[df.columns[5]].values / df[df.columns[1]]"
   ]
  },
  {
   "cell_type": "markdown",
   "id": "97f4638d",
   "metadata": {},
   "source": [
    "## indexing: measure the time using the magic command %%timeit in the cell"
   ]
  },
  {
   "cell_type": "code",
   "execution_count": 38,
   "id": "federal-monitoring",
   "metadata": {},
   "outputs": [
    {
     "name": "stdout",
     "output_type": "stream",
     "text": [
      "CPU times: user 0 ns, sys: 1.21 ms, total: 1.21 ms\n",
      "Wall time: 1.09 ms\n"
     ]
    }
   ],
   "source": [
    "%%time\n",
    "rez = df[df[\"CarNumber\"] == 'O136HO197RUS']"
   ]
  },
  {
   "cell_type": "code",
   "execution_count": 39,
   "id": "developmental-participation",
   "metadata": {},
   "outputs": [],
   "source": [
    "df.set_index('CarNumber', inplace=True)"
   ]
  },
  {
   "cell_type": "code",
   "execution_count": 40,
   "id": "instant-taxation",
   "metadata": {},
   "outputs": [
    {
     "name": "stdout",
     "output_type": "stream",
     "text": [
      "CPU times: user 1.24 ms, sys: 154 µs, total: 1.4 ms\n",
      "Wall time: 1.35 ms\n"
     ]
    }
   ],
   "source": [
    "%%time\n",
    "rez = df[df.index == 'O136HO197RUS']"
   ]
  },
  {
   "cell_type": "markdown",
   "id": "b1e70c56",
   "metadata": {},
   "source": [
    "## downcasting:"
   ]
  },
  {
   "cell_type": "code",
   "execution_count": 41,
   "id": "viral-process",
   "metadata": {},
   "outputs": [
    {
     "name": "stdout",
     "output_type": "stream",
     "text": [
      "<class 'pandas.core.frame.DataFrame'>\n",
      "Index: 930 entries, Y163O8161RUS to X4128I125RUS\n",
      "Data columns (total 6 columns):\n",
      " #   Column      Non-Null Count  Dtype  \n",
      "---  ------      --------------  -----  \n",
      " 0   Refund      930 non-null    float64\n",
      " 1   Fines       930 non-null    float64\n",
      " 2   Make        930 non-null    object \n",
      " 3   Model       919 non-null    object \n",
      " 4   year        930 non-null    int64  \n",
      " 5   new column  930 non-null    float64\n",
      "dtypes: float64(3), int64(1), object(2)\n",
      "memory usage: 203.7 KB\n"
     ]
    }
   ],
   "source": [
    "df.info(memory_usage='deep')"
   ]
  },
  {
   "cell_type": "code",
   "execution_count": 42,
   "id": "widespread-fairy",
   "metadata": {},
   "outputs": [
    {
     "name": "stdout",
     "output_type": "stream",
     "text": [
      "<class 'pandas.core.frame.DataFrame'>\n",
      "Index: 930 entries, Y163O8161RUS to X4128I125RUS\n",
      "Data columns (total 6 columns):\n",
      " #   Column      Non-Null Count  Dtype  \n",
      "---  ------      --------------  -----  \n",
      " 0   Refund      930 non-null    float32\n",
      " 1   Fines       930 non-null    float32\n",
      " 2   Make        930 non-null    object \n",
      " 3   Model       919 non-null    object \n",
      " 4   year        930 non-null    uint16 \n",
      " 5   new column  930 non-null    float32\n",
      "dtypes: float32(3), object(2), uint16(1)\n",
      "memory usage: 187.3 KB\n"
     ]
    }
   ],
   "source": [
    "newone = df.copy()\n",
    "# newone.astype({\"Refund\":\"Float32\", \"Fines\":pd.Float32})\n",
    "newone['Refund'] =  pd.to_numeric(df[\"Refund\"], downcast=\"float\")\n",
    "newone['Fines'] =  pd.to_numeric(df[\"Fines\"], downcast=\"float\")\n",
    "newone['new column'] =  pd.to_numeric(df[\"new column\"], downcast=\"float\")\n",
    "newone['year'] =  pd.to_numeric(df[\"year\"], downcast=\"unsigned\")\n",
    "newone.info(memory_usage='deep')"
   ]
  },
  {
   "cell_type": "markdown",
   "id": "d6cee824",
   "metadata": {},
   "source": [
    "## categories"
   ]
  },
  {
   "cell_type": "code",
   "execution_count": 43,
   "id": "centered-cisco",
   "metadata": {},
   "outputs": [
    {
     "name": "stdout",
     "output_type": "stream",
     "text": [
      "<class 'pandas.core.frame.DataFrame'>\n",
      "Index: 930 entries, Y163O8161RUS to X4128I125RUS\n",
      "Data columns (total 6 columns):\n",
      " #   Column      Non-Null Count  Dtype   \n",
      "---  ------      --------------  -----   \n",
      " 0   Refund      930 non-null    float32 \n",
      " 1   Fines       930 non-null    float32 \n",
      " 2   Make        930 non-null    object  \n",
      " 3   Model       919 non-null    category\n",
      " 4   year        930 non-null    uint16  \n",
      " 5   new column  930 non-null    float32 \n",
      "dtypes: category(1), float32(3), object(1), uint16(1)\n",
      "memory usage: 132.9 KB\n"
     ]
    }
   ],
   "source": [
    "newone['Model'] = newone['Model'].astype('category')\n",
    "newone['Model'] = newone['Model'].astype('category')\n",
    "newone.info(memory_usage='deep')"
   ]
  },
  {
   "cell_type": "markdown",
   "id": "f867dcc6",
   "metadata": {},
   "source": [
    "## memory clean"
   ]
  },
  {
   "cell_type": "code",
   "execution_count": 44,
   "id": "enclosed-bangladesh",
   "metadata": {},
   "outputs": [
    {
     "data": {
      "text/plain": [
       "40"
      ]
     },
     "execution_count": 44,
     "metadata": {},
     "output_type": "execute_result"
    }
   ],
   "source": [
    "%reset_selective -f df\n",
    "gc.collect()"
   ]
  },
  {
   "cell_type": "code",
   "execution_count": 45,
   "id": "fatal-choice",
   "metadata": {},
   "outputs": [
    {
     "ename": "NameError",
     "evalue": "name 'df' is not defined",
     "output_type": "error",
     "traceback": [
      "\u001b[0;31m---------------------------------------------------------------------------\u001b[0m",
      "\u001b[0;31mNameError\u001b[0m                                 Traceback (most recent call last)",
      "\u001b[0;32m<ipython-input-45-00cf07b74dcd>\u001b[0m in \u001b[0;36m<module>\u001b[0;34m\u001b[0m\n\u001b[0;32m----> 1\u001b[0;31m \u001b[0mdf\u001b[0m\u001b[0;34m\u001b[0m\u001b[0;34m\u001b[0m\u001b[0m\n\u001b[0m",
      "\u001b[0;31mNameError\u001b[0m: name 'df' is not defined"
     ]
    }
   ],
   "source": [
    "df"
   ]
  },
  {
   "cell_type": "code",
   "execution_count": null,
   "id": "environmental-literature",
   "metadata": {},
   "outputs": [],
   "source": []
  }
 ],
 "metadata": {
  "kernelspec": {
   "display_name": "Python 3",
   "language": "python",
   "name": "python3"
  },
  "language_info": {
   "codemirror_mode": {
    "name": "ipython",
    "version": 3
   },
   "file_extension": ".py",
   "mimetype": "text/x-python",
   "name": "python",
   "nbconvert_exporter": "python",
   "pygments_lexer": "ipython3",
   "version": "3.8.5"
  }
 },
 "nbformat": 4,
 "nbformat_minor": 5
}
