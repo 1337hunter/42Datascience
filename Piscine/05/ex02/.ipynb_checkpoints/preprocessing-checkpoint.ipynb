{
 "cells": [
  {
   "cell_type": "code",
   "execution_count": 10,
   "id": "honey-transition",
   "metadata": {},
   "outputs": [],
   "source": [
    "import pandas as pd"
   ]
  },
  {
   "cell_type": "markdown",
   "id": "35af64c3",
   "metadata": {},
   "source": [
    "## read the CSV file and make ID the index column"
   ]
  },
  {
   "cell_type": "code",
   "execution_count": 11,
   "id": "above-narrative",
   "metadata": {},
   "outputs": [
    {
     "data": {
      "text/html": [
       "<div>\n",
       "<style scoped>\n",
       "    .dataframe tbody tr th:only-of-type {\n",
       "        vertical-align: middle;\n",
       "    }\n",
       "\n",
       "    .dataframe tbody tr th {\n",
       "        vertical-align: top;\n",
       "    }\n",
       "\n",
       "    .dataframe thead th {\n",
       "        text-align: right;\n",
       "    }\n",
       "</style>\n",
       "<table border=\"1\" class=\"dataframe\">\n",
       "  <thead>\n",
       "    <tr style=\"text-align: right;\">\n",
       "      <th></th>\n",
       "      <th>CarNumber</th>\n",
       "      <th>Make_n_model</th>\n",
       "      <th>Refund</th>\n",
       "      <th>Fines</th>\n",
       "      <th>History</th>\n",
       "    </tr>\n",
       "    <tr>\n",
       "      <th>ID</th>\n",
       "      <th></th>\n",
       "      <th></th>\n",
       "      <th></th>\n",
       "      <th></th>\n",
       "      <th></th>\n",
       "    </tr>\n",
       "  </thead>\n",
       "  <tbody>\n",
       "    <tr>\n",
       "      <th>0</th>\n",
       "      <td>Y163O8161RUS</td>\n",
       "      <td>Ford Focus</td>\n",
       "      <td>2.0</td>\n",
       "      <td>3200.0</td>\n",
       "      <td>NaN</td>\n",
       "    </tr>\n",
       "    <tr>\n",
       "      <th>1</th>\n",
       "      <td>E432XX77RUS</td>\n",
       "      <td>Toyota Camry</td>\n",
       "      <td>1.0</td>\n",
       "      <td>6500.0</td>\n",
       "      <td>NaN</td>\n",
       "    </tr>\n",
       "    <tr>\n",
       "      <th>2</th>\n",
       "      <td>7184TT36RUS</td>\n",
       "      <td>Ford Focus</td>\n",
       "      <td>1.0</td>\n",
       "      <td>2100.0</td>\n",
       "      <td>NaN</td>\n",
       "    </tr>\n",
       "    <tr>\n",
       "      <th>3</th>\n",
       "      <td>X582HE161RUS</td>\n",
       "      <td>Ford Focus</td>\n",
       "      <td>2.0</td>\n",
       "      <td>2000.0</td>\n",
       "      <td>NaN</td>\n",
       "    </tr>\n",
       "    <tr>\n",
       "      <th>4</th>\n",
       "      <td>E34877152RUS</td>\n",
       "      <td>Ford Focus</td>\n",
       "      <td>2.0</td>\n",
       "      <td>6100.0</td>\n",
       "      <td>NaN</td>\n",
       "    </tr>\n",
       "    <tr>\n",
       "      <th>...</th>\n",
       "      <td>...</td>\n",
       "      <td>...</td>\n",
       "      <td>...</td>\n",
       "      <td>...</td>\n",
       "      <td>...</td>\n",
       "    </tr>\n",
       "    <tr>\n",
       "      <th>926</th>\n",
       "      <td>Y163O8161RUS</td>\n",
       "      <td>Ford Focus</td>\n",
       "      <td>2.0</td>\n",
       "      <td>1600.0</td>\n",
       "      <td>NaN</td>\n",
       "    </tr>\n",
       "    <tr>\n",
       "      <th>927</th>\n",
       "      <td>M0309X197RUS</td>\n",
       "      <td>Ford Focus</td>\n",
       "      <td>1.0</td>\n",
       "      <td>22300.0</td>\n",
       "      <td>NaN</td>\n",
       "    </tr>\n",
       "    <tr>\n",
       "      <th>928</th>\n",
       "      <td>O673E8197RUS</td>\n",
       "      <td>Ford Focus</td>\n",
       "      <td>2.0</td>\n",
       "      <td>600.0</td>\n",
       "      <td>NaN</td>\n",
       "    </tr>\n",
       "    <tr>\n",
       "      <th>929</th>\n",
       "      <td>8610T8154RUS</td>\n",
       "      <td>Ford Focus</td>\n",
       "      <td>1.0</td>\n",
       "      <td>2000.0</td>\n",
       "      <td>NaN</td>\n",
       "    </tr>\n",
       "    <tr>\n",
       "      <th>930</th>\n",
       "      <td>H419XE197RUS</td>\n",
       "      <td>Toyota Corolla</td>\n",
       "      <td>2.0</td>\n",
       "      <td>NaN</td>\n",
       "      <td>2.0</td>\n",
       "    </tr>\n",
       "  </tbody>\n",
       "</table>\n",
       "<p>931 rows × 5 columns</p>\n",
       "</div>"
      ],
      "text/plain": [
       "        CarNumber    Make_n_model  Refund    Fines  History\n",
       "ID                                                         \n",
       "0    Y163O8161RUS      Ford Focus     2.0   3200.0      NaN\n",
       "1     E432XX77RUS    Toyota Camry     1.0   6500.0      NaN\n",
       "2     7184TT36RUS      Ford Focus     1.0   2100.0      NaN\n",
       "3    X582HE161RUS      Ford Focus     2.0   2000.0      NaN\n",
       "4    E34877152RUS      Ford Focus     2.0   6100.0      NaN\n",
       "..            ...             ...     ...      ...      ...\n",
       "926  Y163O8161RUS      Ford Focus     2.0   1600.0      NaN\n",
       "927  M0309X197RUS      Ford Focus     1.0  22300.0      NaN\n",
       "928  O673E8197RUS      Ford Focus     2.0    600.0      NaN\n",
       "929  8610T8154RUS      Ford Focus     1.0   2000.0      NaN\n",
       "930  H419XE197RUS  Toyota Corolla     2.0      NaN      2.0\n",
       "\n",
       "[931 rows x 5 columns]"
      ]
     },
     "execution_count": 11,
     "metadata": {},
     "output_type": "execute_result"
    }
   ],
   "source": [
    "df = pd.read_csv(\"./data/auto.csv\")\n",
    "df.set_index('ID', inplace=True)\n",
    "df"
   ]
  },
  {
   "cell_type": "markdown",
   "id": "ec3cef9a",
   "metadata": {},
   "source": [
    "## count the number of observations using the method count()"
   ]
  },
  {
   "cell_type": "code",
   "execution_count": 12,
   "id": "middle-pacific",
   "metadata": {},
   "outputs": [
    {
     "data": {
      "text/plain": [
       "CarNumber       931\n",
       "Make_n_model    931\n",
       "Refund          914\n",
       "Fines           869\n",
       "History          82\n",
       "dtype: int64"
      ]
     },
     "execution_count": 12,
     "metadata": {},
     "output_type": "execute_result"
    }
   ],
   "source": [
    "df.count()"
   ]
  },
  {
   "cell_type": "markdown",
   "id": "2ffd7d4c",
   "metadata": {},
   "source": [
    "## drop the duplicates, taking into account only the following columns: CarNumber, Make_n_model, Fines"
   ]
  },
  {
   "cell_type": "code",
   "execution_count": 13,
   "id": "purple-darwin",
   "metadata": {},
   "outputs": [
    {
     "data": {
      "text/plain": [
       "CarNumber       725\n",
       "Make_n_model    725\n",
       "Refund          713\n",
       "Fines           665\n",
       "History          65\n",
       "dtype: int64"
      ]
     },
     "execution_count": 13,
     "metadata": {},
     "output_type": "execute_result"
    }
   ],
   "source": [
    "df.drop_duplicates(subset=['CarNumber', 'Make_n_model', 'Fines'], keep='last', inplace=True)\n",
    "df.count()"
   ]
  },
  {
   "cell_type": "markdown",
   "id": "5f5c4748",
   "metadata": {},
   "source": [
    "## work with missing values"
   ]
  },
  {
   "cell_type": "code",
   "execution_count": 14,
   "id": "sexual-positive",
   "metadata": {},
   "outputs": [
    {
     "name": "stdout",
     "output_type": "stream",
     "text": [
      " number of missing values in CarNumber: 0\n",
      " number of missing values in Make_n_model: 0\n",
      " number of missing values in Refund: 12\n",
      " number of missing values in Fines: 60\n",
      " number of missing values in History: 660\n",
      "Total number of missing values: 732\n",
      "Total number of missing values after column drop: 72\n",
      "Total number of missing values after Refund clear: 60\n",
      "Total number of missing values: 0\n"
     ]
    }
   ],
   "source": [
    "print(\" number of missing values in CarNumber:\", df['CarNumber'].isnull().sum())\n",
    "print(\" number of missing values in Make_n_model:\", df['Make_n_model'].isnull().sum())\n",
    "print(\" number of missing values in Refund:\", df['Refund'].isnull().sum())\n",
    "print(\" number of missing values in Fines:\", df['Fines'].isnull().sum())\n",
    "print(\" number of missing values in History:\", df['History'].isnull().sum())\n",
    "print(\"Total number of missing values:\", df.isnull().sum().sum())\n",
    "df = df[df.columns[df.isnull().sum() < 500]]\n",
    "print(\"Total number of missing values after column drop:\", df.isnull().sum().sum())\n",
    "newfd = df.copy()\n",
    "newfd['Refund']  = df['Refund'].fillna(method='ffill').copy()\n",
    "df = newfd\n",
    "print(\"Total number of missing values after Refund clear:\", df.isnull().sum().sum())\n",
    "column = df['Fines'].dropna().copy()\n",
    "mean = column.mean()\n",
    "column = df['Fines'].copy()\n",
    "df['Fines'] = column.fillna(value=mean)\n",
    "print(\"Total number of missing values:\", df.isnull().sum().sum())"
   ]
  },
  {
   "cell_type": "code",
   "execution_count": null,
   "id": "fixed-owner",
   "metadata": {},
   "outputs": [],
   "source": []
  },
  {
   "cell_type": "markdown",
   "id": "bf150e8c",
   "metadata": {},
   "source": [
    "## split and parse the make and model"
   ]
  },
  {
   "cell_type": "code",
   "execution_count": 15,
   "id": "acceptable-village",
   "metadata": {},
   "outputs": [
    {
     "data": {
      "text/html": [
       "<div>\n",
       "<style scoped>\n",
       "    .dataframe tbody tr th:only-of-type {\n",
       "        vertical-align: middle;\n",
       "    }\n",
       "\n",
       "    .dataframe tbody tr th {\n",
       "        vertical-align: top;\n",
       "    }\n",
       "\n",
       "    .dataframe thead th {\n",
       "        text-align: right;\n",
       "    }\n",
       "</style>\n",
       "<table border=\"1\" class=\"dataframe\">\n",
       "  <thead>\n",
       "    <tr style=\"text-align: right;\">\n",
       "      <th></th>\n",
       "      <th>CarNumber</th>\n",
       "      <th>Refund</th>\n",
       "      <th>Fines</th>\n",
       "      <th>Make</th>\n",
       "      <th>Model</th>\n",
       "    </tr>\n",
       "    <tr>\n",
       "      <th>ID</th>\n",
       "      <th></th>\n",
       "      <th></th>\n",
       "      <th></th>\n",
       "      <th></th>\n",
       "      <th></th>\n",
       "    </tr>\n",
       "  </thead>\n",
       "  <tbody>\n",
       "    <tr>\n",
       "      <th>0</th>\n",
       "      <td>Y163O8161RUS</td>\n",
       "      <td>2.0</td>\n",
       "      <td>3200.000000</td>\n",
       "      <td>Ford</td>\n",
       "      <td>Focus</td>\n",
       "    </tr>\n",
       "    <tr>\n",
       "      <th>1</th>\n",
       "      <td>E432XX77RUS</td>\n",
       "      <td>1.0</td>\n",
       "      <td>6500.000000</td>\n",
       "      <td>Toyota</td>\n",
       "      <td>Camry</td>\n",
       "    </tr>\n",
       "    <tr>\n",
       "      <th>2</th>\n",
       "      <td>7184TT36RUS</td>\n",
       "      <td>1.0</td>\n",
       "      <td>2100.000000</td>\n",
       "      <td>Ford</td>\n",
       "      <td>Focus</td>\n",
       "    </tr>\n",
       "    <tr>\n",
       "      <th>3</th>\n",
       "      <td>X582HE161RUS</td>\n",
       "      <td>2.0</td>\n",
       "      <td>2000.000000</td>\n",
       "      <td>Ford</td>\n",
       "      <td>Focus</td>\n",
       "    </tr>\n",
       "    <tr>\n",
       "      <th>5</th>\n",
       "      <td>92918M178RUS</td>\n",
       "      <td>1.0</td>\n",
       "      <td>5700.000000</td>\n",
       "      <td>Ford</td>\n",
       "      <td>Focus</td>\n",
       "    </tr>\n",
       "    <tr>\n",
       "      <th>...</th>\n",
       "      <td>...</td>\n",
       "      <td>...</td>\n",
       "      <td>...</td>\n",
       "      <td>...</td>\n",
       "      <td>...</td>\n",
       "    </tr>\n",
       "    <tr>\n",
       "      <th>926</th>\n",
       "      <td>Y163O8161RUS</td>\n",
       "      <td>2.0</td>\n",
       "      <td>1600.000000</td>\n",
       "      <td>Ford</td>\n",
       "      <td>Focus</td>\n",
       "    </tr>\n",
       "    <tr>\n",
       "      <th>927</th>\n",
       "      <td>M0309X197RUS</td>\n",
       "      <td>1.0</td>\n",
       "      <td>22300.000000</td>\n",
       "      <td>Ford</td>\n",
       "      <td>Focus</td>\n",
       "    </tr>\n",
       "    <tr>\n",
       "      <th>928</th>\n",
       "      <td>O673E8197RUS</td>\n",
       "      <td>2.0</td>\n",
       "      <td>600.000000</td>\n",
       "      <td>Ford</td>\n",
       "      <td>Focus</td>\n",
       "    </tr>\n",
       "    <tr>\n",
       "      <th>929</th>\n",
       "      <td>8610T8154RUS</td>\n",
       "      <td>1.0</td>\n",
       "      <td>2000.000000</td>\n",
       "      <td>Ford</td>\n",
       "      <td>Focus</td>\n",
       "    </tr>\n",
       "    <tr>\n",
       "      <th>930</th>\n",
       "      <td>H419XE197RUS</td>\n",
       "      <td>2.0</td>\n",
       "      <td>8594.586466</td>\n",
       "      <td>Toyota</td>\n",
       "      <td>Corolla</td>\n",
       "    </tr>\n",
       "  </tbody>\n",
       "</table>\n",
       "<p>725 rows × 5 columns</p>\n",
       "</div>"
      ],
      "text/plain": [
       "        CarNumber  Refund         Fines    Make    Model\n",
       "ID                                                      \n",
       "0    Y163O8161RUS     2.0   3200.000000    Ford    Focus\n",
       "1     E432XX77RUS     1.0   6500.000000  Toyota    Camry\n",
       "2     7184TT36RUS     1.0   2100.000000    Ford    Focus\n",
       "3    X582HE161RUS     2.0   2000.000000    Ford    Focus\n",
       "5    92918M178RUS     1.0   5700.000000    Ford    Focus\n",
       "..            ...     ...           ...     ...      ...\n",
       "926  Y163O8161RUS     2.0   1600.000000    Ford    Focus\n",
       "927  M0309X197RUS     1.0  22300.000000    Ford    Focus\n",
       "928  O673E8197RUS     2.0    600.000000    Ford    Focus\n",
       "929  8610T8154RUS     1.0   2000.000000    Ford    Focus\n",
       "930  H419XE197RUS     2.0   8594.586466  Toyota  Corolla\n",
       "\n",
       "[725 rows x 5 columns]"
      ]
     },
     "execution_count": 15,
     "metadata": {},
     "output_type": "execute_result"
    }
   ],
   "source": [
    "#p = lambda x: (lambda x: x[0])(x.split())\n",
    "columns  = df['Make_n_model'].apply(lambda x: (lambda x: pd.Series([x[0], x[1] if len(x) > 1 else pd.NA], index=['Make', 'Model']))(x.split()))\n",
    "df['Make'] = columns['Make']\n",
    "df['Model'] = columns['Model']\n",
    "df.drop(columns=['Make_n_model'], inplace=True)\n",
    "df"
   ]
  },
  {
   "cell_type": "code",
   "execution_count": 17,
   "id": "latest-representative",
   "metadata": {},
   "outputs": [],
   "source": [
    "df.to_json('./data/auto.json', orient=\"records\")\n"
   ]
  },
  {
   "cell_type": "code",
   "execution_count": null,
   "id": "b61772c0",
   "metadata": {},
   "outputs": [],
   "source": []
  }
 ],
 "metadata": {
  "kernelspec": {
   "display_name": "Python 3",
   "language": "python",
   "name": "python3"
  },
  "language_info": {
   "codemirror_mode": {
    "name": "ipython",
    "version": 3
   },
   "file_extension": ".py",
   "mimetype": "text/x-python",
   "name": "python",
   "nbconvert_exporter": "python",
   "pygments_lexer": "ipython3",
   "version": "3.8.5"
  }
 },
 "nbformat": 4,
 "nbformat_minor": 5
}
