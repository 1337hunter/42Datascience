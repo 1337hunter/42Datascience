{
 "cells": [
  {
   "cell_type": "markdown",
   "metadata": {},
   "source": [
    "# Day 09. Exercise 02\n",
    "# Metrics"
   ]
  },
  {
   "cell_type": "markdown",
   "metadata": {},
   "source": [
    "## 0. Imports"
   ]
  },
  {
   "cell_type": "code",
   "execution_count": 2,
   "metadata": {},
   "outputs": [],
   "source": [
    "import pandas as pd\n",
    "from sklearn.svm import SVC\n",
    "from sklearn.tree import DecisionTreeClassifier\n",
    "from sklearn.ensemble import RandomForestClassifier\n",
    "from sklearn.model_selection import GridSearchCV\n",
    "from sklearn.model_selection import KFold\n",
    "from sklearn.model_selection import train_test_split\n",
    "from sklearn.model_selection import cross_val_score\n",
    "from sklearn.metrics import mean_squared_error\n",
    "from sklearn.metrics import accuracy_score\n",
    "from sklearn.model_selection import cross_val_score\n",
    "from sklearn.metrics import precision_score\n",
    "from sklearn.metrics import recall_score\n",
    "from sklearn.metrics import roc_auc_score\n",
    "from joblib import dump, load\n",
    "from tqdm.notebook import trange, tqdm\n",
    "import numpy as np"
   ]
  },
  {
   "cell_type": "markdown",
   "metadata": {},
   "source": [
    "## 1. Preprocessing"
   ]
  },
  {
   "cell_type": "markdown",
   "metadata": {},
   "source": [
    "1. Create the same dataframe as in the previous exercise.\n",
    "2. Using `train_test_split` with parameters `test_size=0.2`, `random_state=21` get `X_train`, `y_train`, `X_test`, `y_test`. Use the additional parameter `stratify`."
   ]
  },
  {
   "cell_type": "code",
   "execution_count": 3,
   "metadata": {},
   "outputs": [
    {
     "data": {
      "text/html": [
       "<div>\n",
       "<style scoped>\n",
       "    .dataframe tbody tr th:only-of-type {\n",
       "        vertical-align: middle;\n",
       "    }\n",
       "\n",
       "    .dataframe tbody tr th {\n",
       "        vertical-align: top;\n",
       "    }\n",
       "\n",
       "    .dataframe thead th {\n",
       "        text-align: right;\n",
       "    }\n",
       "</style>\n",
       "<table border=\"1\" class=\"dataframe\">\n",
       "  <thead>\n",
       "    <tr style=\"text-align: right;\">\n",
       "      <th></th>\n",
       "      <th>numTrials</th>\n",
       "      <th>hour</th>\n",
       "      <th>dayofweek</th>\n",
       "      <th>uid_user_0</th>\n",
       "      <th>uid_user_1</th>\n",
       "      <th>uid_user_10</th>\n",
       "      <th>uid_user_11</th>\n",
       "      <th>uid_user_12</th>\n",
       "      <th>uid_user_13</th>\n",
       "      <th>uid_user_14</th>\n",
       "      <th>...</th>\n",
       "      <th>labname_lab02</th>\n",
       "      <th>labname_lab03</th>\n",
       "      <th>labname_lab03s</th>\n",
       "      <th>labname_lab05s</th>\n",
       "      <th>labname_laba04</th>\n",
       "      <th>labname_laba04s</th>\n",
       "      <th>labname_laba05</th>\n",
       "      <th>labname_laba06</th>\n",
       "      <th>labname_laba06s</th>\n",
       "      <th>labname_project1</th>\n",
       "    </tr>\n",
       "  </thead>\n",
       "  <tbody>\n",
       "    <tr>\n",
       "      <th>0</th>\n",
       "      <td>1</td>\n",
       "      <td>5</td>\n",
       "      <td>4</td>\n",
       "      <td>0.0</td>\n",
       "      <td>0.0</td>\n",
       "      <td>0.0</td>\n",
       "      <td>0.0</td>\n",
       "      <td>0.0</td>\n",
       "      <td>0.0</td>\n",
       "      <td>0.0</td>\n",
       "      <td>...</td>\n",
       "      <td>0.0</td>\n",
       "      <td>0.0</td>\n",
       "      <td>0.0</td>\n",
       "      <td>0.0</td>\n",
       "      <td>0.0</td>\n",
       "      <td>0.0</td>\n",
       "      <td>0.0</td>\n",
       "      <td>0.0</td>\n",
       "      <td>0.0</td>\n",
       "      <td>1.0</td>\n",
       "    </tr>\n",
       "    <tr>\n",
       "      <th>1</th>\n",
       "      <td>2</td>\n",
       "      <td>5</td>\n",
       "      <td>4</td>\n",
       "      <td>0.0</td>\n",
       "      <td>0.0</td>\n",
       "      <td>0.0</td>\n",
       "      <td>0.0</td>\n",
       "      <td>0.0</td>\n",
       "      <td>0.0</td>\n",
       "      <td>0.0</td>\n",
       "      <td>...</td>\n",
       "      <td>0.0</td>\n",
       "      <td>0.0</td>\n",
       "      <td>0.0</td>\n",
       "      <td>0.0</td>\n",
       "      <td>0.0</td>\n",
       "      <td>0.0</td>\n",
       "      <td>0.0</td>\n",
       "      <td>0.0</td>\n",
       "      <td>0.0</td>\n",
       "      <td>1.0</td>\n",
       "    </tr>\n",
       "    <tr>\n",
       "      <th>2</th>\n",
       "      <td>3</td>\n",
       "      <td>5</td>\n",
       "      <td>4</td>\n",
       "      <td>0.0</td>\n",
       "      <td>0.0</td>\n",
       "      <td>0.0</td>\n",
       "      <td>0.0</td>\n",
       "      <td>0.0</td>\n",
       "      <td>0.0</td>\n",
       "      <td>0.0</td>\n",
       "      <td>...</td>\n",
       "      <td>0.0</td>\n",
       "      <td>0.0</td>\n",
       "      <td>0.0</td>\n",
       "      <td>0.0</td>\n",
       "      <td>0.0</td>\n",
       "      <td>0.0</td>\n",
       "      <td>0.0</td>\n",
       "      <td>0.0</td>\n",
       "      <td>0.0</td>\n",
       "      <td>1.0</td>\n",
       "    </tr>\n",
       "    <tr>\n",
       "      <th>3</th>\n",
       "      <td>4</td>\n",
       "      <td>5</td>\n",
       "      <td>4</td>\n",
       "      <td>0.0</td>\n",
       "      <td>0.0</td>\n",
       "      <td>0.0</td>\n",
       "      <td>0.0</td>\n",
       "      <td>0.0</td>\n",
       "      <td>0.0</td>\n",
       "      <td>0.0</td>\n",
       "      <td>...</td>\n",
       "      <td>0.0</td>\n",
       "      <td>0.0</td>\n",
       "      <td>0.0</td>\n",
       "      <td>0.0</td>\n",
       "      <td>0.0</td>\n",
       "      <td>0.0</td>\n",
       "      <td>0.0</td>\n",
       "      <td>0.0</td>\n",
       "      <td>0.0</td>\n",
       "      <td>1.0</td>\n",
       "    </tr>\n",
       "    <tr>\n",
       "      <th>4</th>\n",
       "      <td>5</td>\n",
       "      <td>5</td>\n",
       "      <td>4</td>\n",
       "      <td>0.0</td>\n",
       "      <td>0.0</td>\n",
       "      <td>0.0</td>\n",
       "      <td>0.0</td>\n",
       "      <td>0.0</td>\n",
       "      <td>0.0</td>\n",
       "      <td>0.0</td>\n",
       "      <td>...</td>\n",
       "      <td>0.0</td>\n",
       "      <td>0.0</td>\n",
       "      <td>0.0</td>\n",
       "      <td>0.0</td>\n",
       "      <td>0.0</td>\n",
       "      <td>0.0</td>\n",
       "      <td>0.0</td>\n",
       "      <td>0.0</td>\n",
       "      <td>0.0</td>\n",
       "      <td>1.0</td>\n",
       "    </tr>\n",
       "  </tbody>\n",
       "</table>\n",
       "<p>5 rows × 44 columns</p>\n",
       "</div>"
      ],
      "text/plain": [
       "   numTrials  hour  dayofweek  uid_user_0  uid_user_1  uid_user_10  \\\n",
       "0          1     5          4         0.0         0.0          0.0   \n",
       "1          2     5          4         0.0         0.0          0.0   \n",
       "2          3     5          4         0.0         0.0          0.0   \n",
       "3          4     5          4         0.0         0.0          0.0   \n",
       "4          5     5          4         0.0         0.0          0.0   \n",
       "\n",
       "   uid_user_11  uid_user_12  uid_user_13  uid_user_14  ...  labname_lab02  \\\n",
       "0          0.0          0.0          0.0          0.0  ...            0.0   \n",
       "1          0.0          0.0          0.0          0.0  ...            0.0   \n",
       "2          0.0          0.0          0.0          0.0  ...            0.0   \n",
       "3          0.0          0.0          0.0          0.0  ...            0.0   \n",
       "4          0.0          0.0          0.0          0.0  ...            0.0   \n",
       "\n",
       "   labname_lab03  labname_lab03s  labname_lab05s  labname_laba04  \\\n",
       "0            0.0             0.0             0.0             0.0   \n",
       "1            0.0             0.0             0.0             0.0   \n",
       "2            0.0             0.0             0.0             0.0   \n",
       "3            0.0             0.0             0.0             0.0   \n",
       "4            0.0             0.0             0.0             0.0   \n",
       "\n",
       "   labname_laba04s  labname_laba05  labname_laba06  labname_laba06s  \\\n",
       "0              0.0             0.0             0.0              0.0   \n",
       "1              0.0             0.0             0.0              0.0   \n",
       "2              0.0             0.0             0.0              0.0   \n",
       "3              0.0             0.0             0.0              0.0   \n",
       "4              0.0             0.0             0.0              0.0   \n",
       "\n",
       "   labname_project1  \n",
       "0               1.0  \n",
       "1               1.0  \n",
       "2               1.0  \n",
       "3               1.0  \n",
       "4               1.0  \n",
       "\n",
       "[5 rows x 44 columns]"
      ]
     },
     "execution_count": 3,
     "metadata": {},
     "output_type": "execute_result"
    }
   ],
   "source": [
    "df = pd.read_csv(\"../data/dayofweek-not-scaled.csv\")\n",
    "X = df.drop(['dayofweek'], axis=1).values\n",
    "y = df[['dayofweek']].values[:, 0]\n",
    "X_train, X_test, y_train, y_test = train_test_split(X, y, test_size=0.2, random_state=21, stratify=y)\n",
    "df.head()"
   ]
  },
  {
   "cell_type": "markdown",
   "metadata": {},
   "source": [
    "## 2. SVM"
   ]
  },
  {
   "cell_type": "markdown",
   "metadata": {},
   "source": [
    "1. Use the best parameters from the previous exercise and train the model of SVM.\n",
    "2. You need to calculate `accuracy`, `precision`, `recall`, `ROC AUC`.\n",
    "\n",
    " - `precision` and `recall` should be calculated for each class (use `average='weighted'`)\n",
    " - `ROC AUC` should be calculated for each class against any other class (all possible pairwise combinations) and then weighted average should be applied for the final metric\n",
    " - the code in the cell should display the result as below:\n",
    "\n",
    "```\n",
    "accuracy is 0.88757\n",
    "precision is 0.89267\n",
    "recall is 0.88757\n",
    "roc_auc is 0.97878\n",
    "```"
   ]
  },
  {
   "cell_type": "code",
   "execution_count": 6,
   "metadata": {},
   "outputs": [
    {
     "name": "stdout",
     "output_type": "stream",
     "text": [
      "accuracy is 0.8875739644970414\n",
      "precision is 0.8926729169690374\n",
      "recall is 0.8875739644970414\n",
      "roc_auc is 0.9787793228216216\n"
     ]
    }
   ],
   "source": [
    "svc = SVC(C=10, class_weight=None, gamma='auto', kernel='rbf', random_state=21, probability=True)\n",
    "svc.fit(X_train, y_train)\n",
    "predict = svc.predict(X_test)\n",
    "print(\"accuracy is\", accuracy_score(y_test, predict))\n",
    "print(\"precision is\", precision_score(y_test, predict, average='weighted'))\n",
    "print(\"recall is\", recall_score(y_test, predict, average='weighted'))\n",
    "print(\"roc_auc is\", roc_auc_score(y_test, svc.predict_proba(X_test), multi_class='ovo', average='weighted'))"
   ]
  },
  {
   "cell_type": "code",
   "execution_count": 5,
   "metadata": {},
   "outputs": [
    {
     "data": {
      "text/plain": [
       "array([[0.03295653, 0.90147801, 0.01173772, ..., 0.00755426, 0.00588124,\n",
       "        0.00956905],\n",
       "       [0.01700934, 0.06089425, 0.00793216, ..., 0.01503727, 0.74650625,\n",
       "        0.14218874],\n",
       "       [0.02706577, 0.03021426, 0.00261161, ..., 0.00197637, 0.01745052,\n",
       "        0.90092184],\n",
       "       ...,\n",
       "       [0.00835454, 0.00516479, 0.88968793, ..., 0.04112849, 0.00732644,\n",
       "        0.01408322],\n",
       "       [0.13395529, 0.80105234, 0.00141938, ..., 0.00306151, 0.00313389,\n",
       "        0.00449626],\n",
       "       [0.15601416, 0.00845964, 0.77725999, ..., 0.00749456, 0.00454102,\n",
       "        0.01014228]])"
      ]
     },
     "execution_count": 5,
     "metadata": {},
     "output_type": "execute_result"
    }
   ],
   "source": [
    "svc.predict_proba(X_test)"
   ]
  },
  {
   "cell_type": "markdown",
   "metadata": {},
   "source": [
    "## 3. Decision tree"
   ]
  },
  {
   "cell_type": "markdown",
   "metadata": {},
   "source": [
    "1. The same task for decision tree"
   ]
  },
  {
   "cell_type": "code",
   "execution_count": 66,
   "metadata": {},
   "outputs": [
    {
     "name": "stdout",
     "output_type": "stream",
     "text": [
      "accuracy is 0.8846153846153846\n",
      "precision is 0.8876518218623483\n",
      "recall is 0.8846153846153846\n",
      "roc_auc is 0.9363813806150745\n"
     ]
    }
   ],
   "source": [
    "dtc = DecisionTreeClassifier(max_depth=21, class_weight='balanced', criterion='gini', random_state=21)\n",
    "dtc.fit(X_train, y_train)\n",
    "predict = dtc.predict(X_test)\n",
    "print(\"accuracy is\", accuracy_score(y_test, predict))\n",
    "print(\"precision is\", precision_score(y_test, predict, average='weighted'))\n",
    "print(\"recall is\", recall_score(y_test, predict, average='weighted'))\n",
    "print(\"roc_auc is\", roc_auc_score(y_test, dtc.predict_proba(X_test), multi_class='ovr', average='weighted'))"
   ]
  },
  {
   "cell_type": "markdown",
   "metadata": {},
   "source": [
    "## 4. Random forest"
   ]
  },
  {
   "cell_type": "markdown",
   "metadata": {},
   "source": [
    "1. The same task for random forest."
   ]
  },
  {
   "cell_type": "code",
   "execution_count": 68,
   "metadata": {},
   "outputs": [
    {
     "name": "stdout",
     "output_type": "stream",
     "text": [
      "accuracy is 0.9260355029585798\n",
      "precision is 0.9275374670957044\n",
      "recall is 0.9260355029585798\n",
      "roc_auc is 0.9910624546710822\n"
     ]
    }
   ],
   "source": [
    "rfc = RandomForestClassifier(max_depth=24, class_weight='balanced', criterion='entropy',n_estimators=100, random_state=21)\n",
    "rfc.fit(X_train, y_train)\n",
    "predict = rfc.predict(X_test)\n",
    "print(\"accuracy is\", accuracy_score(y_test, predict))\n",
    "print(\"precision is\", precision_score(y_test, predict, average='weighted'))\n",
    "print(\"recall is\", recall_score(y_test, predict, average='weighted'))\n",
    "print(\"roc_auc is\", roc_auc_score(y_test, rfc.predict_proba(X_test), multi_class='ovr', average='weighted'))"
   ]
  },
  {
   "cell_type": "markdown",
   "metadata": {},
   "source": [
    "## 5. Predictions"
   ]
  },
  {
   "cell_type": "markdown",
   "metadata": {},
   "source": [
    "1. Choose the best model.\n",
    "2. Analyze: for which `weekday` your model makes the most errors (in % of the total number of samples of that class in your full dataset), for which `labname` and for which `users`.\n",
    "3. Save the model."
   ]
  },
  {
   "cell_type": "code",
   "execution_count": 170,
   "metadata": {},
   "outputs": [
    {
     "name": "stdout",
     "output_type": "stream",
     "text": [
      "Worst day: 0 Error: 0.7777777777777778\n",
      "Worst user: uid_user_6 Acc: 0.8333333333333334\n",
      "Worst lab: labname_lab03 Acc: 0.0\n"
     ]
    }
   ],
   "source": [
    "worst_day = 1\n",
    "worst_day_acc  = 1\n",
    "for day in range(7):\n",
    "    indexes = np.where(y_test == day)\n",
    "    predict = rfc.predict(X_test[indexes])\n",
    "    predict = np.round(predict, 0)\n",
    "    error = accuracy_score(predict, y_test[indexes])\n",
    "    if error < worst_day_acc:\n",
    "        worst_day_acc = error  \n",
    "        worst_day = day\n",
    "print(\"Worst day:\", worst_day, \"Error:\", worst_day_acc)\n",
    "\n",
    "worst_user = -1\n",
    "worst_user_acc  = 1\n",
    "for user in range(2, 33):\n",
    "    indexes = np.where(X[:,user] == 1)\n",
    "    if len(indexes[0]) == 0:\n",
    "        continue\n",
    "    predict = rfc.predict(X[indexes])\n",
    "    predict = np.round(predict, 0)\n",
    "    error = accuracy_score(predict, y[indexes])\n",
    "    if error < worst_user_acc:\n",
    "        worst_user_acc = error  \n",
    "        worst_user = user\n",
    "print(\"Worst user:\", df.columns[worst_user + 1], \"Acc:\", worst_user_acc)\n",
    "\n",
    "worst_lab = -1\n",
    "worst_lab_acc  = 1\n",
    "for lab in range(32, len(df.columns) - 1):\n",
    "    indexes = np.where(X[:,lab] == 1)\n",
    "    if len(indexes[0]) == 0:\n",
    "        continue\n",
    "    predict = rfc.predict(X[indexes])\n",
    "    predict = np.round(predict, 0)\n",
    "    error = accuracy_score(predict, y[indexes])\n",
    "    if error < worst_lab_acc:\n",
    "        worst_lab_acc = error  \n",
    "        worst_lab = lab\n",
    "print(\"Worst lab:\", df.columns[worst_lab + 1], \"Acc:\", worst_lab_acc)"
   ]
  },
  {
   "cell_type": "code",
   "execution_count": 171,
   "metadata": {},
   "outputs": [
    {
     "data": {
      "text/plain": [
       "['MyBestModel']"
      ]
     },
     "execution_count": 171,
     "metadata": {},
     "output_type": "execute_result"
    }
   ],
   "source": [
    "dump(rfc, \"MyBestModel\")"
   ]
  },
  {
   "cell_type": "markdown",
   "metadata": {},
   "source": [
    "## 6. Function"
   ]
  },
  {
   "cell_type": "markdown",
   "metadata": {},
   "source": [
    "1. Write a function that takes a list of different models and a corresponding list of parameters (dicts) and returns a dict that contains all the 4 metrics for each model."
   ]
  },
  {
   "cell_type": "code",
   "execution_count": 187,
   "metadata": {},
   "outputs": [],
   "source": [
    "def function(models, params):\n",
    "    ret = {}\n",
    "    for i in range(len(models)):\n",
    "        model = models[i](**params[i])\n",
    "        model.fit(X_train, y_train)\n",
    "        predict = model.predict(X_test)\n",
    "        acc = accuracy_score(y_test, predict)\n",
    "        prec = precision_score(y_test, predict, average='weighted')\n",
    "        recall = recall_score(y_test, predict, average='weighted')\n",
    "        roc_auc = roc_auc_score(y_test, model.predict_proba(X_test), multi_class='ovr', average='weighted')\n",
    "        ret[type(model).__name__] = {'accuracy': acc,\n",
    "                                     'precision' : prec,\n",
    "                                     'recall' : recall,\n",
    "                                     'ROC AUC' : roc_auc}\n",
    "    return ret"
   ]
  },
  {
   "cell_type": "code",
   "execution_count": 193,
   "metadata": {},
   "outputs": [
    {
     "data": {
      "text/plain": [
       "{'RandomForestClassifier': {'accuracy': 0.9319526627218935,\n",
       "  'precision': 0.9348049473335871,\n",
       "  'recall': 0.9319526627218935,\n",
       "  'ROC AUC': 0.9914974586761659},\n",
       " 'DecisionTreeClassifier': {'accuracy': 0.8846153846153846,\n",
       "  'precision': 0.8876518218623483,\n",
       "  'recall': 0.8846153846153846,\n",
       "  'ROC AUC': 0.9363813806150745}}"
      ]
     },
     "execution_count": 193,
     "metadata": {},
     "output_type": "execute_result"
    }
   ],
   "source": [
    "function([RandomForestClassifier,DecisionTreeClassifier], [{'max_depth': 24},\n",
    "                    {'max_depth':21, 'class_weight':'balanced', 'criterion':'gini', 'random_state':21}])"
   ]
  }
 ],
 "metadata": {
  "kernelspec": {
   "display_name": "Python 3",
   "language": "python",
   "name": "python3"
  },
  "language_info": {
   "codemirror_mode": {
    "name": "ipython",
    "version": 3
   },
   "file_extension": ".py",
   "mimetype": "text/x-python",
   "name": "python",
   "nbconvert_exporter": "python",
   "pygments_lexer": "ipython3",
   "version": "3.8.5"
  }
 },
 "nbformat": 4,
 "nbformat_minor": 4
}
