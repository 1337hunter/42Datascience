{
 "cells": [
  {
   "cell_type": "markdown",
   "metadata": {},
   "source": [
    "# Day 09. Exercise 03\n",
    "# Ensembles"
   ]
  },
  {
   "cell_type": "markdown",
   "metadata": {},
   "source": [
    "## 0. Imports"
   ]
  },
  {
   "cell_type": "code",
   "execution_count": 119,
   "metadata": {},
   "outputs": [],
   "source": [
    "import pandas as pd\n",
    "from sklearn.svm import SVC\n",
    "from sklearn.tree import DecisionTreeClassifier\n",
    "from sklearn.ensemble import RandomForestClassifier, VotingClassifier\n",
    "from sklearn.ensemble import BaggingClassifier\n",
    "from sklearn.model_selection import GridSearchCV\n",
    "from sklearn.linear_model import LogisticRegression\n",
    "from sklearn.model_selection import KFold\n",
    "from sklearn.model_selection import train_test_split\n",
    "from sklearn.model_selection import cross_val_score\n",
    "from sklearn.model_selection import StratifiedKFold\n",
    "from sklearn.ensemble import StackingClassifier\n",
    "from sklearn.metrics import mean_squared_error\n",
    "from sklearn.metrics import accuracy_score\n",
    "from sklearn.model_selection import cross_val_score\n",
    "from sklearn.metrics import precision_score\n",
    "from sklearn.metrics import recall_score\n",
    "from sklearn.metrics import roc_auc_score\n",
    "from joblib import dump, load\n",
    "from tqdm.notebook import trange, tqdm\n",
    "import numpy as np"
   ]
  },
  {
   "cell_type": "markdown",
   "metadata": {},
   "source": [
    "## 1. Preprocessing"
   ]
  },
  {
   "cell_type": "markdown",
   "metadata": {},
   "source": [
    "1. Create the same dataframe as in the previous exercise.\n",
    "2. Using `train_test_split` with parameters `test_size=0.2`, `random_state=21` get `X_train`, `y_train`, `X_test`, `y_test` and then get `X_train`, `y_train`, `X_valid`, `y_valid` from the previous `X_train`, `y_train`. Use the additional parameter `stratify`."
   ]
  },
  {
   "cell_type": "code",
   "execution_count": 52,
   "metadata": {},
   "outputs": [
    {
     "data": {
      "text/html": [
       "<div>\n",
       "<style scoped>\n",
       "    .dataframe tbody tr th:only-of-type {\n",
       "        vertical-align: middle;\n",
       "    }\n",
       "\n",
       "    .dataframe tbody tr th {\n",
       "        vertical-align: top;\n",
       "    }\n",
       "\n",
       "    .dataframe thead th {\n",
       "        text-align: right;\n",
       "    }\n",
       "</style>\n",
       "<table border=\"1\" class=\"dataframe\">\n",
       "  <thead>\n",
       "    <tr style=\"text-align: right;\">\n",
       "      <th></th>\n",
       "      <th>numTrials</th>\n",
       "      <th>hour</th>\n",
       "      <th>dayofweek</th>\n",
       "      <th>uid_user_0</th>\n",
       "      <th>uid_user_1</th>\n",
       "      <th>uid_user_10</th>\n",
       "      <th>uid_user_11</th>\n",
       "      <th>uid_user_12</th>\n",
       "      <th>uid_user_13</th>\n",
       "      <th>uid_user_14</th>\n",
       "      <th>...</th>\n",
       "      <th>labname_lab02</th>\n",
       "      <th>labname_lab03</th>\n",
       "      <th>labname_lab03s</th>\n",
       "      <th>labname_lab05s</th>\n",
       "      <th>labname_laba04</th>\n",
       "      <th>labname_laba04s</th>\n",
       "      <th>labname_laba05</th>\n",
       "      <th>labname_laba06</th>\n",
       "      <th>labname_laba06s</th>\n",
       "      <th>labname_project1</th>\n",
       "    </tr>\n",
       "  </thead>\n",
       "  <tbody>\n",
       "    <tr>\n",
       "      <th>0</th>\n",
       "      <td>1</td>\n",
       "      <td>5</td>\n",
       "      <td>4</td>\n",
       "      <td>0.0</td>\n",
       "      <td>0.0</td>\n",
       "      <td>0.0</td>\n",
       "      <td>0.0</td>\n",
       "      <td>0.0</td>\n",
       "      <td>0.0</td>\n",
       "      <td>0.0</td>\n",
       "      <td>...</td>\n",
       "      <td>0.0</td>\n",
       "      <td>0.0</td>\n",
       "      <td>0.0</td>\n",
       "      <td>0.0</td>\n",
       "      <td>0.0</td>\n",
       "      <td>0.0</td>\n",
       "      <td>0.0</td>\n",
       "      <td>0.0</td>\n",
       "      <td>0.0</td>\n",
       "      <td>1.0</td>\n",
       "    </tr>\n",
       "    <tr>\n",
       "      <th>1</th>\n",
       "      <td>2</td>\n",
       "      <td>5</td>\n",
       "      <td>4</td>\n",
       "      <td>0.0</td>\n",
       "      <td>0.0</td>\n",
       "      <td>0.0</td>\n",
       "      <td>0.0</td>\n",
       "      <td>0.0</td>\n",
       "      <td>0.0</td>\n",
       "      <td>0.0</td>\n",
       "      <td>...</td>\n",
       "      <td>0.0</td>\n",
       "      <td>0.0</td>\n",
       "      <td>0.0</td>\n",
       "      <td>0.0</td>\n",
       "      <td>0.0</td>\n",
       "      <td>0.0</td>\n",
       "      <td>0.0</td>\n",
       "      <td>0.0</td>\n",
       "      <td>0.0</td>\n",
       "      <td>1.0</td>\n",
       "    </tr>\n",
       "    <tr>\n",
       "      <th>2</th>\n",
       "      <td>3</td>\n",
       "      <td>5</td>\n",
       "      <td>4</td>\n",
       "      <td>0.0</td>\n",
       "      <td>0.0</td>\n",
       "      <td>0.0</td>\n",
       "      <td>0.0</td>\n",
       "      <td>0.0</td>\n",
       "      <td>0.0</td>\n",
       "      <td>0.0</td>\n",
       "      <td>...</td>\n",
       "      <td>0.0</td>\n",
       "      <td>0.0</td>\n",
       "      <td>0.0</td>\n",
       "      <td>0.0</td>\n",
       "      <td>0.0</td>\n",
       "      <td>0.0</td>\n",
       "      <td>0.0</td>\n",
       "      <td>0.0</td>\n",
       "      <td>0.0</td>\n",
       "      <td>1.0</td>\n",
       "    </tr>\n",
       "    <tr>\n",
       "      <th>3</th>\n",
       "      <td>4</td>\n",
       "      <td>5</td>\n",
       "      <td>4</td>\n",
       "      <td>0.0</td>\n",
       "      <td>0.0</td>\n",
       "      <td>0.0</td>\n",
       "      <td>0.0</td>\n",
       "      <td>0.0</td>\n",
       "      <td>0.0</td>\n",
       "      <td>0.0</td>\n",
       "      <td>...</td>\n",
       "      <td>0.0</td>\n",
       "      <td>0.0</td>\n",
       "      <td>0.0</td>\n",
       "      <td>0.0</td>\n",
       "      <td>0.0</td>\n",
       "      <td>0.0</td>\n",
       "      <td>0.0</td>\n",
       "      <td>0.0</td>\n",
       "      <td>0.0</td>\n",
       "      <td>1.0</td>\n",
       "    </tr>\n",
       "    <tr>\n",
       "      <th>4</th>\n",
       "      <td>5</td>\n",
       "      <td>5</td>\n",
       "      <td>4</td>\n",
       "      <td>0.0</td>\n",
       "      <td>0.0</td>\n",
       "      <td>0.0</td>\n",
       "      <td>0.0</td>\n",
       "      <td>0.0</td>\n",
       "      <td>0.0</td>\n",
       "      <td>0.0</td>\n",
       "      <td>...</td>\n",
       "      <td>0.0</td>\n",
       "      <td>0.0</td>\n",
       "      <td>0.0</td>\n",
       "      <td>0.0</td>\n",
       "      <td>0.0</td>\n",
       "      <td>0.0</td>\n",
       "      <td>0.0</td>\n",
       "      <td>0.0</td>\n",
       "      <td>0.0</td>\n",
       "      <td>1.0</td>\n",
       "    </tr>\n",
       "  </tbody>\n",
       "</table>\n",
       "<p>5 rows × 44 columns</p>\n",
       "</div>"
      ],
      "text/plain": [
       "   numTrials  hour  dayofweek  uid_user_0  uid_user_1  uid_user_10  \\\n",
       "0          1     5          4         0.0         0.0          0.0   \n",
       "1          2     5          4         0.0         0.0          0.0   \n",
       "2          3     5          4         0.0         0.0          0.0   \n",
       "3          4     5          4         0.0         0.0          0.0   \n",
       "4          5     5          4         0.0         0.0          0.0   \n",
       "\n",
       "   uid_user_11  uid_user_12  uid_user_13  uid_user_14  ...  labname_lab02  \\\n",
       "0          0.0          0.0          0.0          0.0  ...            0.0   \n",
       "1          0.0          0.0          0.0          0.0  ...            0.0   \n",
       "2          0.0          0.0          0.0          0.0  ...            0.0   \n",
       "3          0.0          0.0          0.0          0.0  ...            0.0   \n",
       "4          0.0          0.0          0.0          0.0  ...            0.0   \n",
       "\n",
       "   labname_lab03  labname_lab03s  labname_lab05s  labname_laba04  \\\n",
       "0            0.0             0.0             0.0             0.0   \n",
       "1            0.0             0.0             0.0             0.0   \n",
       "2            0.0             0.0             0.0             0.0   \n",
       "3            0.0             0.0             0.0             0.0   \n",
       "4            0.0             0.0             0.0             0.0   \n",
       "\n",
       "   labname_laba04s  labname_laba05  labname_laba06  labname_laba06s  \\\n",
       "0              0.0             0.0             0.0              0.0   \n",
       "1              0.0             0.0             0.0              0.0   \n",
       "2              0.0             0.0             0.0              0.0   \n",
       "3              0.0             0.0             0.0              0.0   \n",
       "4              0.0             0.0             0.0              0.0   \n",
       "\n",
       "   labname_project1  \n",
       "0               1.0  \n",
       "1               1.0  \n",
       "2               1.0  \n",
       "3               1.0  \n",
       "4               1.0  \n",
       "\n",
       "[5 rows x 44 columns]"
      ]
     },
     "execution_count": 52,
     "metadata": {},
     "output_type": "execute_result"
    }
   ],
   "source": [
    "df = pd.read_csv(\"../data/dayofweek-not-scaled.csv\")\n",
    "X = df.drop(['dayofweek'], axis=1).values\n",
    "y = df[['dayofweek']].values[:, 0]\n",
    "X_train, X_test, y_train, y_test = train_test_split(X, y, test_size=0.2, random_state=21, stratify=y)\n",
    "X_train, X_valid, y_train, y_valid = train_test_split(X_train, y_train, test_size=0.2, random_state=21, stratify=y_train)\n",
    "df.head()"
   ]
  },
  {
   "cell_type": "markdown",
   "metadata": {},
   "source": [
    "## 2. Individual classifiers"
   ]
  },
  {
   "cell_type": "markdown",
   "metadata": {},
   "source": [
    "1. Train SVM, decision tree and random forest again with the best parameters that you got from the 01 exercise with `random_state=21` for all of them.\n",
    "2. Evaluate `accuracy`, `precision`, and `recall` for them on the validation set.\n",
    "3. The result of each cell of the section should look like this:\n",
    "\n",
    "```\n",
    "accuracy is 0.87778\n",
    "precision is 0.88162\n",
    "recall is 0.87778\n",
    "```"
   ]
  },
  {
   "cell_type": "code",
   "execution_count": 53,
   "metadata": {},
   "outputs": [
    {
     "name": "stdout",
     "output_type": "stream",
     "text": [
      "accuracy is 0.8777777777777778\n",
      "precision is 0.8816152211617203\n",
      "recall is 0.8777777777777778\n"
     ]
    }
   ],
   "source": [
    "svc = SVC(C=10, class_weight=None, gamma='auto', kernel='rbf', random_state=21, probability=True)\n",
    "svc.fit(X_train, y_train)\n",
    "predict = svc.predict(X_valid)\n",
    "print(\"accuracy is\", accuracy_score(y_valid, predict))\n",
    "print(\"precision is\", precision_score(y_valid, predict, average='weighted'))\n",
    "print(\"recall is\", recall_score(y_valid, predict, average='weighted'))"
   ]
  },
  {
   "cell_type": "code",
   "execution_count": 54,
   "metadata": {},
   "outputs": [
    {
     "name": "stdout",
     "output_type": "stream",
     "text": [
      "accuracy is 0.8666666666666667\n",
      "precision is 0.8716971333998339\n",
      "recall is 0.8666666666666667\n"
     ]
    }
   ],
   "source": [
    "dtc = DecisionTreeClassifier(max_depth=21, class_weight='balanced', criterion='gini', random_state=21)\n",
    "dtc.fit(X_train, y_train)\n",
    "predict = dtc.predict(X_valid)\n",
    "print(\"accuracy is\", accuracy_score(y_valid, predict))\n",
    "print(\"precision is\", precision_score(y_valid, predict, average='weighted'))\n",
    "print(\"recall is\", recall_score(y_valid, predict, average='weighted'))"
   ]
  },
  {
   "cell_type": "code",
   "execution_count": 55,
   "metadata": {},
   "outputs": [
    {
     "name": "stdout",
     "output_type": "stream",
     "text": [
      "accuracy is 0.8962962962962963\n",
      "precision is 0.8969799473598222\n",
      "recall is 0.8962962962962963\n"
     ]
    }
   ],
   "source": [
    "rfc = RandomForestClassifier(max_depth=24, class_weight='balanced', criterion='entropy',n_estimators=100, random_state=21)\n",
    "rfc.fit(X_train, y_train)\n",
    "predict = rfc.predict(X_valid)\n",
    "print(\"accuracy is\", accuracy_score(y_valid, predict))\n",
    "print(\"precision is\", precision_score(y_valid, predict, average='weighted'))\n",
    "print(\"recall is\", recall_score(y_valid, predict, average='weighted'))"
   ]
  },
  {
   "cell_type": "markdown",
   "metadata": {},
   "source": [
    "## 3. Voting classifiers"
   ]
  },
  {
   "cell_type": "markdown",
   "metadata": {},
   "source": [
    "1. Using `VotingClassifier` and the three models that you have just trained, calculate the `accuracy`, `precision`, and `recall` on the validation set.\n",
    "2. Play with the other parameteres.\n",
    "3. Calculate the `accuracy`, `precision` and `recall` on the test set for the model with the best weights in terms of accuracy (if there are several of them with equal values, choose the one with the higher precision)."
   ]
  },
  {
   "cell_type": "code",
   "execution_count": 56,
   "metadata": {},
   "outputs": [
    {
     "name": "stdout",
     "output_type": "stream",
     "text": [
      "accuracy is 0.9\n",
      "precision is 0.8999260615927283\n",
      "recall is 0.9\n"
     ]
    }
   ],
   "source": [
    "vc = VotingClassifier(estimators=[('svc', svc), ('dtc', dtc), ('rfc', rfc)], voting='hard')\n",
    "vc = vc.fit(X_train, y_train)\n",
    "predict = vc.predict(X_valid)\n",
    "print(\"accuracy is\", accuracy_score (y_valid, predict))\n",
    "print(\"precision is\", precision_score(y_valid, predict, average='weighted'))\n",
    "print(\"recall is\", recall_score(y_valid, predict, average='weighted'))"
   ]
  },
  {
   "cell_type": "code",
   "execution_count": 73,
   "metadata": {},
   "outputs": [
    {
     "data": {
      "application/vnd.jupyter.widget-view+json": {
       "model_id": "661f7c6f293e4409b68d87558f7451f3",
       "version_major": 2,
       "version_minor": 0
      },
      "text/plain": [
       "  0%|          | 0/125 [00:00<?, ?it/s]"
      ]
     },
     "metadata": {},
     "output_type": "display_data"
    }
   ],
   "source": [
    "best_acc = 0\n",
    "best_prec = 0\n",
    "with tqdm(total=(5 * 5 * 5)) as pbar:\n",
    "    for i in range(5):\n",
    "        for j in range(5):\n",
    "            for k in range(5):\n",
    "                vc = VotingClassifier(estimators=[('svc', svc), ('dtc', dtc), ('rfc', rfc)], voting='hard', weights=[i,j,k], n_jobs=8)\n",
    "                vc = vc.fit(X_train, y_train)\n",
    "                predict = vc.predict(X_test)\n",
    "                acc = accuracy_score(y_test, predict)\n",
    "                if acc == best_acc:\n",
    "                    prec = precision_score(y_test, predict, average='weighted')\n",
    "                    if best_prec < prec:\n",
    "                        best_prec = prec\n",
    "                        weights = [i, j, k]\n",
    "                if acc > best_acc:\n",
    "                    best_acc = acc\n",
    "                    weights = [i, j, k]\n",
    "                pbar.update(1)"
   ]
  },
  {
   "cell_type": "code",
   "execution_count": 74,
   "metadata": {},
   "outputs": [
    {
     "name": "stdout",
     "output_type": "stream",
     "text": [
      "best weights: [4, 2, 3]\n",
      "accuracy is 0.9201183431952663\n",
      "precision is 0.9228244006008212\n",
      "recall is 0.9201183431952663\n"
     ]
    }
   ],
   "source": [
    "print(\"best weights:\", weights)\n",
    "vc = VotingClassifier(estimators=[('svc', svc), ('dtc', dtc), ('rfc', rfc)], voting='hard', weights=weights, n_jobs=8)\n",
    "vc = vc.fit(X_train, y_train)\n",
    "predict = vc.predict(X_test)\n",
    "print(\"accuracy is\", accuracy_score (y_test, predict))\n",
    "print(\"precision is\", precision_score(y_test, predict, average='weighted'))\n",
    "print(\"recall is\", recall_score(y_test, predict, average='weighted'))"
   ]
  },
  {
   "cell_type": "code",
   "execution_count": 75,
   "metadata": {},
   "outputs": [
    {
     "name": "stdout",
     "output_type": "stream",
     "text": [
      "accuracy is 0.8962962962962963\n",
      "precision is 0.8969799473598222\n",
      "recall is 0.8962962962962963\n"
     ]
    }
   ],
   "source": [
    "predict = rfc.predict(X_valid)\n",
    "print(\"accuracy is\", accuracy_score(y_valid, predict))\n",
    "print(\"precision is\", precision_score(y_valid, predict, average='weighted'))\n",
    "print(\"recall is\", recall_score(y_valid, predict, average='weighted'))"
   ]
  },
  {
   "cell_type": "markdown",
   "metadata": {},
   "source": [
    "## 4. Bagging classifiers"
   ]
  },
  {
   "cell_type": "markdown",
   "metadata": {},
   "source": [
    "1. Using `BaggingClassifier` and `SVM` with the best parameters create an ensemble, try different values of the `n_estimators`, use `random_state=21`.\n",
    "2. Play with the other parameters.\n",
    "3. Calculate the `accuracy`, `precision`, and `recall` for the model with the best parameters (in terms of accuracy) on the test set (if there are several of them with equal values, choose the one with the higher precision)"
   ]
  },
  {
   "cell_type": "code",
   "execution_count": 88,
   "metadata": {},
   "outputs": [
    {
     "data": {
      "application/vnd.jupyter.widget-view+json": {
       "model_id": "b8820e86dc74451f91308d7e30f676a4",
       "version_major": 2,
       "version_minor": 0
      },
      "text/plain": [
       "  0%|          | 0/5 [00:00<?, ?it/s]"
      ]
     },
     "metadata": {},
     "output_type": "display_data"
    }
   ],
   "source": [
    "best_acc = 0\n",
    "best_prec = 0\n",
    "\n",
    "with tqdm(total=(5)) as pbar:\n",
    "    for n_estimators in (5, 10, 25, 50, 100):\n",
    "        bc = BaggingClassifier(base_estimator=SVC(C=10,\n",
    "                                class_weight=None,gamma='auto',\n",
    "                                kernel='rbf', random_state=21, probability=True),\n",
    "                                   random_state=21, n_jobs=8, n_estimators=n_estimators)\n",
    "        bc.fit(X_train, y_train)\n",
    "        predict = bc.predict(X_test)\n",
    "        acc = accuracy_score(y_test, predict)\n",
    "        if acc == best_acc:\n",
    "            prec = precision_score(y_test, predict, average='weighted')\n",
    "            if best_prec < prec:\n",
    "                best_prec = prec\n",
    "                weights = [i, j, k]\n",
    "        if acc > best_acc:\n",
    "            best_acc = acc\n",
    "            params = [n_estimators]\n",
    "        bc.fit(X_train, y_train)\n",
    "        pbar.update(1)"
   ]
  },
  {
   "cell_type": "code",
   "execution_count": 89,
   "metadata": {},
   "outputs": [
    {
     "name": "stdout",
     "output_type": "stream",
     "text": [
      "accuracy is 0.8846153846153846\n",
      "precision is 0.8894129703464362\n",
      "recall is 0.8846153846153846\n"
     ]
    }
   ],
   "source": [
    "bc = BaggingClassifier(base_estimator=SVC(C=10,\n",
    "                                    class_weight=None,gamma='auto',\n",
    "                                    kernel='rbf', random_state=21, probability=True),\n",
    "                                       random_state=21, n_jobs=8, n_estimators=params[0])\n",
    "bc.fit(X_train, y_train)\n",
    "predict = bc.predict(X_test)\n",
    "print(\"accuracy is\", accuracy_score (y_test, predict))\n",
    "print(\"precision is\", precision_score(y_test, predict, average='weighted'))\n",
    "print(\"recall is\", recall_score(y_test, predict, average='weighted'))"
   ]
  },
  {
   "cell_type": "markdown",
   "metadata": {},
   "source": [
    "## 5. Stacking classifiers"
   ]
  },
  {
   "cell_type": "markdown",
   "metadata": {},
   "source": [
    "1. To achieve reproducibility in this case you will have to create an object of cross-validation generator: `StratifiedKFold(n_splits=n, shuffle=True, random_state=21)`, where `n` you will try to optimize (the details are below).\n",
    "2. Using `StackingClassifier` and the three models that you have recently trained, calculate the `accuracy`, `precision` and `recall` on the validation set, try different values of `n_splits` `[2, 3, 4, 5, 6, 7]` in the cross-validation generator and parameter `passthrough` in the classifier itself,\n",
    "3. Calculate the `accuracy`, `precision`, and `recall` for the model with the best parameters (in terms of accuracy) on the test set (if there are several of them with equal values, choose the one with the higher precision). Use `final_estimator=LogisticRegression(solver='liblinear')`."
   ]
  },
  {
   "cell_type": "code",
   "execution_count": 131,
   "metadata": {},
   "outputs": [],
   "source": [
    "def crossval(n_splits, model, passthrough):\n",
    "    prec_arr = []\n",
    "    acc_arr = []\n",
    "    rec_arr = []\n",
    "    estimators=[(type(model).__name__, model)]\n",
    "    kf = StratifiedKFold(n_splits=n_splits, random_state=21, shuffle=True)\n",
    "    for train_index, valid_index in kf.split(X_train, y_train):\n",
    "        X_train_set = X_train[train_index]\n",
    "        y_train_set = y_train[train_index]\n",
    "        clf = StackingClassifier(estimators=estimators, final_estimator=LogisticRegression(solver='liblinear'), passthrough=passthrough, n_jobs=8)\n",
    "        clf.fit(X_train_set, y_train_set)\n",
    "        predict = clf.predict(X_valid)\n",
    "        acc = accuracy_score (y_valid, predict)\n",
    "        prec = precision_score(y_valid, predict, average='weighted')\n",
    "        rec = recall_score(y_valid, predict, average='weighted')\n",
    "        prec_arr += [prec]\n",
    "        acc_arr += [acc]\n",
    "        rec_arr += [rec]\n",
    "    return np.array(acc_arr).mean(), np.array(prec).mean(), np.array(rec_arr).mean()"
   ]
  },
  {
   "cell_type": "code",
   "execution_count": 133,
   "metadata": {},
   "outputs": [
    {
     "data": {
      "application/vnd.jupyter.widget-view+json": {
       "model_id": "6ba5178e7d0f4876b6fb6966d28ba8ed",
       "version_major": 2,
       "version_minor": 0
      },
      "text/plain": [
       "  0%|          | 0/36 [00:00<?, ?it/s]"
      ]
     },
     "metadata": {},
     "output_type": "display_data"
    },
    {
     "name": "stdout",
     "output_type": "stream",
     "text": [
      "SVC accuracy is 0.865079365079365\n",
      "SVC precision is 0.8624797266317733\n",
      "SVC recall is 0.865079365079365\n",
      "DecisionTreeClassifier accuracy is 0.8449735449735449\n",
      "DecisionTreeClassifier precision is 0.8753737499381271\n",
      "DecisionTreeClassifier recall is 0.8449735449735449\n",
      "RandomForestClassifier accuracy is 0.8878306878306879\n",
      "RandomForestClassifier precision is 0.8850338782100021\n",
      "RandomForestClassifier recall is 0.8878306878306879\n"
     ]
    }
   ],
   "source": [
    "svc1 = SVC(C=10, class_weight=None, gamma='auto', kernel='rbf', random_state=21, probability=True)\n",
    "dtc1 = DecisionTreeClassifier(max_depth=21, class_weight='balanced', criterion='gini', random_state=21)\n",
    "rfc1 = RandomForestClassifier(max_depth=24, class_weight='balanced', criterion='entropy',n_estimators=100, random_state=21)\n",
    "\n",
    "with tqdm(total=(6 * 2 * 3)) as pbar:\n",
    "    svc_acc = 0\n",
    "    svc_prec = 0\n",
    "    svc_params = []\n",
    "\n",
    "    for n_splits in [2, 3, 4, 5, 6, 7]:\n",
    "        for passthrough in (False, True):\n",
    "            acc, prec, rec = crossval(n_splits, svc1, passthrough)\n",
    "            if acc == svc_acc:\n",
    "                if svc_prec < prec:\n",
    "                    svc_prec = prec\n",
    "                    svc_params = [n_splits, passthrough]\n",
    "            if acc > svc_acc:\n",
    "                svc_acc = acc\n",
    "                svc_prec = prec\n",
    "                svc_params = [n_splits, passthrough]\n",
    "            pbar.update(1)\n",
    "    dtc_acc = 0\n",
    "    dtc_prec = 0\n",
    "    dtc_params = []\n",
    "    for n_splits in [2, 3, 4, 5, 6, 7]:\n",
    "        for passthrough in (False, True):\n",
    "            acc, prec, rec = crossval(n_splits, dtc1, passthrough)\n",
    "            if acc == dtc_acc:\n",
    "                if dtc_prec < prec:\n",
    "                    dtc_prec = prec\n",
    "                    dtc_params = [n_splits, passthrough]\n",
    "            if acc > dtc_acc:\n",
    "                dtc_acc = acc\n",
    "                dtc_prec = prec\n",
    "                dtc_params = [n_splits, passthrough]\n",
    "            pbar.update(1)\n",
    "    rfc_acc = 0\n",
    "    rfc_prec = 0\n",
    "    rfc_params = []    \n",
    "    for n_splits in [2, 3, 4, 5, 6, 7]:\n",
    "        for passthrough in (False, True):\n",
    "            acc, prec, rec = crossval(n_splits, rfc1, passthrough)\n",
    "            if acc == rfc_acc:\n",
    "                if rfc_prec < prec:\n",
    "                    rfc_prec = prec\n",
    "                    rfc_params = [n_splits, passthrough]\n",
    "            if acc > rfc_acc:\n",
    "                rfc_acc = acc\n",
    "                rfc_prec = prec\n",
    "                rfc_params = [n_splits, passthrough]\n",
    "            pbar.update(1)\n",
    "acc, prec, rec = crossval(svc_params[0], svc1, svc_params[1])\n",
    "print(\"SVC accuracy is\", acc)\n",
    "print(\"SVC precision is\", prec)\n",
    "print(\"SVC recall is\", rec)\n",
    "acc, prec, rec = crossval(dtc_params[0], dtc1, dtc_params[1])\n",
    "print(\"DecisionTreeClassifier accuracy is\", acc)\n",
    "print(\"DecisionTreeClassifier precision is\", prec)\n",
    "print(\"DecisionTreeClassifier recall is\", rec)\n",
    "acc, prec, rec = crossval(rfc_params[0], rfc1, rfc_params[1])\n",
    "print(\"RandomForestClassifier accuracy is\", acc)\n",
    "print(\"RandomForestClassifier precision is\", prec)\n",
    "print(\"RandomForestClassifier recall is\", rec)"
   ]
  },
  {
   "cell_type": "markdown",
   "metadata": {},
   "source": [
    "## 6. Predictions"
   ]
  },
  {
   "cell_type": "markdown",
   "metadata": {},
   "source": [
    "1. Choose the best model in terms of accuracy (if there are several of them with equal values, choose the one with the higher precision).\n",
    "2. Analyze: for which weekday your model makes the most errors (in % of the total number of samples of that class in your full dataset), for which labname and for which users.\n",
    "3. Save the model."
   ]
  },
  {
   "cell_type": "code",
   "execution_count": 138,
   "metadata": {},
   "outputs": [
    {
     "data": {
      "text/plain": [
       "RandomForestClassifier(class_weight='balanced', criterion='entropy',\n",
       "                       max_depth=24, random_state=21)"
      ]
     },
     "execution_count": 138,
     "metadata": {},
     "output_type": "execute_result"
    }
   ],
   "source": [
    "rfc = RandomForestClassifier(max_depth=24, class_weight='balanced', criterion='entropy',n_estimators=100, random_state=21)\n",
    "rfc.fit(X_train, y_train)"
   ]
  },
  {
   "cell_type": "code",
   "execution_count": 139,
   "metadata": {},
   "outputs": [
    {
     "name": "stdout",
     "output_type": "stream",
     "text": [
      "Worst day: 0 Error: 0.7037037037037037\n",
      "Worst user: uid_user_22 Acc: 0.7142857142857143\n",
      "Worst lab: labname_lab03 Acc: 0.0\n"
     ]
    }
   ],
   "source": [
    "worst_day = 1\n",
    "worst_day_acc  = 1\n",
    "for day in range(7):\n",
    "    indexes = np.where(y_test == day)\n",
    "    predict = rfc.predict(X_test[indexes])\n",
    "    predict = np.round(predict, 0)\n",
    "    error = accuracy_score(predict, y_test[indexes])\n",
    "    if error < worst_day_acc:\n",
    "        worst_day_acc = error  \n",
    "        worst_day = day\n",
    "print(\"Worst day:\", worst_day, \"Error:\", worst_day_acc)\n",
    "\n",
    "worst_user = -1\n",
    "worst_user_acc  = 1\n",
    "for user in range(2, 33):\n",
    "    indexes = np.where(X[:,user] == 1)\n",
    "    if len(indexes[0]) == 0:\n",
    "        continue\n",
    "    predict = rfc.predict(X[indexes])\n",
    "    predict = np.round(predict, 0)\n",
    "    error = accuracy_score(predict, y[indexes])\n",
    "    if error < worst_user_acc:\n",
    "        worst_user_acc = error  \n",
    "        worst_user = user\n",
    "print(\"Worst user:\", df.columns[worst_user + 1], \"Acc:\", worst_user_acc)\n",
    "\n",
    "worst_lab = -1\n",
    "worst_lab_acc  = 1\n",
    "for lab in range(32, len(df.columns) - 1):\n",
    "    indexes = np.where(X[:,lab] == 1)\n",
    "    if len(indexes[0]) == 0:\n",
    "        continue\n",
    "    predict = rfc.predict(X[indexes])\n",
    "    predict = np.round(predict, 0)\n",
    "    error = accuracy_score(predict, y[indexes])\n",
    "    if error < worst_lab_acc:\n",
    "        worst_lab_acc = error  \n",
    "        worst_lab = lab\n",
    "print(\"Worst lab:\", df.columns[worst_lab + 1], \"Acc:\", worst_lab_acc)"
   ]
  },
  {
   "cell_type": "code",
   "execution_count": null,
   "metadata": {},
   "outputs": [],
   "source": []
  },
  {
   "cell_type": "code",
   "execution_count": null,
   "metadata": {},
   "outputs": [],
   "source": []
  }
 ],
 "metadata": {
  "kernelspec": {
   "display_name": "Python 3",
   "language": "python",
   "name": "python3"
  },
  "language_info": {
   "codemirror_mode": {
    "name": "ipython",
    "version": 3
   },
   "file_extension": ".py",
   "mimetype": "text/x-python",
   "name": "python",
   "nbconvert_exporter": "python",
   "pygments_lexer": "ipython3",
   "version": "3.8.5"
  }
 },
 "nbformat": 4,
 "nbformat_minor": 4
}
