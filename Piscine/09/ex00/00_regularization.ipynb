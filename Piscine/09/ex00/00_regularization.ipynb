{
 "cells": [
  {
   "cell_type": "markdown",
   "metadata": {},
   "source": [
    "# Day 09. Exercise 00\n",
    "# Regularization"
   ]
  },
  {
   "cell_type": "markdown",
   "metadata": {},
   "source": [
    "## 0. Imports"
   ]
  },
  {
   "cell_type": "code",
   "execution_count": 4,
   "metadata": {},
   "outputs": [],
   "source": [
    "import pandas as pd\n",
    "from sklearn.linear_model import LogisticRegression\n",
    "from sklearn.svm import SVC\n",
    "from sklearn.tree import DecisionTreeRegressor\n",
    "from sklearn.ensemble import RandomForestRegressor\n",
    "from sklearn.model_selection import KFold\n",
    "from sklearn.model_selection import train_test_split\n",
    "from sklearn.model_selection import cross_val_score\n",
    "from sklearn.metrics import mean_squared_error\n",
    "from sklearn.metrics import accuracy_score\n",
    "from joblib import dump, load\n",
    "import numpy as np\n"
   ]
  },
  {
   "cell_type": "markdown",
   "metadata": {},
   "source": [
    "## 1. Preprocessing"
   ]
  },
  {
   "cell_type": "markdown",
   "metadata": {},
   "source": [
    "1. Read the file `dayofweek.csv` that you used in the previous day to a dataframe.\n",
    "2. Using `train_test_split` with parameters `test_size=0.2`, `random_state=21` get `X_train`, `y_train`, `X_test`, `y_test`. !!!!!!!!!!!!!!!!!!!!!!!! Use the additional parameter `stratify`."
   ]
  },
  {
   "cell_type": "code",
   "execution_count": 81,
   "metadata": {},
   "outputs": [],
   "source": [
    "df = pd.read_csv('../data/dayofweek.csv')\n",
    "X = df.drop(['dayofweek'], axis=1).values\n",
    "y = df[['dayofweek']].values[:, 0]\n",
    "\n",
    "X_train, X_test, y_train, y_test = train_test_split(X, y, test_size=0.2, random_state=21, stratify=y)\n",
    "\n",
    "#now the distribution partition is about ~ 4 for all classes (thx for parameter straitify)"
   ]
  },
  {
   "cell_type": "markdown",
   "metadata": {},
   "source": [
    "## 2. Logreg regularization"
   ]
  },
  {
   "cell_type": "markdown",
   "metadata": {},
   "source": [
    "### a. Default regularization"
   ]
  },
  {
   "cell_type": "markdown",
   "metadata": {},
   "source": [
    "1. Train a baseline model with the only parameters `random_state=21`, `fit_intercept=False`.\n",
    "2. Use stratified K-fold cross-validation with `10` splits to evaluate the accuracy of the model\n",
    "\n",
    "\n",
    "The result of the code where you trained and evaluated the baseline model should be exactly like this (use `%%time` to get the info about how long it took to run the cell):\n",
    "\n",
    "```\n",
    "train -  0.62902   |   valid -  0.59259\n",
    "train -  0.64633   |   valid -  0.62963\n",
    "train -  0.63479   |   valid -  0.56296\n",
    "train -  0.65622   |   valid -  0.61481\n",
    "train -  0.63397   |   valid -  0.57778\n",
    "train -  0.64056   |   valid -  0.59259\n",
    "train -  0.64138   |   valid -  0.65926\n",
    "train -  0.65952   |   valid -  0.56296\n",
    "train -  0.64333   |   valid -  0.59701\n",
    "train -  0.63674   |   valid -  0.62687\n",
    "Average accuracy on crossval is 0.60165\n",
    "Std is 0.02943\n",
    "```"
   ]
  },
  {
   "cell_type": "code",
   "execution_count": 173,
   "metadata": {},
   "outputs": [],
   "source": [
    "def crossval(n_splits, X, y, model):\n",
    "    train_rmse = []\n",
    "    test_rmse = []\n",
    "    kf = KFold(n_splits=n_splits, random_state=21, shuffle=True)\n",
    "    for train_index, test_index in kf.split(X):\n",
    "        X_train, X_test = X[train_index], X[test_index]\n",
    "        y_train, y_test = y[train_index], y[test_index]\n",
    "        model.fit(X_train, y_train)\n",
    "        y_predict_train = model.predict(X_train)\n",
    "        y_predict_test = model.predict(X_test)\n",
    "        test = mean_squared_error(y_predict_test, y_test)\n",
    "        train  = mean_squared_error(y_predict_train, y_train)\n",
    "        print(\"train - \", round(train, 5), '\\t|\\t', \"valid - \", round(test, 5))\n",
    "        train_rmse += [train]\n",
    "        test_rmse += [test]\n",
    "    print(\"Average accuracy on crossval is\", round(np.array(test_rmse).mean(), 5))\n",
    "    print(\"Std is \", round(np.array(test_rmse).std(), 5))\n",
    "    return np.array(test_rmse).mean(), np.array(test_rmse).std()"
   ]
  },
  {
   "cell_type": "code",
   "execution_count": 174,
   "metadata": {},
   "outputs": [
    {
     "name": "stdout",
     "output_type": "stream",
     "text": [
      "train -  2.21622     |     valid -  1.5503\n",
      "train -  2.07251     |     valid -  2.84024\n",
      "train -  2.14041     |     valid -  2.21893\n",
      "train -  2.23665     |     valid -  2.65089\n",
      "train -  2.17007     |     valid -  2.42012\n",
      "train -  2.27818     |     valid -  2.07692\n",
      "train -  2.29051     |     valid -  2.66071\n",
      "train -  2.12055     |     valid -  2.52976\n",
      "train -  2.20356     |     valid -  3.14881\n",
      "train -  2.30632     |     valid -  1.8869\n",
      "Average accuracy on crossval is 2.39836\n",
      "Std is  0.45001\n",
      "CPU times: user 6.98 s, sys: 5.59 s, total: 12.6 s\n",
      "Wall time: 1.67 s\n"
     ]
    },
    {
     "data": {
      "text/plain": [
       "(2.3983586925894618, 0.45000929259262157)"
      ]
     },
     "execution_count": 174,
     "metadata": {},
     "output_type": "execute_result"
    }
   ],
   "source": [
    "%%time\n",
    "logreg = LogisticRegression(random_state=21, fit_intercept=False)\n",
    "#logreg.fit(X_train, y_train)\n",
    "crossval(10, X, y, logreg)"
   ]
  },
  {
   "cell_type": "markdown",
   "metadata": {},
   "source": [
    "### b. Optimizing regularization parameters"
   ]
  },
  {
   "cell_type": "markdown",
   "metadata": {},
   "source": [
    "1. In the cells below try different values of penalty: `none`, `l1`, `l2` – you can change the values of solver too."
   ]
  },
  {
   "cell_type": "code",
   "execution_count": 152,
   "metadata": {},
   "outputs": [
    {
     "name": "stdout",
     "output_type": "stream",
     "text": [
      "train -  2.12195     |     valid -  1.53254\n",
      "train -  2.0468     |     valid -  2.73964\n",
      "train -  2.13052     |     valid -  2.23077\n",
      "train -  2.07779     |     valid -  2.24852\n",
      "train -  2.02175     |     valid -  2.07101\n",
      "train -  2.12327     |     valid -  2.12426\n",
      "train -  2.16601     |     valid -  2.6131\n",
      "train -  2.08432     |     valid -  1.83333\n",
      "train -  2.03294     |     valid -  3.17857\n",
      "train -  2.02174     |     valid -  1.79167\n",
      "Average accuracy on crossval is 2.23634\n",
      "Std is  0.46676\n",
      "CPU times: user 29.5 s, sys: 23 s, total: 52.5 s\n",
      "Wall time: 6.97 s\n"
     ]
    }
   ],
   "source": [
    "%%time\n",
    "logreg_none = LogisticRegression(penalty='none', random_state=21, fit_intercept=False, solver='newton-cg')\n",
    "#logreg_none.fit(X_train, y_train)\n",
    "crossval(10, X, y, logreg_none)"
   ]
  },
  {
   "cell_type": "code",
   "execution_count": 153,
   "metadata": {},
   "outputs": [
    {
     "name": "stdout",
     "output_type": "stream",
     "text": [
      "train -  2.12195     |     valid -  1.53254\n",
      "train -  2.0468     |     valid -  2.73964\n",
      "train -  2.13052     |     valid -  2.23077\n",
      "train -  2.07779     |     valid -  2.24852\n",
      "train -  2.02175     |     valid -  2.07101\n",
      "train -  2.12327     |     valid -  2.12426\n",
      "train -  2.16601     |     valid -  2.6131\n",
      "train -  2.08432     |     valid -  1.83333\n",
      "train -  2.03294     |     valid -  3.17857\n",
      "train -  2.02174     |     valid -  1.79167\n",
      "Average accuracy on crossval is 2.23634\n",
      "Std is  0.46676\n",
      "CPU times: user 29.4 s, sys: 22.4 s, total: 51.8 s\n",
      "Wall time: 6.91 s\n"
     ]
    }
   ],
   "source": [
    "%%time\n",
    "logreg_l1 = LogisticRegression(penalty='l1', random_state=21, fit_intercept=False, solver='liblinear')\n",
    "#logreg_none.fit(X_train, y_train)\n",
    "crossval(10, X, y, logreg_none)"
   ]
  },
  {
   "cell_type": "code",
   "execution_count": null,
   "metadata": {},
   "outputs": [],
   "source": []
  },
  {
   "cell_type": "markdown",
   "metadata": {},
   "source": [
    "## 3. SVM regularization"
   ]
  },
  {
   "cell_type": "markdown",
   "metadata": {},
   "source": [
    "### a. Default regularization"
   ]
  },
  {
   "cell_type": "markdown",
   "metadata": {},
   "source": [
    "1. Train a baseline model with the only parameters `probability=True`, `kernel='linear'`, `random_state=21`.\n",
    "2. Use stratified K-fold cross-validation with `10` splits to evaluate the accuracy of the model.\n",
    "3. The format of the result of the code where you trained and evaluated the baseline model should be similar to what you have got for the logreg."
   ]
  },
  {
   "cell_type": "code",
   "execution_count": 165,
   "metadata": {},
   "outputs": [
    {
     "name": "stdout",
     "output_type": "stream",
     "text": [
      "train -  2.01187     |     valid -  1.42604\n",
      "train -  1.84641     |     valid -  2.48521\n",
      "train -  1.91562     |     valid -  2.26627\n",
      "train -  2.07976     |     valid -  2.45562\n",
      "train -  1.91694     |     valid -  2.06509\n",
      "train -  1.98484     |     valid -  1.39053\n",
      "train -  2.02701     |     valid -  2.40476\n",
      "train -  1.9137     |     valid -  2.38095\n",
      "train -  1.93412     |     valid -  2.36905\n",
      "train -  2.01713     |     valid -  1.65476\n",
      "Average accuracy on crossval is 2.08983\n",
      "Std is  0.41264\n",
      "CPU times: user 5.64 s, sys: 0 ns, total: 5.64 s\n",
      "Wall time: 5.64 s\n"
     ]
    }
   ],
   "source": [
    "%%time\n",
    "svc = SVC(probability=True, random_state=21, kernel='linear')\n",
    "crossval(10, X, y, svc)"
   ]
  },
  {
   "cell_type": "markdown",
   "metadata": {},
   "source": [
    "### b. Optimizing regularization parameters"
   ]
  },
  {
   "cell_type": "markdown",
   "metadata": {},
   "source": [
    "1. In the cells below try different values of the parameter `C`."
   ]
  },
  {
   "cell_type": "code",
   "execution_count": 176,
   "metadata": {},
   "outputs": [
    {
     "name": "stdout",
     "output_type": "stream",
     "text": [
      "C parameter is: 0.5\n",
      "train -  2.11338     |     valid -  1.62722\n",
      "train -  1.98484     |     valid -  2.85799\n",
      "train -  2.15755     |     valid -  2.40828\n",
      "train -  2.19183     |     valid -  2.91716\n",
      "train -  2.05603     |     valid -  1.88166\n",
      "train -  2.12986     |     valid -  1.64497\n",
      "train -  2.20553     |     valid -  2.24405\n",
      "train -  2.15349     |     valid -  2.53571\n",
      "train -  2.20356     |     valid -  2.46429\n",
      "train -  2.18841     |     valid -  1.79167\n",
      "Average accuracy on crossval is 2.2373\n",
      "Std is  0.45447\n",
      "\n",
      "C parameter is: 1.7\n",
      "train -  2.00066     |     valid -  1.52071\n",
      "train -  1.7027     |     valid -  2.20118\n",
      "train -  1.86223     |     valid -  2.3432\n",
      "train -  1.84838     |     valid -  2.29586\n",
      "train -  1.9143     |     valid -  2.06509\n",
      "train -  1.93408     |     valid -  1.4142\n",
      "train -  2.06258     |     valid -  2.41071\n",
      "train -  1.88603     |     valid -  2.33929\n",
      "train -  1.93742     |     valid -  2.39286\n",
      "train -  1.97563     |     valid -  1.84524\n",
      "Average accuracy on crossval is 2.08283\n",
      "Std is  0.34877\n",
      "\n",
      "C parameter is: 2\n",
      "train -  2.07713     |     valid -  1.5858\n",
      "train -  1.69347     |     valid -  2.20118\n",
      "train -  1.83586     |     valid -  2.3432\n",
      "train -  1.79565     |     valid -  2.02367\n",
      "train -  1.91958     |     valid -  2.08284\n",
      "train -  1.9354     |     valid -  1.42012\n",
      "train -  2.01713     |     valid -  2.33333\n",
      "train -  1.85178     |     valid -  2.2619\n",
      "train -  1.88999     |     valid -  2.35119\n",
      "train -  2.02042     |     valid -  2.07143\n",
      "Average accuracy on crossval is 2.06747\n",
      "Std is  0.30596\n",
      "\n",
      "C parameter is: 3\n",
      "train -  1.89782     |     valid -  1.44379\n",
      "train -  1.81015     |     valid -  2.49112\n",
      "train -  1.82993     |     valid -  2.31953\n",
      "train -  1.8207     |     valid -  1.81657\n",
      "train -  1.86157     |     valid -  1.89941\n",
      "train -  1.93869     |     valid -  1.77515\n",
      "train -  1.87945     |     valid -  2.22024\n",
      "train -  1.78986     |     valid -  2.30357\n",
      "train -  1.71212     |     valid -  2.10714\n",
      "train -  1.76153     |     valid -  1.82738\n",
      "Average accuracy on crossval is 2.02039\n",
      "Std is  0.3041\n",
      "\n",
      "C parameter is: 4\n",
      "train -  1.92815     |     valid -  1.43195\n",
      "train -  1.66711     |     valid -  2.46154\n",
      "train -  1.73368     |     valid -  2.21302\n",
      "train -  1.79038     |     valid -  1.97633\n",
      "train -  1.75808     |     valid -  1.84615\n",
      "train -  1.82861     |     valid -  1.68639\n",
      "train -  1.8643     |     valid -  2.2381\n",
      "train -  1.77009     |     valid -  2.20238\n",
      "train -  1.67194     |     valid -  1.95833\n",
      "train -  1.76548     |     valid -  1.77976\n",
      "Average accuracy on crossval is 1.9794\n",
      "Std is  0.29108\n",
      "\n",
      "C parameter is: 10\n",
      "train -  1.81015     |     valid -  1.50296\n",
      "train -  1.63151     |     valid -  2.50888\n",
      "train -  1.559     |     valid -  2.02367\n",
      "train -  1.75214     |     valid -  2.18343\n",
      "train -  1.64008     |     valid -  1.49112\n",
      "train -  1.77521     |     valid -  1.60355\n",
      "train -  1.76087     |     valid -  2.04167\n",
      "train -  1.71212     |     valid -  2.0119\n",
      "train -  1.65942     |     valid -  2.08333\n",
      "train -  1.74506     |     valid -  1.77976\n",
      "Average accuracy on crossval is 1.92303\n",
      "Std is  0.30894\n",
      "\n",
      "CPU times: user 50.8 s, sys: 0 ns, total: 50.8 s\n",
      "Wall time: 50.8 s\n"
     ]
    }
   ],
   "source": [
    "%%time\n",
    "#dofault value of C is 1\n",
    "for c in [0.5, 1.7, 2, 3, 4, 10]:\n",
    "    print(\"C parameter is:\", c)\n",
    "    svc = SVC(probability=True, C=c, random_state=21, kernel='linear')\n",
    "    crossval(10, X, y, svc)\n",
    "    print()\n",
    "    "
   ]
  },
  {
   "cell_type": "code",
   "execution_count": null,
   "metadata": {},
   "outputs": [],
   "source": []
  },
  {
   "cell_type": "code",
   "execution_count": null,
   "metadata": {},
   "outputs": [],
   "source": []
  },
  {
   "cell_type": "markdown",
   "metadata": {},
   "source": [
    "## 4. Tree"
   ]
  },
  {
   "cell_type": "markdown",
   "metadata": {},
   "source": [
    "### a. Default regularization"
   ]
  },
  {
   "cell_type": "markdown",
   "metadata": {},
   "source": [
    "1. Train a baseline model with the only parameter `max_depth=10` and `random_state=21`.\n",
    "2. Use stratified K-fold cross-validation with `10` splits to evaluate the accuracy of the model.\n",
    "3. The format of the result of the code where you trained and evaluated the baseline model should be similar to what you have got for the logreg."
   ]
  },
  {
   "cell_type": "code",
   "execution_count": 206,
   "metadata": {},
   "outputs": [
    {
     "name": "stdout",
     "output_type": "stream",
     "text": [
      "train -  1.02315     |     valid -  1.01324\n",
      "train -  0.95225     |     valid -  1.61382\n",
      "train -  0.89033     |     valid -  1.48791\n",
      "train -  1.10181     |     valid -  1.97395\n",
      "train -  0.94216     |     valid -  1.30399\n",
      "train -  1.04046     |     valid -  0.83123\n",
      "train -  1.0133     |     valid -  1.55136\n",
      "train -  0.95846     |     valid -  1.5373\n",
      "train -  0.88345     |     valid -  1.6109\n",
      "train -  0.88466     |     valid -  1.05682\n",
      "Average accuracy on crossval is 1.39805\n",
      "Std is  0.32698\n",
      "CPU times: user 51.6 ms, sys: 0 ns, total: 51.6 ms\n",
      "Wall time: 48.8 ms\n"
     ]
    },
    {
     "data": {
      "text/plain": [
       "(1.3980511980642922, 0.3269753579622608)"
      ]
     },
     "execution_count": 206,
     "metadata": {},
     "output_type": "execute_result"
    }
   ],
   "source": [
    "%%time\n",
    "dtr = DecisionTreeRegressor(max_depth=10, random_state=21)\n",
    "crossval(10, X, y, dtr)"
   ]
  },
  {
   "cell_type": "markdown",
   "metadata": {},
   "source": [
    "### b. Optimizing regularization parameters"
   ]
  },
  {
   "cell_type": "markdown",
   "metadata": {},
   "source": [
    "1. In the cells below try different values of the parameter `max_depth`.\n",
    "2. As a bonus, play with other regularization parameters trying to find the best combination."
   ]
  },
  {
   "cell_type": "code",
   "execution_count": 205,
   "metadata": {},
   "outputs": [
    {
     "name": "stdout",
     "output_type": "stream",
     "text": [
      "Max depth parameter is: 14\n",
      "train -  0.52356     |     valid -  0.85309\n",
      "train -  0.5671     |     valid -  1.13364\n",
      "train -  0.47109     |     valid -  1.4898\n",
      "train -  0.70651     |     valid -  1.48805\n",
      "train -  0.35379     |     valid -  0.92586\n",
      "train -  0.50839     |     valid -  0.87273\n",
      "train -  0.4908     |     valid -  1.24304\n",
      "train -  0.54201     |     valid -  0.90476\n",
      "train -  0.37308     |     valid -  1.28226\n",
      "train -  0.34434     |     valid -  0.80634\n",
      "Average accuracy on crossval is 1.09996\n",
      "Std is  0.24993\n",
      "\n",
      "Max depth parameter is: 17\n",
      "train -  0.19661     |     valid -  0.76592\n",
      "train -  0.20558     |     valid -  0.84105\n",
      "train -  0.15992     |     valid -  1.21175\n",
      "train -  0.50041     |     valid -  1.42551\n",
      "train -  0.0815     |     valid -  0.75332\n",
      "train -  0.19045     |     valid -  0.7454\n",
      "train -  0.22106     |     valid -  1.0274\n",
      "train -  0.19525     |     valid -  0.79481\n",
      "train -  0.15535     |     valid -  1.30353\n",
      "train -  0.10297     |     valid -  0.62858\n",
      "Average accuracy on crossval is 0.94973\n",
      "Std is  0.26063\n",
      "\n",
      "Max depth parameter is: 20\n",
      "train -  0.06181     |     valid -  0.69529\n",
      "train -  0.05922     |     valid -  1.16967\n",
      "train -  0.05761     |     valid -  1.22571\n",
      "train -  0.27452     |     valid -  1.20064\n",
      "train -  0.02175     |     valid -  0.77906\n",
      "train -  0.07912     |     valid -  0.66722\n",
      "train -  0.07676     |     valid -  1.01714\n",
      "train -  0.08914     |     valid -  0.9914\n",
      "train -  0.04536     |     valid -  1.19324\n",
      "train -  0.04244     |     valid -  0.49518\n",
      "Average accuracy on crossval is 0.94345\n",
      "Std is  0.25159\n",
      "\n",
      "Max depth parameter is: 25\n",
      "train -  0.00657     |     valid -  0.63908\n",
      "train -  0.01853     |     valid -  0.96168\n",
      "train -  0.00525     |     valid -  1.17793\n",
      "train -  0.0423     |     valid -  1.10827\n",
      "train -  0.00113     |     valid -  0.63917\n",
      "train -  0.03307     |     valid -  0.66299\n",
      "train -  0.00419     |     valid -  0.9036\n",
      "train -  0.00033     |     valid -  0.59524\n",
      "train -  0.00056     |     valid -  1.15403\n",
      "train -  0.00053     |     valid -  0.46429\n",
      "Average accuracy on crossval is 0.83063\n",
      "Std is  0.24816\n",
      "\n",
      "Max depth parameter is: 30\n",
      "train -  0.0     |     valid -  0.70414\n",
      "train -  0.0     |     valid -  1.13609\n",
      "train -  0.0     |     valid -  1.15385\n",
      "train -  0.0     |     valid -  1.26036\n",
      "train -  0.0     |     valid -  0.69822\n",
      "train -  0.0     |     valid -  0.63314\n",
      "train -  0.0     |     valid -  0.875\n",
      "train -  0.0     |     valid -  0.58929\n",
      "train -  0.0     |     valid -  1.14881\n",
      "train -  0.0     |     valid -  0.46429\n",
      "Average accuracy on crossval is 0.86632\n",
      "Std is  0.27164\n",
      "\n",
      "Max depth parameter is: 50\n",
      "train -  0.0     |     valid -  0.70414\n",
      "train -  0.0     |     valid -  1.13609\n",
      "train -  0.0     |     valid -  1.15385\n",
      "train -  0.0     |     valid -  1.26036\n",
      "train -  0.0     |     valid -  0.69822\n",
      "train -  0.0     |     valid -  0.63314\n",
      "train -  0.0     |     valid -  0.875\n",
      "train -  0.0     |     valid -  0.58929\n",
      "train -  0.0     |     valid -  1.14881\n",
      "train -  0.0     |     valid -  0.46429\n",
      "Average accuracy on crossval is 0.86632\n",
      "Std is  0.27164\n",
      "\n",
      "Max depth parameter is: 100\n",
      "train -  0.0     |     valid -  0.70414\n",
      "train -  0.0     |     valid -  1.13609\n",
      "train -  0.0     |     valid -  1.15385\n",
      "train -  0.0     |     valid -  1.26036\n",
      "train -  0.0     |     valid -  0.69822\n",
      "train -  0.0     |     valid -  0.63314\n",
      "train -  0.0     |     valid -  0.875\n",
      "train -  0.0     |     valid -  0.58929\n",
      "train -  0.0     |     valid -  1.14881\n",
      "train -  0.0     |     valid -  0.46429\n",
      "Average accuracy on crossval is 0.86632\n",
      "Std is  0.27164\n",
      "\n",
      "CPU times: user 383 ms, sys: 0 ns, total: 383 ms\n",
      "Wall time: 368 ms\n"
     ]
    }
   ],
   "source": [
    "%%time\n",
    "for max_depth in [14, 17, 20, 25, 30, 50, 100]:\n",
    "    print(\"Max depth parameter is:\", max_depth)\n",
    "    dtr = DecisionTreeRegressor(max_depth=max_depth, random_state=21)\n",
    "    crossval(10, X, y, dtr)\n",
    "    print()\n",
    "#the optimal depth is near 25"
   ]
  },
  {
   "cell_type": "code",
   "execution_count": 214,
   "metadata": {},
   "outputs": [
    {
     "name": "stdout",
     "output_type": "stream",
     "text": [
      "max_features parameter is: 4\n",
      "train -  0.21043     |     valid -  0.69411\n",
      "train -  0.24427     |     valid -  0.69413\n",
      "train -  0.16982     |     valid -  1.44526\n",
      "train -  0.30576     |     valid -  2.01882\n",
      "train -  0.15506     |     valid -  1.05201\n",
      "train -  0.24976     |     valid -  0.74177\n",
      "train -  0.37656     |     valid -  0.96246\n",
      "train -  0.27423     |     valid -  1.85279\n",
      "train -  0.3441     |     valid -  1.3065\n",
      "train -  0.16678     |     valid -  1.07519\n",
      "Average accuracy on crossval is 1.1843\n",
      "Std is  0.44512\n",
      "\n",
      "max_features parameter is: 7\n",
      "train -  0.10085     |     valid -  0.79768\n",
      "train -  0.11865     |     valid -  1.09355\n",
      "train -  0.03449     |     valid -  1.44914\n",
      "train -  0.04093     |     valid -  1.15904\n",
      "train -  0.15126     |     valid -  1.25578\n",
      "train -  0.22676     |     valid -  0.44646\n",
      "train -  0.03605     |     valid -  1.01563\n",
      "train -  0.0214     |     valid -  1.23034\n",
      "train -  0.06943     |     valid -  1.30306\n",
      "train -  0.06972     |     valid -  0.99308\n",
      "Average accuracy on crossval is 1.07438\n",
      "Std is  0.27174\n",
      "\n",
      "max_features parameter is: 10\n",
      "train -  0.16841     |     valid -  0.9732\n",
      "train -  0.03039     |     valid -  0.71225\n",
      "train -  0.01327     |     valid -  1.03093\n",
      "train -  0.09435     |     valid -  1.05501\n",
      "train -  0.11633     |     valid -  0.60959\n",
      "train -  0.14021     |     valid -  0.72327\n",
      "train -  0.02542     |     valid -  0.88607\n",
      "train -  0.01967     |     valid -  1.20681\n",
      "train -  0.00665     |     valid -  1.45239\n",
      "train -  0.05019     |     valid -  1.10973\n",
      "Average accuracy on crossval is 0.97593\n",
      "Std is  0.24149\n",
      "\n",
      "max_features parameter is: 20\n",
      "train -  0.01676     |     valid -  0.91627\n",
      "train -  0.02163     |     valid -  1.03337\n",
      "train -  0.00398     |     valid -  1.07512\n",
      "train -  0.04247     |     valid -  0.62941\n",
      "train -  0.0298     |     valid -  0.74577\n",
      "train -  0.151     |     valid -  0.90008\n",
      "train -  0.01027     |     valid -  1.00967\n",
      "train -  0.01332     |     valid -  1.01083\n",
      "train -  0.00489     |     valid -  1.045\n",
      "train -  0.02225     |     valid -  0.9043\n",
      "Average accuracy on crossval is 0.92698\n",
      "Std is  0.13557\n",
      "\n",
      "CPU times: user 138 ms, sys: 5.52 ms, total: 144 ms\n",
      "Wall time: 135 ms\n"
     ]
    }
   ],
   "source": [
    "%%time\n",
    "for max_features in [4, 7, 10, 20]:\n",
    "    print(\"max_features parameter is:\", max_features)\n",
    "    dtr = DecisionTreeRegressor(max_depth=25, max_features=max_features, random_state=21)\n",
    "    crossval(10, X, y, dtr)\n",
    "    print()"
   ]
  },
  {
   "cell_type": "markdown",
   "metadata": {},
   "source": [
    "## 5. Random forest"
   ]
  },
  {
   "cell_type": "markdown",
   "metadata": {},
   "source": [
    "### a. Default regularization"
   ]
  },
  {
   "cell_type": "markdown",
   "metadata": {},
   "source": [
    "1. Train a baseline model with the only parameters `n_estimators=50`, `max_depth=14`, `random_state=21`.\n",
    "2. Use stratified K-fold cross-validation with `10` splits to evaluate the accuracy of the model.\n",
    "3. The format of the result of the code where you trained and evaluated the baseline model should be similar to what you have got for the logreg."
   ]
  },
  {
   "cell_type": "code",
   "execution_count": 215,
   "metadata": {},
   "outputs": [
    {
     "name": "stdout",
     "output_type": "stream",
     "text": [
      "train -  0.01676     |     valid -  0.91627\n",
      "train -  0.02163     |     valid -  1.03337\n",
      "train -  0.00398     |     valid -  1.07512\n",
      "train -  0.04247     |     valid -  0.62941\n",
      "train -  0.0298     |     valid -  0.74577\n",
      "train -  0.151     |     valid -  0.90008\n",
      "train -  0.01027     |     valid -  1.00967\n",
      "train -  0.01332     |     valid -  1.01083\n",
      "train -  0.00489     |     valid -  1.045\n",
      "train -  0.02225     |     valid -  0.9043\n",
      "Average accuracy on crossval is 0.92698\n",
      "Std is  0.13557\n",
      "CPU times: user 47.7 ms, sys: 824 µs, total: 48.5 ms\n",
      "Wall time: 45.6 ms\n"
     ]
    },
    {
     "data": {
      "text/plain": [
       "(0.926982450276123, 0.13557229445362104)"
      ]
     },
     "execution_count": 215,
     "metadata": {},
     "output_type": "execute_result"
    }
   ],
   "source": [
    "%%time\n",
    "rfr = RandomForestRegressor(n_estimators=50, max_depth=14, random_state=21)\n",
    "crossval(10, X, y, dtr)"
   ]
  },
  {
   "cell_type": "markdown",
   "metadata": {},
   "source": [
    "### b. Optimizing regularization parameters"
   ]
  },
  {
   "cell_type": "markdown",
   "metadata": {},
   "source": [
    "1. In the new cells try different values of the parameters `max_depth` and `n_estimators`.\n",
    "2. As a bonus, play with other regularization parameters trying to find the best combination."
   ]
  },
  {
   "cell_type": "code",
   "execution_count": 213,
   "metadata": {},
   "outputs": [
    {
     "name": "stdout",
     "output_type": "stream",
     "text": [
      "max_depth: 10 n_estimators 30\n",
      "train -  0.7702     |     valid -  0.73782\n",
      "train -  0.71903     |     valid -  1.24285\n",
      "train -  0.71961     |     valid -  1.30585\n",
      "train -  0.72041     |     valid -  1.32863\n",
      "train -  0.6721     |     valid -  0.80922\n",
      "train -  0.78579     |     valid -  0.84013\n",
      "train -  0.67977     |     valid -  1.26031\n",
      "train -  0.67473     |     valid -  1.13262\n",
      "train -  0.67635     |     valid -  1.06397\n",
      "train -  0.72462     |     valid -  0.78805\n",
      "Average accuracy on crossval is 1.05094\n",
      "Std is  0.22352\n",
      "\n",
      "max_depth: 10 n_estimators 70\n",
      "train -  0.74707     |     valid -  0.70152\n",
      "train -  0.70003     |     valid -  1.14894\n",
      "train -  0.70005     |     valid -  1.32663\n",
      "train -  0.69444     |     valid -  1.24459\n",
      "train -  0.68106     |     valid -  0.81018\n",
      "train -  0.79272     |     valid -  0.84688\n",
      "train -  0.67221     |     valid -  1.2328\n",
      "train -  0.69116     |     valid -  1.18575\n",
      "train -  0.6664     |     valid -  1.07911\n",
      "train -  0.70934     |     valid -  0.76153\n",
      "Average accuracy on crossval is 1.03379\n",
      "Std is  0.21856\n",
      "\n",
      "max_depth: 10 n_estimators 90\n",
      "train -  0.75533     |     valid -  0.69683\n",
      "train -  0.709     |     valid -  1.14473\n",
      "train -  0.70483     |     valid -  1.32232\n",
      "train -  0.70591     |     valid -  1.26729\n",
      "train -  0.68955     |     valid -  0.80879\n",
      "train -  0.7947     |     valid -  0.8369\n",
      "train -  0.67079     |     valid -  1.24284\n",
      "train -  0.68681     |     valid -  1.16819\n",
      "train -  0.65711     |     valid -  1.09179\n",
      "train -  0.70787     |     valid -  0.74968\n",
      "Average accuracy on crossval is 1.03294\n",
      "Std is  0.22335\n",
      "\n",
      "max_depth: 10 n_estimators 120\n",
      "train -  0.75208     |     valid -  0.69765\n",
      "train -  0.70327     |     valid -  1.13568\n",
      "train -  0.7183     |     valid -  1.3263\n",
      "train -  0.71087     |     valid -  1.26921\n",
      "train -  0.69761     |     valid -  0.82764\n",
      "train -  0.78633     |     valid -  0.8334\n",
      "train -  0.68035     |     valid -  1.23985\n",
      "train -  0.68319     |     valid -  1.16123\n",
      "train -  0.65692     |     valid -  1.07694\n",
      "train -  0.72265     |     valid -  0.75604\n",
      "Average accuracy on crossval is 1.03239\n",
      "Std is  0.22016\n",
      "\n",
      "max_depth: 20 n_estimators 30\n",
      "train -  0.11713     |     valid -  0.50157\n",
      "train -  0.12127     |     valid -  0.59009\n",
      "train -  0.1144     |     valid -  0.78948\n",
      "train -  0.1371     |     valid -  0.68019\n",
      "train -  0.10409     |     valid -  0.44127\n",
      "train -  0.117     |     valid -  0.4464\n",
      "train -  0.09099     |     valid -  0.58446\n",
      "train -  0.11318     |     valid -  0.56496\n",
      "train -  0.10784     |     valid -  0.63788\n",
      "train -  0.12195     |     valid -  0.39244\n",
      "Average accuracy on crossval is 0.56287\n",
      "Std is  0.11537\n",
      "\n",
      "max_depth: 20 n_estimators 70\n",
      "train -  0.10178     |     valid -  0.44896\n",
      "train -  0.104     |     valid -  0.54085\n",
      "train -  0.11015     |     valid -  0.82389\n",
      "train -  0.11417     |     valid -  0.64469\n",
      "train -  0.1027     |     valid -  0.46456\n",
      "train -  0.11633     |     valid -  0.41228\n",
      "train -  0.09236     |     valid -  0.54456\n",
      "train -  0.10327     |     valid -  0.56318\n",
      "train -  0.10021     |     valid -  0.65526\n",
      "train -  0.11408     |     valid -  0.38423\n",
      "Average accuracy on crossval is 0.54825\n",
      "Std is  0.1262\n",
      "\n",
      "max_depth: 20 n_estimators 90\n",
      "train -  0.10464     |     valid -  0.43189\n",
      "train -  0.10518     |     valid -  0.5449\n",
      "train -  0.10992     |     valid -  0.81627\n",
      "train -  0.11695     |     valid -  0.65454\n",
      "train -  0.10316     |     valid -  0.45304\n",
      "train -  0.12053     |     valid -  0.41038\n",
      "train -  0.09476     |     valid -  0.56368\n",
      "train -  0.10244     |     valid -  0.56097\n",
      "train -  0.09972     |     valid -  0.65915\n",
      "train -  0.11277     |     valid -  0.37026\n",
      "Average accuracy on crossval is 0.54651\n",
      "Std is  0.13004\n",
      "\n",
      "max_depth: 20 n_estimators 120\n",
      "train -  0.10462     |     valid -  0.43667\n",
      "train -  0.10171     |     valid -  0.56198\n",
      "train -  0.11246     |     valid -  0.79907\n",
      "train -  0.1186     |     valid -  0.66777\n",
      "train -  0.10211     |     valid -  0.44669\n",
      "train -  0.11899     |     valid -  0.39346\n",
      "train -  0.09793     |     valid -  0.57066\n",
      "train -  0.09996     |     valid -  0.56698\n",
      "train -  0.09961     |     valid -  0.6473\n",
      "train -  0.11704     |     valid -  0.39103\n",
      "Average accuracy on crossval is 0.54816\n",
      "Std is  0.12629\n",
      "\n",
      "max_depth: 25 n_estimators 30\n",
      "train -  0.08669     |     valid -  0.48855\n",
      "train -  0.08766     |     valid -  0.59602\n",
      "train -  0.08704     |     valid -  0.77814\n",
      "train -  0.08999     |     valid -  0.62326\n",
      "train -  0.08172     |     valid -  0.4165\n",
      "train -  0.09044     |     valid -  0.40809\n",
      "train -  0.07112     |     valid -  0.55095\n",
      "train -  0.08321     |     valid -  0.55202\n",
      "train -  0.08426     |     valid -  0.60582\n",
      "train -  0.08761     |     valid -  0.38191\n",
      "Average accuracy on crossval is 0.54013\n",
      "Std is  0.11475\n",
      "\n",
      "max_depth: 25 n_estimators 70\n",
      "train -  0.07356     |     valid -  0.42764\n",
      "train -  0.07172     |     valid -  0.54237\n",
      "train -  0.07673     |     valid -  0.78373\n",
      "train -  0.07503     |     valid -  0.59168\n",
      "train -  0.07583     |     valid -  0.43392\n",
      "train -  0.08082     |     valid -  0.38413\n",
      "train -  0.06881     |     valid -  0.514\n",
      "train -  0.07289     |     valid -  0.57676\n",
      "train -  0.07698     |     valid -  0.62832\n",
      "train -  0.08166     |     valid -  0.36435\n",
      "Average accuracy on crossval is 0.52469\n",
      "Std is  0.1219\n",
      "\n",
      "max_depth: 25 n_estimators 90\n",
      "train -  0.07269     |     valid -  0.4125\n",
      "train -  0.07228     |     valid -  0.5432\n",
      "train -  0.07627     |     valid -  0.77799\n",
      "train -  0.07574     |     valid -  0.60039\n",
      "train -  0.07563     |     valid -  0.42708\n",
      "train -  0.08356     |     valid -  0.37833\n",
      "train -  0.07014     |     valid -  0.53383\n",
      "train -  0.07246     |     valid -  0.57106\n",
      "train -  0.07624     |     valid -  0.63262\n",
      "train -  0.07997     |     valid -  0.3494\n",
      "Average accuracy on crossval is 0.52264\n",
      "Std is  0.12583\n",
      "\n",
      "max_depth: 25 n_estimators 120\n",
      "train -  0.07299     |     valid -  0.41578\n",
      "train -  0.06857     |     valid -  0.55783\n",
      "train -  0.07672     |     valid -  0.75356\n",
      "train -  0.07734     |     valid -  0.61015\n",
      "train -  0.0748     |     valid -  0.42147\n",
      "train -  0.08255     |     valid -  0.36133\n",
      "train -  0.07095     |     valid -  0.54038\n",
      "train -  0.07145     |     valid -  0.56372\n",
      "train -  0.07738     |     valid -  0.6194\n",
      "train -  0.08189     |     valid -  0.36528\n",
      "Average accuracy on crossval is 0.52089\n",
      "Std is  0.12083\n",
      "\n",
      "max_depth: 30 n_estimators 30\n",
      "train -  0.08327     |     valid -  0.50023\n",
      "train -  0.08604     |     valid -  0.58255\n",
      "train -  0.0856     |     valid -  0.78433\n",
      "train -  0.08428     |     valid -  0.59586\n",
      "train -  0.08057     |     valid -  0.40491\n",
      "train -  0.08842     |     valid -  0.40594\n",
      "train -  0.07019     |     valid -  0.55767\n",
      "train -  0.08167     |     valid -  0.57404\n",
      "train -  0.08034     |     valid -  0.61223\n",
      "train -  0.08282     |     valid -  0.39314\n",
      "Average accuracy on crossval is 0.54109\n",
      "Std is  0.11431\n",
      "\n",
      "max_depth: 30 n_estimators 70\n",
      "train -  0.07122     |     valid -  0.42949\n",
      "train -  0.06995     |     valid -  0.5344\n",
      "train -  0.0729     |     valid -  0.77755\n",
      "train -  0.07117     |     valid -  0.56841\n",
      "train -  0.07364     |     valid -  0.4302\n",
      "train -  0.07773     |     valid -  0.37809\n",
      "train -  0.06649     |     valid -  0.51788\n",
      "train -  0.07112     |     valid -  0.58084\n",
      "train -  0.07355     |     valid -  0.62575\n",
      "train -  0.07767     |     valid -  0.36922\n",
      "Average accuracy on crossval is 0.52118\n",
      "Std is  0.11954\n",
      "\n",
      "max_depth: 30 n_estimators 90\n",
      "train -  0.07021     |     valid -  0.41038\n",
      "train -  0.07039     |     valid -  0.5327\n",
      "train -  0.0725     |     valid -  0.77366\n",
      "train -  0.07174     |     valid -  0.57239\n",
      "train -  0.07328     |     valid -  0.4212\n",
      "train -  0.07981     |     valid -  0.37035\n",
      "train -  0.06712     |     valid -  0.53827\n",
      "train -  0.07029     |     valid -  0.57602\n",
      "train -  0.07254     |     valid -  0.62868\n",
      "train -  0.07652     |     valid -  0.35539\n",
      "Average accuracy on crossval is 0.5179\n",
      "Std is  0.124\n",
      "\n",
      "max_depth: 30 n_estimators 120\n",
      "train -  0.07049     |     valid -  0.41725\n",
      "train -  0.06659     |     valid -  0.55059\n",
      "train -  0.07246     |     valid -  0.75057\n",
      "train -  0.07284     |     valid -  0.58996\n",
      "train -  0.07217     |     valid -  0.4142\n",
      "train -  0.07909     |     valid -  0.35638\n",
      "train -  0.06882     |     valid -  0.54318\n"
     ]
    },
    {
     "name": "stdout",
     "output_type": "stream",
     "text": [
      "train -  0.06906     |     valid -  0.56744\n",
      "train -  0.07427     |     valid -  0.61722\n",
      "train -  0.07806     |     valid -  0.37235\n",
      "Average accuracy on crossval is 0.51791\n",
      "Std is  0.11896\n",
      "\n",
      "max_depth: 50 n_estimators 30\n",
      "train -  0.08317     |     valid -  0.49138\n",
      "train -  0.08515     |     valid -  0.57946\n",
      "train -  0.08625     |     valid -  0.78625\n",
      "train -  0.08328     |     valid -  0.59425\n",
      "train -  0.07986     |     valid -  0.40427\n",
      "train -  0.08808     |     valid -  0.40682\n",
      "train -  0.06997     |     valid -  0.5514\n",
      "train -  0.08131     |     valid -  0.57753\n",
      "train -  0.08002     |     valid -  0.61277\n",
      "train -  0.08274     |     valid -  0.38834\n",
      "Average accuracy on crossval is 0.53925\n",
      "Std is  0.11554\n",
      "\n",
      "max_depth: 50 n_estimators 70\n",
      "train -  0.07089     |     valid -  0.42513\n",
      "train -  0.06967     |     valid -  0.53223\n",
      "train -  0.07242     |     valid -  0.77751\n",
      "train -  0.071     |     valid -  0.56668\n",
      "train -  0.07338     |     valid -  0.43586\n",
      "train -  0.07721     |     valid -  0.37912\n",
      "train -  0.06622     |     valid -  0.51419\n",
      "train -  0.07059     |     valid -  0.57927\n",
      "train -  0.07343     |     valid -  0.62662\n",
      "train -  0.07779     |     valid -  0.36584\n",
      "Average accuracy on crossval is 0.52024\n",
      "Std is  0.11968\n",
      "\n",
      "max_depth: 50 n_estimators 90\n",
      "train -  0.07008     |     valid -  0.40723\n",
      "train -  0.07023     |     valid -  0.52955\n",
      "train -  0.07206     |     valid -  0.77441\n",
      "train -  0.0716     |     valid -  0.57044\n",
      "train -  0.07305     |     valid -  0.42311\n",
      "train -  0.07933     |     valid -  0.37072\n",
      "train -  0.06681     |     valid -  0.53448\n",
      "train -  0.06988     |     valid -  0.57456\n",
      "train -  0.07262     |     valid -  0.62904\n",
      "train -  0.07658     |     valid -  0.35155\n",
      "Average accuracy on crossval is 0.51651\n",
      "Std is  0.12453\n",
      "\n",
      "max_depth: 50 n_estimators 120\n",
      "train -  0.07029     |     valid -  0.41534\n",
      "train -  0.06653     |     valid -  0.5487\n",
      "train -  0.07205     |     valid -  0.7508\n",
      "train -  0.07277     |     valid -  0.58707\n",
      "train -  0.07205     |     valid -  0.41568\n",
      "train -  0.07858     |     valid -  0.3563\n",
      "train -  0.06861     |     valid -  0.54039\n",
      "train -  0.06863     |     valid -  0.56562\n",
      "train -  0.07432     |     valid -  0.61757\n",
      "train -  0.07811     |     valid -  0.3697\n",
      "Average accuracy on crossval is 0.51672\n",
      "Std is  0.11905\n",
      "\n",
      "best_mean_acc 0.5165091670754064 best_depth 50 best n_est 90\n"
     ]
    }
   ],
   "source": [
    "best_mean_acc = 100\n",
    "\n",
    "for max_depth in [10, 20, 25, 30, 50]:\n",
    "    for n_estimators in [30, 70, 90, 120]:\n",
    "        print(\"max_depth:\", max_depth, \"n_estimators\", n_estimators)\n",
    "        dtr = RandomForestRegressor(n_estimators=n_estimators, max_depth=max_depth, random_state=21)\n",
    "        acc, _ = crossval(10, X, y, dtr)\n",
    "        if (acc < best_mean_acc):\n",
    "            best_mean_acc = acc\n",
    "            best_depth = max_depth\n",
    "            best_est = n_estimators\n",
    "        print()\n",
    "print(\"best_mean_acc\", best_mean_acc, \"best_depth\", best_depth, \"best n_est\", best_est)    "
   ]
  },
  {
   "cell_type": "markdown",
   "metadata": {},
   "source": [
    "## 6. Predictions"
   ]
  },
  {
   "cell_type": "markdown",
   "metadata": {},
   "source": [
    "1. Choose the best model and use it to make predictions for the test dataset.\n",
    "2. Calculate the final accuracy.\n",
    "3. Analyze: for which weekday your model makes the most errors (in % of the total number of samples of that class in your test dataset).\n",
    "4. Save the model."
   ]
  },
  {
   "cell_type": "code",
   "execution_count": 223,
   "metadata": {},
   "outputs": [
    {
     "name": "stdout",
     "output_type": "stream",
     "text": [
      "train -  0.07008     |     valid -  0.40723\n",
      "train -  0.07023     |     valid -  0.52955\n",
      "train -  0.07206     |     valid -  0.77441\n",
      "train -  0.0716     |     valid -  0.57044\n",
      "train -  0.07305     |     valid -  0.42311\n",
      "train -  0.07933     |     valid -  0.37072\n",
      "train -  0.06681     |     valid -  0.53448\n",
      "train -  0.06988     |     valid -  0.57456\n",
      "train -  0.07262     |     valid -  0.62904\n",
      "train -  0.07658     |     valid -  0.35155\n",
      "Average accuracy on crossval is 0.51651\n",
      "Std is  0.12453\n",
      "Accuracy:  0.09465373657681349\n"
     ]
    }
   ],
   "source": [
    "dtr = RandomForestRegressor(n_estimators=best_est, max_depth=best_depth, random_state=21)\n",
    "crossval(10, X, y, dtr)\n",
    "predict = dtr.predict(X_test)\n",
    "print(\"Accuracy: \", mean_squared_error(predict, y_test))"
   ]
  },
  {
   "cell_type": "code",
   "execution_count": 258,
   "metadata": {},
   "outputs": [
    {
     "name": "stdout",
     "output_type": "stream",
     "text": [
      "Worst day: 0 Error: 0.7037037037037037\n"
     ]
    }
   ],
   "source": [
    "worst_day = 1\n",
    "worst_day_acc  = 1\n",
    "for day in range(7):\n",
    "    indexes = np.where(y_test == day)\n",
    "    predict = dtr.predict(X_test[indexes])\n",
    "    predict = np.round(predict, 0)\n",
    "    error = accuracy_score(predict, y_test[indexes])\n",
    "    #print(\"day\", day, \"Acc:\", mean_squared_error(predict, y_test[indexes]))\n",
    "    if error < worst_day_acc:\n",
    "        worst_day_acc = error  \n",
    "        worst_day = day\n",
    "print(\"Worst day:\", worst_day, \"Error:\", worst_day_acc)"
   ]
  },
  {
   "cell_type": "code",
   "execution_count": 260,
   "metadata": {},
   "outputs": [
    {
     "data": {
      "text/plain": [
       "['RandomForestModel']"
      ]
     },
     "execution_count": 260,
     "metadata": {},
     "output_type": "execute_result"
    }
   ],
   "source": [
    "dump(dtr, \"RandomForestModel\")"
   ]
  },
  {
   "cell_type": "code",
   "execution_count": null,
   "metadata": {},
   "outputs": [],
   "source": []
  },
  {
   "cell_type": "code",
   "execution_count": null,
   "metadata": {},
   "outputs": [],
   "source": []
  },
  {
   "cell_type": "code",
   "execution_count": null,
   "metadata": {},
   "outputs": [],
   "source": []
  },
  {
   "cell_type": "code",
   "execution_count": null,
   "metadata": {},
   "outputs": [],
   "source": []
  },
  {
   "cell_type": "code",
   "execution_count": null,
   "metadata": {},
   "outputs": [],
   "source": []
  },
  {
   "cell_type": "code",
   "execution_count": null,
   "metadata": {},
   "outputs": [],
   "source": []
  },
  {
   "cell_type": "code",
   "execution_count": null,
   "metadata": {},
   "outputs": [],
   "source": []
  },
  {
   "cell_type": "code",
   "execution_count": null,
   "metadata": {},
   "outputs": [],
   "source": []
  },
  {
   "cell_type": "code",
   "execution_count": null,
   "metadata": {},
   "outputs": [],
   "source": []
  }
 ],
 "metadata": {
  "kernelspec": {
   "display_name": "Python 3",
   "language": "python",
   "name": "python3"
  },
  "language_info": {
   "codemirror_mode": {
    "name": "ipython",
    "version": 3
   },
   "file_extension": ".py",
   "mimetype": "text/x-python",
   "name": "python",
   "nbconvert_exporter": "python",
   "pygments_lexer": "ipython3",
   "version": "3.8.5"
  }
 },
 "nbformat": 4,
 "nbformat_minor": 4
}
