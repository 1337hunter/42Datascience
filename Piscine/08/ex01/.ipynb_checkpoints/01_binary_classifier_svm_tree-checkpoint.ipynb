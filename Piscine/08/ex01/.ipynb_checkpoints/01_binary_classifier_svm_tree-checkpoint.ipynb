{
 "cells": [
  {
   "cell_type": "markdown",
   "metadata": {},
   "source": [
    "# Day 08. Exercise 01\n",
    "# Binary classifier. SVM. Decision tree"
   ]
  },
  {
   "cell_type": "markdown",
   "metadata": {},
   "source": [
    "## 0. Imports"
   ]
  },
  {
   "cell_type": "code",
   "execution_count": 1,
   "metadata": {},
   "outputs": [],
   "source": [
    "import pandas as pd\n",
    "import sklearn\n",
    "import sqlite3\n",
    "import numpy as np\n",
    "from sklearn.linear_model import LogisticRegression\n",
    "import matplotlib.pyplot as plt"
   ]
  },
  {
   "cell_type": "markdown",
   "metadata": {},
   "source": [
    "## 1. Preprocessing and logreg visualization"
   ]
  },
  {
   "cell_type": "markdown",
   "metadata": {},
   "source": [
    "Read the file `am_pm.csv` to a dataframe from the previous exercise."
   ]
  },
  {
   "cell_type": "markdown",
   "metadata": {},
   "source": [
    "1. Draw a plot where the x-axis is `am`, the y-axis is `pm`, dots are the days, color depends on the target.\n",
    "2. Add the decision boundary of logistic regression to the plot.\n",
    "3. Draw the same plot (with the boundary), but the color should depend this time on the predictions.\n",
    "\n",
    "Now it should be clear for you how the logistic regression works."
   ]
  },
  {
   "cell_type": "code",
   "execution_count": 2,
   "metadata": {},
   "outputs": [
    {
     "data": {
      "text/html": [
       "<div>\n",
       "<style scoped>\n",
       "    .dataframe tbody tr th:only-of-type {\n",
       "        vertical-align: middle;\n",
       "    }\n",
       "\n",
       "    .dataframe tbody tr th {\n",
       "        vertical-align: top;\n",
       "    }\n",
       "\n",
       "    .dataframe thead th {\n",
       "        text-align: right;\n",
       "    }\n",
       "</style>\n",
       "<table border=\"1\" class=\"dataframe\">\n",
       "  <thead>\n",
       "    <tr style=\"text-align: right;\">\n",
       "      <th></th>\n",
       "      <th>Unnamed: 0</th>\n",
       "      <th>date</th>\n",
       "      <th>am</th>\n",
       "      <th>pm</th>\n",
       "      <th>target</th>\n",
       "      <th>predict</th>\n",
       "    </tr>\n",
       "  </thead>\n",
       "  <tbody>\n",
       "    <tr>\n",
       "      <th>0</th>\n",
       "      <td>0</td>\n",
       "      <td>2020-04-18</td>\n",
       "      <td>1</td>\n",
       "      <td>68</td>\n",
       "      <td>0</td>\n",
       "      <td>1</td>\n",
       "    </tr>\n",
       "    <tr>\n",
       "      <th>1</th>\n",
       "      <td>1</td>\n",
       "      <td>2020-04-19</td>\n",
       "      <td>18</td>\n",
       "      <td>15</td>\n",
       "      <td>0</td>\n",
       "      <td>1</td>\n",
       "    </tr>\n",
       "    <tr>\n",
       "      <th>2</th>\n",
       "      <td>2</td>\n",
       "      <td>2020-04-20</td>\n",
       "      <td>2</td>\n",
       "      <td>23</td>\n",
       "      <td>1</td>\n",
       "      <td>1</td>\n",
       "    </tr>\n",
       "    <tr>\n",
       "      <th>3</th>\n",
       "      <td>3</td>\n",
       "      <td>2020-04-23</td>\n",
       "      <td>10</td>\n",
       "      <td>29</td>\n",
       "      <td>1</td>\n",
       "      <td>1</td>\n",
       "    </tr>\n",
       "    <tr>\n",
       "      <th>4</th>\n",
       "      <td>4</td>\n",
       "      <td>2020-04-24</td>\n",
       "      <td>2</td>\n",
       "      <td>14</td>\n",
       "      <td>1</td>\n",
       "      <td>1</td>\n",
       "    </tr>\n",
       "  </tbody>\n",
       "</table>\n",
       "</div>"
      ],
      "text/plain": [
       "   Unnamed: 0        date  am  pm  target  predict\n",
       "0           0  2020-04-18   1  68       0        1\n",
       "1           1  2020-04-19  18  15       0        1\n",
       "2           2  2020-04-20   2  23       1        1\n",
       "3           3  2020-04-23  10  29       1        1\n",
       "4           4  2020-04-24   2  14       1        1"
      ]
     },
     "execution_count": 2,
     "metadata": {},
     "output_type": "execute_result"
    }
   ],
   "source": [
    "df = pd.read_csv(\"../ex00/data/am_pm.csv\")\n",
    "df.head()"
   ]
  },
  {
   "cell_type": "code",
   "execution_count": 3,
   "metadata": {},
   "outputs": [],
   "source": [
    "\n",
    "clf = LogisticRegression(random_state=21, fit_intercept=False).fit(df[['am', 'pm']].values, df[['target']].values[:, 0])"
   ]
  },
  {
   "cell_type": "code",
   "execution_count": 5,
   "metadata": {},
   "outputs": [
    {
     "name": "stdout",
     "output_type": "stream",
     "text": [
      "-0.0050108491950957195 0.004034990445020853\n",
      "[0.]\n"
     ]
    }
   ],
   "source": [
    "print(clf.coef_[0][0], clf.coef_[0][1])\n",
    "print(clf.intercept_)"
   ]
  },
  {
   "cell_type": "code",
   "execution_count": 6,
   "metadata": {},
   "outputs": [
    {
     "data": {
      "text/plain": [
       "array([[  1.24184909,  84.44573783],\n",
       "       [ 22.35328354,  18.62773629],\n",
       "       [  2.48369817,  28.56252897],\n",
       "       [ 12.41849086,  36.01362349],\n",
       "       [  2.48369817,  17.3858872 ],\n",
       "       [ 37.25547257,  83.20388874],\n",
       "       [ 34.7717744 , 271.96494978],\n",
       "       [  4.96739634,   2.48369817],\n",
       "       [  4.96739634,   1.24184909],\n",
       "       [ 16.14403811,  49.67396343],\n",
       "       [  9.93479269,  64.57615246],\n",
       "       [113.0082668 , 163.92407932],\n",
       "       [ 58.36690703, 147.7800412 ],\n",
       "       [ 13.66033994,  19.86958537],\n",
       "       [100.58977594,  34.7717744 ],\n",
       "       [ 17.3858872 ,  44.70656709],\n",
       "       [  3.72554726, 104.3153232 ],\n",
       "       [ 12.41849086, 163.92407932],\n",
       "       [  3.72554726, 219.80728817],\n",
       "       [ 69.5435488 , 329.09000772],\n",
       "       [  7.45109451, 233.46762812],\n",
       "       [ 81.96203966, 627.1337883 ],\n",
       "       [  2.48369817,  57.12505794],\n",
       "       [ 24.83698171,  17.3858872 ],\n",
       "       [  8.6929436 ,  24.83698171],\n",
       "       [  1.24184909,  59.60875612]])"
      ]
     },
     "execution_count": 6,
     "metadata": {},
     "output_type": "execute_result"
    }
   ],
   "source": [
    "- clf.coef_[0][0]/clf.coef_[0][1] * df[['am', 'pm']].values"
   ]
  },
  {
   "cell_type": "code",
   "execution_count": 14,
   "metadata": {},
   "outputs": [
    {
     "data": {
      "image/png": "[encoded data removed]",
      "text/plain": [
       "<Figure size 1080x576 with 1 Axes>"
      ]
     },
     "metadata": {
      "needs_background": "light"
     },
     "output_type": "display_data"
    }
   ],
   "source": [
    "fig, ax = plt.subplots(1)\n",
    "col =[]\n",
    "for i in range(0, len(df)):\n",
    "    if df['target'].values[i] == 0:\n",
    "        col.append('green')  \n",
    "    else:\n",
    "        col.append('magenta') \n",
    "\n",
    "for i in range(len(df)):\n",
    "    plt.scatter(df['am'].values[i], df['pm'].values[i], c=col[i], s=50,\n",
    "                linewidth = 0)\n",
    "\n",
    "desision_boundary = - clf.coef_[0][0]/clf.coef_[0][1] * df[['am', 'pm']].values\n",
    "plt.plot(df[['am', 'pm']].values,desision_boundary)\n",
    "fig.set_figheight(8)\n",
    "fig.set_figwidth(15)\n",
    "plt.show()"
   ]
  },
  {
   "cell_type": "code",
   "execution_count": 12,
   "metadata": {},
   "outputs": [
    {
     "data": {
      "image/png": "[encoded data removed]",
      "text/plain": [
       "<Figure size 1080x576 with 1 Axes>"
      ]
     },
     "metadata": {
      "needs_background": "light"
     },
     "output_type": "display_data"
    }
   ],
   "source": [
    "fig, ax = plt.subplots(1)\n",
    "col =[]\n",
    "for i in range(0, len(df)):\n",
    "    if df['predict'].values[i] == 0:\n",
    "        col.append('green')  \n",
    "    else:\n",
    "        col.append('magenta') \n",
    "\n",
    "for i in range(len(df)):\n",
    "    plt.scatter(df['am'].values[i], df['pm'].values[i], c=col[i], s=50,\n",
    "                linewidth = 0)\n",
    "\n",
    "fig.set_figheight(8)\n",
    "fig.set_figwidth(15)\n",
    "plt.show()"
   ]
  },
  {
   "cell_type": "code",
   "execution_count": null,
   "metadata": {},
   "outputs": [],
   "source": []
  },
  {
   "cell_type": "code",
   "execution_count": null,
   "metadata": {},
   "outputs": [],
   "source": []
  },
  {
   "cell_type": "code",
   "execution_count": null,
   "metadata": {},
   "outputs": [],
   "source": []
  },
  {
   "cell_type": "code",
   "execution_count": null,
   "metadata": {},
   "outputs": [],
   "source": []
  },
  {
   "cell_type": "code",
   "execution_count": null,
   "metadata": {},
   "outputs": [],
   "source": []
  },
  {
   "cell_type": "code",
   "execution_count": null,
   "metadata": {},
   "outputs": [],
   "source": []
  },
  {
   "cell_type": "code",
   "execution_count": null,
   "metadata": {},
   "outputs": [],
   "source": []
  },
  {
   "cell_type": "code",
   "execution_count": null,
   "metadata": {},
   "outputs": [],
   "source": []
  },
  {
   "cell_type": "code",
   "execution_count": null,
   "metadata": {},
   "outputs": [],
   "source": []
  },
  {
   "cell_type": "markdown",
   "metadata": {},
   "source": [
    "## 2. Standardizing and logreg"
   ]
  },
  {
   "cell_type": "markdown",
   "metadata": {},
   "source": [
    "Linear models can be sensitive to the scale of your variables. You make it easier for them to find the optimal solution when you scale your features.\n",
    "\n",
    "1. Apply `StandardScaler` to `X` and train logistic regression again with the same parameters.\n",
    "2. Calculate `accuracy` for the new model. Did it get better than a naive classifier with the most popular class?\n",
    "3. Draw the plots that were described above but for the new model."
   ]
  },
  {
   "cell_type": "code",
   "execution_count": null,
   "metadata": {},
   "outputs": [],
   "source": []
  },
  {
   "cell_type": "code",
   "execution_count": null,
   "metadata": {},
   "outputs": [],
   "source": []
  },
  {
   "cell_type": "code",
   "execution_count": null,
   "metadata": {},
   "outputs": [],
   "source": []
  },
  {
   "cell_type": "code",
   "execution_count": null,
   "metadata": {},
   "outputs": [],
   "source": []
  },
  {
   "cell_type": "code",
   "execution_count": null,
   "metadata": {},
   "outputs": [],
   "source": []
  },
  {
   "cell_type": "code",
   "execution_count": null,
   "metadata": {},
   "outputs": [],
   "source": []
  },
  {
   "cell_type": "code",
   "execution_count": null,
   "metadata": {},
   "outputs": [],
   "source": []
  },
  {
   "cell_type": "code",
   "execution_count": null,
   "metadata": {},
   "outputs": [],
   "source": []
  },
  {
   "cell_type": "code",
   "execution_count": null,
   "metadata": {},
   "outputs": [],
   "source": []
  },
  {
   "cell_type": "code",
   "execution_count": null,
   "metadata": {},
   "outputs": [],
   "source": []
  },
  {
   "cell_type": "markdown",
   "metadata": {},
   "source": [
    "## 3. SVM"
   ]
  },
  {
   "cell_type": "markdown",
   "metadata": {},
   "source": [
    "1. Apply `SVC` model to the scaled dataframe using parameters `probability=True`, `random_state=21`.\n",
    "2. Calculate `accuracy`.\n",
    "3. Try different kernels, find the best in terms of accuracy.\n",
    "4. Draw both plots again with the decisions boundary to see how this algorithm works."
   ]
  },
  {
   "cell_type": "code",
   "execution_count": null,
   "metadata": {},
   "outputs": [],
   "source": []
  },
  {
   "cell_type": "code",
   "execution_count": null,
   "metadata": {},
   "outputs": [],
   "source": []
  },
  {
   "cell_type": "code",
   "execution_count": null,
   "metadata": {},
   "outputs": [],
   "source": []
  },
  {
   "cell_type": "code",
   "execution_count": null,
   "metadata": {},
   "outputs": [],
   "source": []
  },
  {
   "cell_type": "code",
   "execution_count": null,
   "metadata": {},
   "outputs": [],
   "source": []
  },
  {
   "cell_type": "code",
   "execution_count": null,
   "metadata": {},
   "outputs": [],
   "source": []
  },
  {
   "cell_type": "code",
   "execution_count": null,
   "metadata": {},
   "outputs": [],
   "source": []
  },
  {
   "cell_type": "code",
   "execution_count": null,
   "metadata": {},
   "outputs": [],
   "source": []
  },
  {
   "cell_type": "code",
   "execution_count": null,
   "metadata": {},
   "outputs": [],
   "source": []
  },
  {
   "cell_type": "markdown",
   "metadata": {},
   "source": [
    "## 4. Decision tree"
   ]
  },
  {
   "cell_type": "markdown",
   "metadata": {},
   "source": [
    "1. Apply `DecisionTreeClassifier` to the scaled dataframe using parameters `max_depth=4`, `random_state=42`.\n",
    "2. Calculate accuracy.\n",
    "3. Try different values of `max_depth`.\n",
    "4. Draw both plots again with the decisions boundary to see how this algorithm works.\n",
    "5. Using method `.plot_tree()` visualize the decision tree itself. It is another way of thinking about how the algorithm works.\n",
    "6. How many leaves in the visualized tree label days as working days? Put your answer in the markdown cell in the end of the section."
   ]
  },
  {
   "cell_type": "code",
   "execution_count": null,
   "metadata": {},
   "outputs": [],
   "source": []
  },
  {
   "cell_type": "code",
   "execution_count": null,
   "metadata": {},
   "outputs": [],
   "source": []
  },
  {
   "cell_type": "code",
   "execution_count": null,
   "metadata": {},
   "outputs": [],
   "source": []
  },
  {
   "cell_type": "code",
   "execution_count": null,
   "metadata": {},
   "outputs": [],
   "source": []
  },
  {
   "cell_type": "code",
   "execution_count": null,
   "metadata": {},
   "outputs": [],
   "source": []
  },
  {
   "cell_type": "markdown",
   "metadata": {},
   "source": []
  }
 ],
 "metadata": {
  "kernelspec": {
   "display_name": "Python 3",
   "language": "python",
   "name": "python3"
  },
  "language_info": {
   "codemirror_mode": {
    "name": "ipython",
    "version": 3
   },
   "file_extension": ".py",
   "mimetype": "text/x-python",
   "name": "python",
   "nbconvert_exporter": "python",
   "pygments_lexer": "ipython3",
   "version": "3.8.5"
  }
 },
 "nbformat": 4,
 "nbformat_minor": 4
}
