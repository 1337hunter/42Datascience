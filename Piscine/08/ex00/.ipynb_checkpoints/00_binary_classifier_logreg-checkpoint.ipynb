{
 "cells": [
  {
   "cell_type": "markdown",
   "metadata": {},
   "source": [
    "# Day 08. Exercise 00\n",
    "# Binary classifier. Logistic regression"
   ]
  },
  {
   "cell_type": "markdown",
   "metadata": {},
   "source": [
    "## 0. Imports"
   ]
  },
  {
   "cell_type": "code",
   "execution_count": 276,
   "metadata": {},
   "outputs": [],
   "source": [
    "import pandas as pd\n",
    "import sklearn\n",
    "from sklearn.linear_model import LogisticRegression\n",
    "import sqlite3\n",
    "import matplotlib.pyplot as plt"
   ]
  },
  {
   "cell_type": "markdown",
   "metadata": {},
   "source": [
    "## 1. Preprocessing"
   ]
  },
  {
   "cell_type": "markdown",
   "metadata": {},
   "source": [
    "- Get the data from the file [`checker-timestamp.csv`](https://drive.google.com/file/d/1pooM4cITtG249msX3GK_6W0eEiblzAf5/view?usp=sharing).\n",
    "\n",
    "\n",
    "- Create a dataframe `df` with the columns: `date`, `am`, `pm`, `target`, where `date` is the date of the day, `am` is the number of the commits during the day before midday (integer), `pm` is the number of commits during the day after midday (integer), `target` is weekend/working_day."
   ]
  },
  {
   "cell_type": "code",
   "execution_count": 272,
   "metadata": {},
   "outputs": [],
   "source": [
    "checker = pd.read_csv(\"../data/checker_timestamp.csv\")\n",
    "conn = sqlite3.connect(\"../data/checking-logs.sqlite.sqlite copy\")"
   ]
  },
  {
   "cell_type": "code",
   "execution_count": 287,
   "metadata": {},
   "outputs": [
    {
     "data": {
      "text/html": [
       "<div>\n",
       "<style scoped>\n",
       "    .dataframe tbody tr th:only-of-type {\n",
       "        vertical-align: middle;\n",
       "    }\n",
       "\n",
       "    .dataframe tbody tr th {\n",
       "        vertical-align: top;\n",
       "    }\n",
       "\n",
       "    .dataframe thead th {\n",
       "        text-align: right;\n",
       "    }\n",
       "</style>\n",
       "<table border=\"1\" class=\"dataframe\">\n",
       "  <thead>\n",
       "    <tr style=\"text-align: right;\">\n",
       "      <th></th>\n",
       "      <th>date</th>\n",
       "      <th>am</th>\n",
       "      <th>pm</th>\n",
       "      <th>target</th>\n",
       "    </tr>\n",
       "  </thead>\n",
       "  <tbody>\n",
       "    <tr>\n",
       "      <th>0</th>\n",
       "      <td>2020-04-18</td>\n",
       "      <td>1</td>\n",
       "      <td>68</td>\n",
       "      <td>0</td>\n",
       "    </tr>\n",
       "    <tr>\n",
       "      <th>1</th>\n",
       "      <td>2020-04-19</td>\n",
       "      <td>18</td>\n",
       "      <td>15</td>\n",
       "      <td>0</td>\n",
       "    </tr>\n",
       "    <tr>\n",
       "      <th>2</th>\n",
       "      <td>2020-04-20</td>\n",
       "      <td>2</td>\n",
       "      <td>23</td>\n",
       "      <td>1</td>\n",
       "    </tr>\n",
       "    <tr>\n",
       "      <th>3</th>\n",
       "      <td>2020-04-23</td>\n",
       "      <td>10</td>\n",
       "      <td>29</td>\n",
       "      <td>1</td>\n",
       "    </tr>\n",
       "    <tr>\n",
       "      <th>4</th>\n",
       "      <td>2020-04-24</td>\n",
       "      <td>2</td>\n",
       "      <td>14</td>\n",
       "      <td>1</td>\n",
       "    </tr>\n",
       "  </tbody>\n",
       "</table>\n",
       "</div>"
      ],
      "text/plain": [
       "         date  am  pm target\n",
       "0  2020-04-18   1  68      0\n",
       "1  2020-04-19  18  15      0\n",
       "2  2020-04-20   2  23      1\n",
       "3  2020-04-23  10  29      1\n",
       "4  2020-04-24   2  14      1"
      ]
     },
     "execution_count": 287,
     "metadata": {},
     "output_type": "execute_result"
    }
   ],
   "source": [
    "df = pd.io.sql.read_sql(\"\"\"\n",
    "SELECT date1 as date, am, pm, target\n",
    "FROM (\n",
    "    (SELECT  strftime('%Y-%m-%d', timestamp) as date1  \n",
    "        FROM checker\n",
    "        WHERE uid LIKE \"user_%\"\n",
    "        GROUP BY strftime('%Y-%m-%d', timestamp)) checker_date\n",
    "    JOIN\n",
    "    (SELECT count() as am, strftime('%Y-%m-%d', timestamp) as date2\n",
    "        FROM checker\n",
    "        WHERE CAST(strftime('%H', timestamp) as integer) < 12\n",
    "                            AND CAST(strftime('%H', timestamp) as integer) >= 00\n",
    "                            AND uid LIKE \"user_%\"\n",
    "        GROUP BY strftime('%Y-%m-%d', timestamp)) checker_am\n",
    "    ON checker_date.date1 =  checker_am.date2\n",
    "    JOIN\n",
    "    (SELECT count() as pm, strftime('%Y-%m-%d', timestamp) as date3\n",
    "        FROM checker\n",
    "        WHERE CAST(strftime('%H', timestamp) as integer) > 12\n",
    "                            AND CAST(strftime('%H', timestamp) as integer) <= 23\n",
    "                            AND uid LIKE \"user_%\"\n",
    "        GROUP BY strftime('%Y-%m-%d', timestamp)) checker_pm\n",
    "    ON checker_am.date2 = checker_pm.date3\n",
    "    JOIN\n",
    "    (SELECT strftime('%Y-%m-%d', timestamp) as date_join,\n",
    "            CASE CAST (strftime('%w', timestamp) as integer)\n",
    "              WHEN 0 THEN '0'\n",
    "              WHEN 6 THEN '0'\n",
    "              ELSE '1'\n",
    "            END as target\n",
    "    FROM checker\n",
    "    WHERE uid LIKE \"user_%\"\n",
    "    GROUP BY strftime('%Y-%m-%d', timestamp)) is_working_tab\n",
    "    ON is_working_tab.date_join = checker_pm.date3\n",
    ")\n",
    "\"\"\", conn)\n",
    "df.head()"
   ]
  },
  {
   "cell_type": "markdown",
   "metadata": {},
   "source": [
    "## 2. Exploratory analysis"
   ]
  },
  {
   "cell_type": "markdown",
   "metadata": {},
   "source": [
    "- Create a plot where `x` is am, `y` is pm, each dot is a day, working days and weekends must have different colors.\n",
    "\n",
    "\n",
    "- By looking at the graph do you think it will be easy to classify the days having those two features? Put your answer in the markdown cell in the end of that sectioin: \"yes, it is easy\" or \"no, it is not easy\"."
   ]
  },
  {
   "cell_type": "code",
   "execution_count": 274,
   "metadata": {},
   "outputs": [
    {
     "data": {
      "image/png": "[encoded data removed]",
      "text/plain": [
       "<Figure size 1080x576 with 1 Axes>"
      ]
     },
     "metadata": {
      "needs_background": "light"
     },
     "output_type": "display_data"
    }
   ],
   "source": [
    "\n",
    "fig, ax = plt.subplots(1)\n",
    "col =[]\n",
    "for i in range(0, len(df)):\n",
    "    if df['target'].values[i] == '0':\n",
    "        col.append('red')  \n",
    "    else:\n",
    "        col.append('magenta') \n",
    "\n",
    "for i in range(len(df)):\n",
    "    plt.scatter(df['am'].values[i], df['pm'].values[i], c=col[i], s=50,\n",
    "                linewidth = 0)\n",
    "      \n",
    "fig.set_figheight(8)\n",
    "fig.set_figwidth(15)\n",
    "plt.show()"
   ]
  },
  {
   "cell_type": "markdown",
   "metadata": {},
   "source": [
    "### yes, it is easy"
   ]
  },
  {
   "cell_type": "markdown",
   "metadata": {},
   "source": [
    "## 3. Logistic regression"
   ]
  },
  {
   "cell_type": "markdown",
   "metadata": {},
   "source": [
    "- Train logistic regression on your data using `am` and `pm`, parameters are: `random state=21`, `fit_intercept=False`.\n",
    "\n",
    "\n",
    "- Make predictions for every day of your dataset and add them to your dataframe with the column name `predict`.\n",
    "\n",
    "\n",
    "- Save the dataframe into a file in the subfolder of the day `data` with the name `am_pm.csv`.\n",
    "\n",
    "\n",
    "- Draw another plot like you did before, but the color should be taken from the `predict`.\n",
    "\n",
    "\n",
    "- By looking at the graph do you think if it made good predictions? Put your answer in the markdown cell in the end of that section: \"yes, it is good\"; \"no, it is not good\"."
   ]
  },
  {
   "cell_type": "code",
   "execution_count": 289,
   "metadata": {},
   "outputs": [],
   "source": [
    "\n",
    "clf = LogisticRegression(random_state=21, fit_intercept=False).fit(df[['am', 'pm']].values, df[['target']].values[:, 0])"
   ]
  },
  {
   "cell_type": "code",
   "execution_count": 290,
   "metadata": {},
   "outputs": [],
   "source": [
    "predictions = clf.predict(df[['am', 'pm']].values)"
   ]
  },
  {
   "cell_type": "code",
   "execution_count": 291,
   "metadata": {},
   "outputs": [
    {
     "name": "stdout",
     "output_type": "stream",
     "text": [
      "Score:  0.6923076923076923\n"
     ]
    }
   ],
   "source": [
    "df[['predict']] = predictions\n",
    "df.to_csv(\"./data/am_pm.csv\")\n",
    "print(\"Score: \", clf.score(df[['am', 'pm']].values, df[['target']].values[:, 0]))"
   ]
  },
  {
   "cell_type": "code",
   "execution_count": 293,
   "metadata": {},
   "outputs": [
    {
     "data": {
      "image/png": "[encoded data removed]",
      "text/plain": [
       "<Figure size 1080x576 with 1 Axes>"
      ]
     },
     "metadata": {
      "needs_background": "light"
     },
     "output_type": "display_data"
    }
   ],
   "source": [
    "fig, ax = plt.subplots(1)\n",
    "col =[]\n",
    "for i in range(0, len(df)):\n",
    "    if df['predict'].values[i] == '0':\n",
    "        col.append('green')  \n",
    "    else:\n",
    "        col.append('magenta') \n",
    "\n",
    "for i in range(len(df)):\n",
    "    plt.scatter(df['am'].values[i], df['pm'].values[i], c=col[i], s=50,\n",
    "                linewidth = 0)\n",
    "      \n",
    "fig.set_figheight(8)\n",
    "fig.set_figwidth(15)\n",
    "plt.show()"
   ]
  },
  {
   "cell_type": "markdown",
   "metadata": {},
   "source": [
    "## no, it is not good"
   ]
  },
  {
   "cell_type": "markdown",
   "metadata": {},
   "source": [
    "## 4. Evaluation"
   ]
  },
  {
   "cell_type": "markdown",
   "metadata": {},
   "source": [
    "- Calculate `accuracy` for your predictions.\n",
    "\n",
    "\n",
    "- Calculate `accuracy` for the naive case when each of your prediction is the value of your most popular class of the day.\n",
    "\n",
    "\n",
    "- Comparing the accuracies do you think that the classifier made good predictions? Put your answer in the markdown cell in the end of the secion: \"yes, it is good\"; \"no, it is not good\"."
   ]
  },
  {
   "cell_type": "code",
   "execution_count": 294,
   "metadata": {},
   "outputs": [
    {
     "name": "stdout",
     "output_type": "stream",
     "text": [
      "Accuracy:  0.6923076923076923\n"
     ]
    }
   ],
   "source": [
    "print(\"Accuracy: \", sklearn.metrics.accuracy_score(df[['target']].values[:, 0], df[['predict']].values[:, 0]))"
   ]
  },
  {
   "cell_type": "code",
   "execution_count": 295,
   "metadata": {},
   "outputs": [
    {
     "name": "stdout",
     "output_type": "stream",
     "text": [
      "Accuracy:  0.6923076923076923\n"
     ]
    }
   ],
   "source": [
    "df['predict'] = '1'\n",
    "print(\"Accuracy: \", sklearn.metrics.accuracy_score(df[['target']].values[:, 0], df[['predict']].values[:, 0]))\n",
    "df['predict'] = predictions"
   ]
  },
  {
   "cell_type": "markdown",
   "metadata": {},
   "source": [
    "## no, it is not good"
   ]
  }
 ],
 "metadata": {
  "kernelspec": {
   "display_name": "Python 3",
   "language": "python",
   "name": "python3"
  },
  "language_info": {
   "codemirror_mode": {
    "name": "ipython",
    "version": 3
   },
   "file_extension": ".py",
   "mimetype": "text/x-python",
   "name": "python",
   "nbconvert_exporter": "python",
   "pygments_lexer": "ipython3",
   "version": "3.8.5"
  }
 },
 "nbformat": 4,
 "nbformat_minor": 4
}
