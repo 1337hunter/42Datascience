{
 "cells": [
  {
   "cell_type": "markdown",
   "metadata": {},
   "source": [
    "# Day 08. Exercise 03\n",
    "# Overfitting"
   ]
  },
  {
   "cell_type": "markdown",
   "metadata": {},
   "source": [
    "## 0. Imports"
   ]
  },
  {
   "cell_type": "code",
   "execution_count": 85,
   "metadata": {},
   "outputs": [],
   "source": [
    "import pandas as pd\n",
    "import sklearn\n",
    "import sqlite3\n",
    "import numpy as np\n",
    "from sklearn.preprocessing import OneHotEncoder\n",
    "from sklearn.preprocessing import StandardScaler\n",
    "from sklearn.linear_model import LogisticRegression\n",
    "from sklearn.multiclass import OneVsRestClassifier\n",
    "from sklearn.tree import DecisionTreeClassifier\n",
    "from sklearn.ensemble import RandomForestClassifier\n",
    "from sklearn.svm import SVC\n",
    "from joblib import dump, load\n",
    "from sklearn.model_selection import train_test_split\n",
    "from sklearn.model_selection import cross_val_score\n",
    "import matplotlib.pyplot as plt\n",
    "from matplotlib.colors import ListedColormap\n",
    "from sklearn.compose import ColumnTransformer"
   ]
  },
  {
   "cell_type": "markdown",
   "metadata": {},
   "source": [
    "## 1. Preprocessing"
   ]
  },
  {
   "cell_type": "markdown",
   "metadata": {},
   "source": [
    "1. Read the file `dayofweek.csv` to a dataframe.\n",
    "2. Using `train_test_split` with parameters `test_size=0.2`, `random_state=21` get `X_train`, `y_train`, `X_test`, `y_test`.\n",
    "3. Using, for example, `value_counts()` to check if the distribution of classes is similar in train and test.\n",
    "4. Use the additional parameter `stratify=` and check the distribution again, now it should be more or less similar in both datasets."
   ]
  },
  {
   "cell_type": "code",
   "execution_count": 40,
   "metadata": {},
   "outputs": [
    {
     "name": "stdout",
     "output_type": "stream",
     "text": [
      "[3.38709677 4.26923077 5.20833333 3.77108434 3.33333333 3.92727273\n",
      " 4.15942029]\n",
      "[4.03703704 3.98181818 3.96666667 3.95       3.95238095 4.01851852\n",
      " 4.01408451]\n"
     ]
    }
   ],
   "source": [
    "df = pd.read_csv('../data/dayofweek.csv')\n",
    "X = df.drop(['dayofweek'], axis=1).values\n",
    "y = df[['dayofweek']].values[:, 0]\n",
    "X_train, X_test, y_train, y_test = train_test_split(X, y, test_size=0.2, random_state=21)\n",
    "train = np.bincount(y_train)\n",
    "test = np.bincount(y_test)\n",
    "print(train / test)\n",
    "#distribution is near the same \n",
    "\n",
    "X_train, X_test, y_train, y_test = train_test_split(X, y, test_size=0.2, random_state=21, stratify=y)\n",
    "train = np.bincount(y_train)\n",
    "test = np.bincount(y_test)\n",
    "print(train / test)\n",
    "#now the distribution partition is about ~ 4 for all classes (thx for parameter straitify)\n"
   ]
  },
  {
   "cell_type": "markdown",
   "metadata": {},
   "source": [
    "## 2. Baseline models"
   ]
  },
  {
   "cell_type": "markdown",
   "metadata": {},
   "source": [
    "1. Train exactly the same baseline models from the previous exercise and calculate the accuracies using the test dataset with stratification.\n",
    "2. Did all the models show the similar values of the metric? Which one has the largest difference comparing the current exercise and the previous? Put the answer to the markdown cell in the end of the section."
   ]
  },
  {
   "cell_type": "markdown",
   "metadata": {},
   "source": [
    "### a. Logreg"
   ]
  },
  {
   "cell_type": "code",
   "execution_count": 58,
   "metadata": {},
   "outputs": [
    {
     "name": "stdout",
     "output_type": "stream",
     "text": [
      "Accuracy:  0.6215895610913404\n"
     ]
    }
   ],
   "source": [
    "logreg = LogisticRegression(random_state=21, fit_intercept=False, solver='liblinear').fit(X, y)\n",
    "y_pred = logreg.predict(X)\n",
    "print(\"Accuracy: \", sklearn.metrics.accuracy_score(y, y_pred))"
   ]
  },
  {
   "cell_type": "code",
   "execution_count": null,
   "metadata": {},
   "outputs": [],
   "source": []
  },
  {
   "cell_type": "markdown",
   "metadata": {},
   "source": [
    "### b. SVM"
   ]
  },
  {
   "cell_type": "code",
   "execution_count": 42,
   "metadata": {},
   "outputs": [
    {
     "name": "stdout",
     "output_type": "stream",
     "text": [
      "Accuracy:  0.702846975088968\n"
     ]
    }
   ],
   "source": [
    "svc_linear = SVC(random_state=21, kernel='linear', probability=True)\n",
    "svc_linear.fit(X, y)\n",
    "y_pred = svc_linear.predict(X)\n",
    "print(\"Accuracy: \", sklearn.metrics.accuracy_score(y, y_pred))"
   ]
  },
  {
   "cell_type": "markdown",
   "metadata": {},
   "source": [
    "### c. Decision tree"
   ]
  },
  {
   "cell_type": "code",
   "execution_count": 43,
   "metadata": {},
   "outputs": [
    {
     "name": "stdout",
     "output_type": "stream",
     "text": [
      "Accuracy:  0.5516014234875445\n"
     ]
    }
   ],
   "source": [
    "dtc = DecisionTreeClassifier(max_depth=4, random_state=21)\n",
    "dtc.fit(X,y)\n",
    "y_predict = dtc.predict(X)\n",
    "print(\"Accuracy: \", sklearn.metrics.accuracy_score(y, y_predict))"
   ]
  },
  {
   "cell_type": "markdown",
   "metadata": {},
   "source": [
    "### d. Random forest"
   ]
  },
  {
   "cell_type": "code",
   "execution_count": 44,
   "metadata": {},
   "outputs": [
    {
     "name": "stdout",
     "output_type": "stream",
     "text": [
      "Accuracy:  1.0\n"
     ]
    }
   ],
   "source": [
    "rfc = RandomForestClassifier(n_estimators=100, max_depth=25, random_state=21)\n",
    "rfc.fit(X, y)\n",
    "y_predict = rfc.predict(X)\n",
    "print(\"Accuracy: \", sklearn.metrics.accuracy_score(y, y_predict))"
   ]
  },
  {
   "cell_type": "markdown",
   "metadata": {},
   "source": [
    "## 3. Crossvalidation"
   ]
  },
  {
   "cell_type": "markdown",
   "metadata": {},
   "source": [
    "We could play with parameters of the model trying to achive a better accuracy on the test dataset, but it is a bad practice. It leads us again to overfitting. Test dataset is only for checking quality of a final model.\n",
    "\n",
    "But there is another way of solving the problem – crossvalidation. It does not use test dataset, but creates one more split of train dataset. Again, there are different ways of doing it, but the common thing is that there is a validation dataset that is used for hyperparameters optimization."
   ]
  },
  {
   "cell_type": "markdown",
   "metadata": {},
   "source": [
    "1. Using `cross_val_score` with `cv=10` calculate the mean accuracy and standard deviation for every model that you used before (logreg with `solver='liblinear'`, SVC, decision tree, random forest)."
   ]
  },
  {
   "cell_type": "markdown",
   "metadata": {},
   "source": [
    "### a. Logreg"
   ]
  },
  {
   "cell_type": "code",
   "execution_count": 62,
   "metadata": {},
   "outputs": [
    {
     "name": "stdout",
     "output_type": "stream",
     "text": [
      "mean: 0.5679144385026739\n",
      "std: 0.06540918004287655\n"
     ]
    }
   ],
   "source": [
    "print(\"mean:\", cross_val_score(logreg, X_test, y_test, cv=10).mean())\n",
    "print(\"std:\", cross_val_score(logreg, X_test, y_test, cv=10).std())"
   ]
  },
  {
   "cell_type": "markdown",
   "metadata": {},
   "source": [
    "### b. SVM"
   ]
  },
  {
   "cell_type": "code",
   "execution_count": 63,
   "metadata": {},
   "outputs": [
    {
     "name": "stdout",
     "output_type": "stream",
     "text": [
      "mean:  0.618270944741533\n",
      "std:  0.07192248303699102\n"
     ]
    }
   ],
   "source": [
    "print(\"mean:\", cross_val_score(svc_linear, X_test, y_test, cv=10).mean())\n",
    "print(\"std:\", cross_val_score(svc_linear, X_test, y_test, cv=10).std())"
   ]
  },
  {
   "cell_type": "markdown",
   "metadata": {},
   "source": [
    "### c. Decision tree"
   ]
  },
  {
   "cell_type": "code",
   "execution_count": 66,
   "metadata": {},
   "outputs": [
    {
     "name": "stdout",
     "output_type": "stream",
     "text": [
      "mean: 0.594830659536542\n",
      "std: 0.0548576690103636\n"
     ]
    }
   ],
   "source": [
    "print(\"mean:\", cross_val_score(dtc, X_test, y_test, cv=10).mean())\n",
    "print(\"std:\", cross_val_score(dtc, X_test, y_test, cv=10).std())"
   ]
  },
  {
   "cell_type": "markdown",
   "metadata": {},
   "source": [
    "### d. Random forest"
   ]
  },
  {
   "cell_type": "code",
   "execution_count": 65,
   "metadata": {},
   "outputs": [
    {
     "name": "stdout",
     "output_type": "stream",
     "text": [
      "std: 0.05042145575594833\n",
      "mean: 0.7603386809269163\n"
     ]
    }
   ],
   "source": [
    "print(\"std:\", cross_val_score(rfc, X_test, y_test, cv=10).std())\n",
    "print(\"mean:\", cross_val_score(rfc, X_test, y_test, cv=10).mean())"
   ]
  },
  {
   "cell_type": "markdown",
   "metadata": {},
   "source": [
    "## 4. Optimization"
   ]
  },
  {
   "cell_type": "markdown",
   "metadata": {},
   "source": [
    "1. Choose the best model and play a little bit with the parameters on cross-validation, find a good enough parameter or a combination of the parameters.\n",
    "2. Calculate the accuracy for the final model on the test dataset.\n",
    "3. Draw a plot that displays the top-10 most  important features for that model.\n",
    "4. Save the model using `joblib`.\n",
    "5. Load the model, make predictions for the test dataset and calculate the accuracy."
   ]
  },
  {
   "cell_type": "code",
   "execution_count": 106,
   "metadata": {},
   "outputs": [
    {
     "name": "stdout",
     "output_type": "stream",
     "text": [
      "best depth: 15\n",
      "best n_estimators: 80\n",
      "best depth: 15\n",
      "best n_estimators: 80\n",
      "final best depth: 15\n",
      "final best n_estimators: 80\n",
      "std: 0.055300139539300526\n",
      "mean: 0.7780748663101605\n"
     ]
    }
   ],
   "source": [
    "best_mean = 0\n",
    "best_std = 0\n",
    "n_estimators_best = 0\n",
    "max_depth_best = 0\n",
    "for max_depth in [15, 25]:\n",
    "    for n_estimators in [80, 100]:\n",
    "        rfc = RandomForestClassifier(n_estimators=n_estimators, max_depth=max_depth, random_state=21)\n",
    "        rfc.fit(X_train, y_train)\n",
    "        y_predict = rfc.predict(X)\n",
    "        temp_mean = cross_val_score(rfc, X_test, y_test, cv=10).std()\n",
    "        temp_std = cross_val_score(rfc, X_test, y_test, cv=10).mean()\n",
    "        if best_mean < temp_mean:\n",
    "            best_mean = temp_mean\n",
    "            n_estimators_best = n_estimators\n",
    "            max_depth_best = max_depth\n",
    "    print(\"best depth:\", max_depth_best)\n",
    "    print(\"best n_estimators:\", n_estimators_best)\n",
    "    \n",
    "print(\"final best depth:\", max_depth_best)\n",
    "print(\"final best n_estimators:\", n_estimators_best)\n",
    "rfc = RandomForestClassifier(n_estimators=n_estimators_best, max_depth=max_depth_best, random_state=21)\n",
    "rfc.fit(X_train, y_train)\n",
    "print(\"std:\", cross_val_score(rfc, X_test, y_test, cv=10).std())\n",
    "print(\"mean:\", cross_val_score(rfc, X_test, y_test, cv=10).mean())"
   ]
  },
  {
   "cell_type": "code",
   "execution_count": 107,
   "metadata": {},
   "outputs": [],
   "source": [
    "def MostImportant(coef, names, top):\n",
    "    if len(coef.shape) == 2:\n",
    "        coef = abs(coef).sum(axis=0)\n",
    "    top_list = {}\n",
    "    for i in range(len(names)):\n",
    "        top_list[names[i]] = coef[i]\n",
    "    top_list = dict(sorted(top_list.items(), key=lambda item: item[1], reverse=True))\n",
    "    i = 0\n",
    "    keys = []\n",
    "    values = []\n",
    "    for k, v in top_list.items():\n",
    "        keys += [k]\n",
    "        values += [v]\n",
    "        i += 1\n",
    "        if i >= top:\n",
    "            break\n",
    "    plt.rcdefaults()\n",
    "    fig, ax = plt.subplots()\n",
    "    ax.barh(keys, values , align='center')\n",
    "    ax.invert_yaxis()  # labels read top-to-bottom\n",
    "    ax.set_xlabel('Value of feature (abs(sum))')\n",
    "    ax.set_title('The top n features that impact on prediction')\n",
    "    fig.set_size_inches(10 , top / 2)"
   ]
  },
  {
   "cell_type": "code",
   "execution_count": 108,
   "metadata": {},
   "outputs": [
    {
     "data": {
      "image/png": "[encoded data removed]",
      "text/plain": [
       "<Figure size 1000x500 with 1 Axes>"
      ]
     },
     "metadata": {},
     "output_type": "display_data"
    }
   ],
   "source": [
    "MostImportant(rfc.feature_importances_, df.drop(['dayofweek'], axis=1).columns.values, 10)"
   ]
  },
  {
   "cell_type": "code",
   "execution_count": 109,
   "metadata": {},
   "outputs": [
    {
     "data": {
      "text/plain": [
       "['saved_model']"
      ]
     },
     "execution_count": 109,
     "metadata": {},
     "output_type": "execute_result"
    }
   ],
   "source": [
    "dump(rfc, 'saved_model')"
   ]
  },
  {
   "cell_type": "code",
   "execution_count": 110,
   "metadata": {},
   "outputs": [],
   "source": [
    "rfc = load('saved_model') "
   ]
  },
  {
   "cell_type": "code",
   "execution_count": 111,
   "metadata": {},
   "outputs": [
    {
     "name": "stdout",
     "output_type": "stream",
     "text": [
      "Accuracy:  0.9053254437869822\n"
     ]
    }
   ],
   "source": [
    "y_predict = rfc.predict(X_test)\n",
    "print(\"Accuracy: \", sklearn.metrics.accuracy_score(y_test, y_predict))"
   ]
  },
  {
   "cell_type": "code",
   "execution_count": null,
   "metadata": {},
   "outputs": [],
   "source": []
  },
  {
   "cell_type": "code",
   "execution_count": null,
   "metadata": {},
   "outputs": [],
   "source": []
  }
 ],
 "metadata": {
  "kernelspec": {
   "display_name": "Python 3",
   "language": "python",
   "name": "python3"
  },
  "language_info": {
   "codemirror_mode": {
    "name": "ipython",
    "version": 3
   },
   "file_extension": ".py",
   "mimetype": "text/x-python",
   "name": "python",
   "nbconvert_exporter": "python",
   "pygments_lexer": "ipython3",
   "version": "3.8.5"
  }
 },
 "nbformat": 4,
 "nbformat_minor": 4
}
