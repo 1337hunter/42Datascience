{
 "cells": [
  {
   "cell_type": "markdown",
   "metadata": {},
   "source": [
    "# Day 08. Exercise 04\n",
    "# Regression"
   ]
  },
  {
   "cell_type": "markdown",
   "metadata": {},
   "source": [
    "## 0. Imports"
   ]
  },
  {
   "cell_type": "code",
   "execution_count": 1,
   "metadata": {},
   "outputs": [],
   "source": [
    "import pandas as pd\n",
    "import sklearn\n",
    "import sqlite3\n",
    "import numpy as np\n",
    "from sklearn.preprocessing import OneHotEncoder\n",
    "from sklearn.preprocessing import StandardScaler\n",
    "from sklearn.linear_model import LinearRegression\n",
    "from sklearn.multiclass import OneVsRestClassifier\n",
    "from sklearn.tree import DecisionTreeRegressor\n",
    "from sklearn.ensemble import RandomForestRegressor\n",
    "from sklearn.svm import SVC\n",
    "from sklearn.metrics import mean_squared_error\n",
    "from sklearn.model_selection import KFold\n",
    "from sklearn.model_selection import train_test_split\n",
    "from sklearn.model_selection import cross_val_score\n",
    "import matplotlib.pyplot as plt\n",
    "from matplotlib.colors import ListedColormap\n",
    "from sklearn.compose import ColumnTransformer"
   ]
  },
  {
   "cell_type": "markdown",
   "metadata": {},
   "source": [
    "## 1. Preprocessing"
   ]
  },
  {
   "cell_type": "code",
   "execution_count": 2,
   "metadata": {},
   "outputs": [],
   "source": [
    "df = pd.read_csv('../data/checker_regression.csv')\n",
    "df.fillna(0, inplace=True)\n",
    "df['uid'] = df[\"uid\"].astype(\"category\")\n",
    "\n"
   ]
  },
  {
   "cell_type": "markdown",
   "metadata": {},
   "source": [
    "## encoding users"
   ]
  },
  {
   "cell_type": "code",
   "execution_count": 3,
   "metadata": {},
   "outputs": [],
   "source": [
    "ct = OneHotEncoder()\n",
    "ct.fit(df[['uid']])\n",
    "data = ct.transform(df[['uid']]).toarray().astype(int)\n",
    "ohe_df = pd.DataFrame(data, columns=[list(ct.categories_[0])][0])\n",
    "data = pd.concat([df, ohe_df], axis=1).drop(['uid'], axis=1)"
   ]
  },
  {
   "cell_type": "markdown",
   "metadata": {},
   "source": [
    "## scaling continious data"
   ]
  },
  {
   "cell_type": "code",
   "execution_count": 4,
   "metadata": {
    "scrolled": true
   },
   "outputs": [
    {
     "data": {
      "text/html": [
       "<div>\n",
       "<style scoped>\n",
       "    .dataframe tbody tr th:only-of-type {\n",
       "        vertical-align: middle;\n",
       "    }\n",
       "\n",
       "    .dataframe tbody tr th {\n",
       "        vertical-align: top;\n",
       "    }\n",
       "\n",
       "    .dataframe thead th {\n",
       "        text-align: right;\n",
       "    }\n",
       "</style>\n",
       "<table border=\"1\" class=\"dataframe\">\n",
       "  <thead>\n",
       "    <tr style=\"text-align: right;\">\n",
       "      <th></th>\n",
       "      <th>num_commits</th>\n",
       "      <th>pageviews</th>\n",
       "      <th>AVG(diff)</th>\n",
       "      <th>user_1</th>\n",
       "      <th>user_10</th>\n",
       "      <th>user_11</th>\n",
       "      <th>user_12</th>\n",
       "      <th>user_13</th>\n",
       "      <th>user_14</th>\n",
       "      <th>user_15</th>\n",
       "      <th>...</th>\n",
       "      <th>user_27</th>\n",
       "      <th>user_28</th>\n",
       "      <th>user_29</th>\n",
       "      <th>user_3</th>\n",
       "      <th>user_30</th>\n",
       "      <th>user_31</th>\n",
       "      <th>user_4</th>\n",
       "      <th>user_6</th>\n",
       "      <th>user_7</th>\n",
       "      <th>user_8</th>\n",
       "    </tr>\n",
       "  </thead>\n",
       "  <tbody>\n",
       "    <tr>\n",
       "      <th>0</th>\n",
       "      <td>0.406864</td>\n",
       "      <td>-0.476157</td>\n",
       "      <td>0.434276</td>\n",
       "      <td>1</td>\n",
       "      <td>0</td>\n",
       "      <td>0</td>\n",
       "      <td>0</td>\n",
       "      <td>0</td>\n",
       "      <td>0</td>\n",
       "      <td>0</td>\n",
       "      <td>...</td>\n",
       "      <td>0</td>\n",
       "      <td>0</td>\n",
       "      <td>0</td>\n",
       "      <td>0</td>\n",
       "      <td>0</td>\n",
       "      <td>0</td>\n",
       "      <td>0</td>\n",
       "      <td>0</td>\n",
       "      <td>0</td>\n",
       "      <td>0</td>\n",
       "    </tr>\n",
       "    <tr>\n",
       "      <th>1</th>\n",
       "      <td>0.406864</td>\n",
       "      <td>-0.476157</td>\n",
       "      <td>0.434276</td>\n",
       "      <td>1</td>\n",
       "      <td>0</td>\n",
       "      <td>0</td>\n",
       "      <td>0</td>\n",
       "      <td>0</td>\n",
       "      <td>0</td>\n",
       "      <td>0</td>\n",
       "      <td>...</td>\n",
       "      <td>0</td>\n",
       "      <td>0</td>\n",
       "      <td>0</td>\n",
       "      <td>0</td>\n",
       "      <td>0</td>\n",
       "      <td>0</td>\n",
       "      <td>0</td>\n",
       "      <td>0</td>\n",
       "      <td>0</td>\n",
       "      <td>0</td>\n",
       "    </tr>\n",
       "    <tr>\n",
       "      <th>2</th>\n",
       "      <td>0.406864</td>\n",
       "      <td>-0.476157</td>\n",
       "      <td>0.434276</td>\n",
       "      <td>1</td>\n",
       "      <td>0</td>\n",
       "      <td>0</td>\n",
       "      <td>0</td>\n",
       "      <td>0</td>\n",
       "      <td>0</td>\n",
       "      <td>0</td>\n",
       "      <td>...</td>\n",
       "      <td>0</td>\n",
       "      <td>0</td>\n",
       "      <td>0</td>\n",
       "      <td>0</td>\n",
       "      <td>0</td>\n",
       "      <td>0</td>\n",
       "      <td>0</td>\n",
       "      <td>0</td>\n",
       "      <td>0</td>\n",
       "      <td>0</td>\n",
       "    </tr>\n",
       "    <tr>\n",
       "      <th>3</th>\n",
       "      <td>0.406864</td>\n",
       "      <td>-0.476157</td>\n",
       "      <td>0.434276</td>\n",
       "      <td>1</td>\n",
       "      <td>0</td>\n",
       "      <td>0</td>\n",
       "      <td>0</td>\n",
       "      <td>0</td>\n",
       "      <td>0</td>\n",
       "      <td>0</td>\n",
       "      <td>...</td>\n",
       "      <td>0</td>\n",
       "      <td>0</td>\n",
       "      <td>0</td>\n",
       "      <td>0</td>\n",
       "      <td>0</td>\n",
       "      <td>0</td>\n",
       "      <td>0</td>\n",
       "      <td>0</td>\n",
       "      <td>0</td>\n",
       "      <td>0</td>\n",
       "    </tr>\n",
       "    <tr>\n",
       "      <th>4</th>\n",
       "      <td>0.406864</td>\n",
       "      <td>-0.476157</td>\n",
       "      <td>0.434276</td>\n",
       "      <td>1</td>\n",
       "      <td>0</td>\n",
       "      <td>0</td>\n",
       "      <td>0</td>\n",
       "      <td>0</td>\n",
       "      <td>0</td>\n",
       "      <td>0</td>\n",
       "      <td>...</td>\n",
       "      <td>0</td>\n",
       "      <td>0</td>\n",
       "      <td>0</td>\n",
       "      <td>0</td>\n",
       "      <td>0</td>\n",
       "      <td>0</td>\n",
       "      <td>0</td>\n",
       "      <td>0</td>\n",
       "      <td>0</td>\n",
       "      <td>0</td>\n",
       "    </tr>\n",
       "  </tbody>\n",
       "</table>\n",
       "<p>5 rows × 32 columns</p>\n",
       "</div>"
      ],
      "text/plain": [
       "   num_commits  pageviews  AVG(diff)  user_1  user_10  user_11  user_12  \\\n",
       "0     0.406864  -0.476157   0.434276       1        0        0        0   \n",
       "1     0.406864  -0.476157   0.434276       1        0        0        0   \n",
       "2     0.406864  -0.476157   0.434276       1        0        0        0   \n",
       "3     0.406864  -0.476157   0.434276       1        0        0        0   \n",
       "4     0.406864  -0.476157   0.434276       1        0        0        0   \n",
       "\n",
       "   user_13  user_14  user_15  ...  user_27  user_28  user_29  user_3  user_30  \\\n",
       "0        0        0        0  ...        0        0        0       0        0   \n",
       "1        0        0        0  ...        0        0        0       0        0   \n",
       "2        0        0        0  ...        0        0        0       0        0   \n",
       "3        0        0        0  ...        0        0        0       0        0   \n",
       "4        0        0        0  ...        0        0        0       0        0   \n",
       "\n",
       "   user_31  user_4  user_6  user_7  user_8  \n",
       "0        0       0       0       0       0  \n",
       "1        0       0       0       0       0  \n",
       "2        0       0       0       0       0  \n",
       "3        0       0       0       0       0  \n",
       "4        0       0       0       0       0  \n",
       "\n",
       "[5 rows x 32 columns]"
      ]
     },
     "execution_count": 4,
     "metadata": {},
     "output_type": "execute_result"
    }
   ],
   "source": [
    "scaler = StandardScaler()\n",
    "scaler.fit(data[['num_commits', 'pageviews', 'AVG(diff)']])\n",
    "data[['num_commits', 'pageviews', 'AVG(diff)']] = scaler.transform(data[['num_commits', 'pageviews', 'AVG(diff)']])\n",
    "data.head()"
   ]
  },
  {
   "cell_type": "markdown",
   "metadata": {},
   "source": [
    "## making train and test sets"
   ]
  },
  {
   "cell_type": "code",
   "execution_count": 44,
   "metadata": {},
   "outputs": [],
   "source": [
    "X_train, X_test, y_train, y_test = train_test_split(data.drop(['AVG(diff)'], axis=1).values,\n",
    "                                                    data[['AVG(diff)']].values[:, 0],\n",
    "                                                    test_size=0.2, random_state=21)\n",
    "X = data.drop(['AVG(diff)'], axis=1).values\n",
    "y = data[['AVG(diff)']].values[:, 0]"
   ]
  },
  {
   "cell_type": "markdown",
   "metadata": {},
   "source": [
    "1. Read the file [`checker_regression.csv`](https://drive.google.com/file/d/1L8auBzJEghWFewznhhFpcrqxW4GqcfRY/view?usp=sharing).\n",
    "2. Fill the missing values in it with `0`.\n",
    "3. Make a split of your dataset on train and test with parameters `test_size=0.2`."
   ]
  },
  {
   "cell_type": "markdown",
   "metadata": {},
   "source": [
    "## 2. Crossvalidation"
   ]
  },
  {
   "cell_type": "markdown",
   "metadata": {},
   "source": [
    "1. Write a function `crossval` that takes as arguments: `n_splits` for `KFold()`, `X`, `y`, model instantiated class with the parameters of the model (keep in mind: `random_state=21`) and returns for a given model class a result like this:\n",
    "\n",
    "```\n",
    "train -  2696.4496895424836   |   test -  1589.9979527104958\n",
    "train -  2660.957874001452   |   test -  2075.102636027137\n",
    "train -  2847.315529246795   |   test -  320.911928168403\n",
    "train -  2500.7691099659237   |   test -  4132.461382030178\n",
    "train -  2643.927917295123   |   test -  2237.8140952197878\n",
    "train -  2396.295678819444   |   test -  4509.650064742476\n",
    "train -  2003.402267924976   |   test -  8403.491474908551\n",
    "train -  2531.876094212613   |   test -  3135.944102735099\n",
    "train -  2683.1795186023123   |   test -  1796.01426292594\n",
    "train -  2537.1192483996338   |   test -  3439.29824116941\n",
    "Average RMSE on crossval is 3164.0686140637476\n",
    "```\n",
    "\n",
    "2. Run the function for `LinearRegression`, `DecisionTreeRegressor`, `RandomForestRegressor`. You may choose the parameters by yourself, but find the good enough for you."
   ]
  },
  {
   "cell_type": "code",
   "execution_count": 81,
   "metadata": {},
   "outputs": [],
   "source": [
    "def crossval(n_splits, X, y, model):\n",
    "    train_rmse = []\n",
    "    test_rmse = []\n",
    "    kf = KFold(n_splits=n_splits, random_state=21, shuffle=True)\n",
    "    for train_index, test_index in kf.split(X):\n",
    "        X_train, X_test = X[train_index], X[test_index]\n",
    "        y_train, y_test = y[train_index], y[test_index]\n",
    "        model.fit(X_train, y_train)\n",
    "        y_predict_train = model.predict(X_train)\n",
    "        y_predict_test = model.predict(X_test)\n",
    "        test = mean_squared_error(y_predict_test, y_test)\n",
    "        train  = mean_squared_error(y_predict_train, y_train)\n",
    "        print(\"train - \", train, '    |    ', \"test - :\", test)\n",
    "        train_rmse += [train]\n",
    "        test_rmse += [test]\n",
    "    print(np.array(train).mean())"
   ]
  },
  {
   "cell_type": "markdown",
   "metadata": {},
   "source": [
    "## LinearRegression"
   ]
  },
  {
   "cell_type": "code",
   "execution_count": 103,
   "metadata": {},
   "outputs": [
    {
     "name": "stdout",
     "output_type": "stream",
     "text": [
      "train -  1.0694172608661e-29     |     test - : 1.4390301041573683\n",
      "train -  1.6909385791438135e-30     |     test - : 0.028476077191273513\n",
      "train -  2.239354108815124e-30     |     test - : 1.5561513950648866e-30\n",
      "train -  1.3369694025823473e-30     |     test - : 0.3337865522085176\n",
      "train -  3.47154734001717e-30     |     test - : 0.27244059881722876\n",
      "train -  1.9053922740527413e-30     |     test - : 0.2793626697489485\n",
      "train -  9.605985904445578e-30     |     test - : 0.37837002530222363\n",
      "train -  1.3721012755937664e-30     |     test - : 0.11060906834827831\n",
      "train -  1.0886071391084572e-30     |     test - : 0.7989361193674925\n",
      "train -  1.5561128764659989e-30     |     test - : 1.3652052666951515\n",
      "1.5561128764659989e-30\n"
     ]
    }
   ],
   "source": [
    "linreg = LinearRegression()\n",
    "crossval(10, X, y, linreg)"
   ]
  },
  {
   "cell_type": "markdown",
   "metadata": {},
   "source": [
    "## DecisionTreeRegressor"
   ]
  },
  {
   "cell_type": "code",
   "execution_count": 99,
   "metadata": {},
   "outputs": [
    {
     "name": "stdout",
     "output_type": "stream",
     "text": [
      "train -  2.1704393112398763e-32     |     test - : 2.194449146471778\n",
      "train -  2.0900526700828438e-32     |     test - : 0.2638192570584454\n",
      "train -  2.0498593495043276e-32     |     test - : 2.7733391199176196e-32\n",
      "train -  2.0900526700828438e-32     |     test - : 1.0056239707828727\n",
      "train -  2.1704393112398763e-32     |     test - : 0.6741134580981059\n",
      "train -  2.0900526700828438e-32     |     test - : 0.6666560004866966\n",
      "train -  2.13024599066136e-32     |     test - : 0.0204976584381609\n",
      "train -  2.0998139050804834e-32     |     test - : 1.0524795729247416\n",
      "train -  2.2186712959340958e-32     |     test - : 2.922563267027949\n",
      "train -  2.139433035365021e-32     |     test - : 1.6568044396285369\n",
      "2.139433035365021e-32\n"
     ]
    }
   ],
   "source": [
    "dtr = DecisionTreeRegressor(random_state=21)\n",
    "crossval(10, X, y, dtr)"
   ]
  },
  {
   "cell_type": "code",
   "execution_count": 100,
   "metadata": {},
   "outputs": [
    {
     "name": "stdout",
     "output_type": "stream",
     "text": [
      "train -  0.06692447480120714     |     test - : 0.7224021772799427\n",
      "train -  0.08441263734394645     |     test - : 0.18240293846082084\n",
      "train -  0.0738716506442553     |     test - : 0.41791966893173416\n",
      "train -  0.08400925320569977     |     test - : 0.30968066377396397\n",
      "train -  0.05326006257594792     |     test - : 1.208898594374302\n",
      "0.05326006257594792\n"
     ]
    }
   ],
   "source": [
    "rfr = RandomForestRegressor(random_state=21)\n",
    "crossval(5, X, y, rfr)"
   ]
  },
  {
   "cell_type": "markdown",
   "metadata": {},
   "source": [
    "## 3. Predictions and evaluation"
   ]
  },
  {
   "cell_type": "markdown",
   "metadata": {},
   "source": [
    "1. Make predictions for the test dataset using each of the three models with the finalized parameters.\n",
    "2. Draw a plot for each of the models where the `x-axis` is the actual average difference and the `y-axis` is the prediction made by a model.\n",
    "3. How would plot look like in the ideal case? Put the answer to the markdown cell in the end of the section."
   ]
  },
  {
   "cell_type": "code",
   "execution_count": 110,
   "metadata": {},
   "outputs": [
    {
     "data": {
      "text/plain": [
       "<matplotlib.collections.PathCollection at 0x7f423b4c0a00>"
      ]
     },
     "execution_count": 110,
     "metadata": {},
     "output_type": "execute_result"
    },
    {
     "data": {
      "image/png": "[encoded data removed]",
      "text/plain": [
       "<Figure size 432x288 with 1 Axes>"
      ]
     },
     "metadata": {
      "needs_background": "light"
     },
     "output_type": "display_data"
    }
   ],
   "source": [
    "linreg_predict = linreg.predict(X_train)\n",
    "dtr_predict = dtr.predict(X_train)\n",
    "rfr_predict = rfr.predict(X_train)\n",
    "plt.scatter(linreg_predict, y_train)"
   ]
  },
  {
   "cell_type": "code",
   "execution_count": 111,
   "metadata": {},
   "outputs": [
    {
     "data": {
      "text/plain": [
       "<matplotlib.collections.PathCollection at 0x7f423b4370a0>"
      ]
     },
     "execution_count": 111,
     "metadata": {},
     "output_type": "execute_result"
    },
    {
     "data": {
      "image/png": "[encoded data removed]",
      "text/plain": [
       "<Figure size 432x288 with 1 Axes>"
      ]
     },
     "metadata": {
      "needs_background": "light"
     },
     "output_type": "display_data"
    }
   ],
   "source": [
    "plt.scatter(dtr_predict, y_train)"
   ]
  },
  {
   "cell_type": "code",
   "execution_count": 112,
   "metadata": {},
   "outputs": [
    {
     "data": {
      "text/plain": [
       "<matplotlib.collections.PathCollection at 0x7f423b40e4c0>"
      ]
     },
     "execution_count": 112,
     "metadata": {},
     "output_type": "execute_result"
    },
    {
     "data": {
      "image/png": "[encoded data removed]",
      "text/plain": [
       "<Figure size 432x288 with 1 Axes>"
      ]
     },
     "metadata": {
      "needs_background": "light"
     },
     "output_type": "display_data"
    }
   ],
   "source": [
    "plt.scatter(rfr_predict, y_train)"
   ]
  },
  {
   "cell_type": "markdown",
   "metadata": {},
   "source": [
    "## In the ideal case all points should be on a one line"
   ]
  },
  {
   "cell_type": "code",
   "execution_count": null,
   "metadata": {},
   "outputs": [],
   "source": []
  },
  {
   "cell_type": "code",
   "execution_count": null,
   "metadata": {},
   "outputs": [],
   "source": []
  },
  {
   "cell_type": "code",
   "execution_count": null,
   "metadata": {},
   "outputs": [],
   "source": []
  },
  {
   "cell_type": "markdown",
   "metadata": {},
   "source": []
  }
 ],
 "metadata": {
  "kernelspec": {
   "display_name": "Python 3",
   "language": "python",
   "name": "python3"
  },
  "language_info": {
   "codemirror_mode": {
    "name": "ipython",
    "version": 3
   },
   "file_extension": ".py",
   "mimetype": "text/x-python",
   "name": "python",
   "nbconvert_exporter": "python",
   "pygments_lexer": "ipython3",
   "version": "3.8.5"
  }
 },
 "nbformat": 4,
 "nbformat_minor": 4
}
