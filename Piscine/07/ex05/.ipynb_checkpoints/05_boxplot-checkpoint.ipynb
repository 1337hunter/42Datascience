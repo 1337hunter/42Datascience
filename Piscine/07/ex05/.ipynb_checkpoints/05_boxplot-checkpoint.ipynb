{
 "cells": [
  {
   "cell_type": "markdown",
   "id": "4a9dda29",
   "metadata": {},
   "source": [
    "## create a connection to the database using the library sqlite3"
   ]
  },
  {
   "cell_type": "code",
   "execution_count": 141,
   "id": "75e6392b",
   "metadata": {},
   "outputs": [],
   "source": [
    "import pandas as pd\n",
    "import sqlite3\n",
    "import matplotlib.pyplot as plt"
   ]
  },
  {
   "cell_type": "code",
   "execution_count": 142,
   "id": "49d04327",
   "metadata": {},
   "outputs": [],
   "source": [
    "df = pd.read_csv(\"../data/ab-test.csv\")"
   ]
  },
  {
   "cell_type": "code",
   "execution_count": 143,
   "id": "62d2cd1e",
   "metadata": {},
   "outputs": [
    {
     "data": {
      "image/png": "[encoded data removed]",
      "text/plain": [
       "<Figure size 1080x576 with 2 Axes>"
      ]
     },
     "metadata": {
      "needs_background": "light"
     },
     "output_type": "display_data"
    }
   ],
   "source": [
    "def setBoxColors(bp):\n",
    "    plt.setp(bp['boxes'][0], color='green', linewidth=3)\n",
    "    plt.setp(bp['caps'][0], color='red')\n",
    "    plt.setp(bp['caps'][1], color='red')\n",
    "    plt.setp(bp['whiskers'][0], color='red')\n",
    "    plt.setp(bp['whiskers'][1], color='red')\n",
    "    plt.setp(bp['fliers'][0], color='red')\n",
    "    plt.setp(bp['medians'][0], color='red', linewidth=2)\n",
    "\n",
    "fig, (ax1, ax2) = plt.subplots(1, 2)\n",
    "\n",
    "bp = ax2.boxplot(df[(df['time'] == 'before') & (df['group'] == 'test')]['diff'], positions = [2])\n",
    "setBoxColors(bp)\n",
    "bp = ax2.boxplot(df[(df['time'] == 'before') & (df['group'] == 'control')]['diff'], positions = [1])\n",
    "setBoxColors(bp)\n",
    "bp = ax1.boxplot(df[(df['time'] == 'after') & (df['group'] == 'test')]['diff'], positions = [4])\n",
    "setBoxColors(bp)\n",
    "bp = ax1.boxplot(df[(df['time'] == 'after') & (df['group'] == 'control')]['diff'], positions = [3])\n",
    "setBoxColors(bp)\n",
    "fig.suptitle('Lag befor lab deadlines. After and befor Newsfeed.', fontsize=15)\n",
    "fig.set_figheight(8)\n",
    "fig.set_figwidth(15)\n",
    "ax2.set_xticklabels(['test', 'control'])\n",
    "ax1.set_xticklabels(['test', 'control'])\n",
    "ax1.set_xlabel('[group]', fontsize=10)\n",
    "ax2.set_xlabel('[group]', fontsize=10)\n",
    "ax1.title.set_text('after')\n",
    "ax2.title.set_text('before')\n",
    "plt.show()"
   ]
  },
  {
   "cell_type": "markdown",
   "id": "58b699f6",
   "metadata": {},
   "source": [
    "# “What was the IQR of the control group before the newsfeed?”\n",
    "## -150"
   ]
  },
  {
   "cell_type": "code",
   "execution_count": 106,
   "id": "03f29f97",
   "metadata": {},
   "outputs": [],
   "source": [
    "conn.close()"
   ]
  }
 ],
 "metadata": {
  "kernelspec": {
   "display_name": "Python 3",
   "language": "python",
   "name": "python3"
  },
  "language_info": {
   "codemirror_mode": {
    "name": "ipython",
    "version": 3
   },
   "file_extension": ".py",
   "mimetype": "text/x-python",
   "name": "python",
   "nbconvert_exporter": "python",
   "pygments_lexer": "ipython3",
   "version": "3.8.5"
  }
 },
 "nbformat": 4,
 "nbformat_minor": 5
}
