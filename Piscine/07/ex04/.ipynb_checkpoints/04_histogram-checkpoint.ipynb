{
 "cells": [
  {
   "cell_type": "markdown",
   "id": "4a9dda29",
   "metadata": {},
   "source": [
    "## create a connection to the database using the library sqlite3"
   ]
  },
  {
   "cell_type": "code",
   "execution_count": 2,
   "id": "75e6392b",
   "metadata": {},
   "outputs": [],
   "source": [
    "import pandas as pd\n",
    "import sqlite3\n",
    "import matplotlib.pyplot as plt"
   ]
  },
  {
   "cell_type": "code",
   "execution_count": 3,
   "id": "49d04327",
   "metadata": {},
   "outputs": [],
   "source": [
    "conn = sqlite3.connect('../ex00/data/checking-logs.sqlite.sqlite copy')"
   ]
  },
  {
   "cell_type": "code",
   "execution_count": 69,
   "id": "62d2cd1e",
   "metadata": {},
   "outputs": [],
   "source": [
    "weekend = pd.io.sql.read_sql(\"\"\"\n",
    "SELECT CAST(strftime('%H', timestamp) as integer) as hour\n",
    "FROM checker\n",
    "WHERE strftime('%w', timestamp) in ('0', '6') and uid like 'user_%'\n",
    "\"\"\", conn)\n",
    "working = pd.io.sql.read_sql(\"\"\"\n",
    "SELECT CAST(strftime('%H', timestamp) as integer) as hour\n",
    "FROM checker\n",
    "WHERE strftime('%w', timestamp) not in ('0', '6') and uid like 'user_%' \n",
    "\"\"\", conn)\n",
    "conn.close()"
   ]
  },
  {
   "cell_type": "code",
   "execution_count": 70,
   "id": "a60d1e99",
   "metadata": {
    "scrolled": true
   },
   "outputs": [
    {
     "data": {
      "text/plain": [
       "<matplotlib.legend.Legend at 0x7f0dd2640bb0>"
      ]
     },
     "execution_count": 70,
     "metadata": {},
     "output_type": "execute_result"
    },
    {
     "data": {
      "image/png": "[encoded data removed]",
      "text/plain": [
       "<Figure size 1080x576 with 1 Axes>"
      ]
     },
     "metadata": {
      "needs_background": "light"
     },
     "output_type": "display_data"
    }
   ],
   "source": [
    "hours = list(range(25))\n",
    "plt.figure(figsize=(15, 8))\n",
    "working_plot = plt.hist(working['hour'].values, bins=hours, label='working', color='red')\n",
    "weekend_plot = plt.hist(weekend['hour'].values, bins=hours, alpha=0.7, label='weekend', color='green')  # density=False would make counts\n",
    "plt.legend(['working', 'weekend'])"
   ]
  },
  {
   "cell_type": "markdown",
   "id": "5a6e873d",
   "metadata": {},
   "source": [
    "## ““Are there hours when the total number of commits was higher on weekends than on working days?””\n",
    "#### 12, 14, 23, 00"
   ]
  }
 ],
 "metadata": {
  "kernelspec": {
   "display_name": "Python 3",
   "language": "python",
   "name": "python3"
  },
  "language_info": {
   "codemirror_mode": {
    "name": "ipython",
    "version": 3
   },
   "file_extension": ".py",
   "mimetype": "text/x-python",
   "name": "python",
   "nbconvert_exporter": "python",
   "pygments_lexer": "ipython3",
   "version": "3.8.5"
  }
 },
 "nbformat": 4,
 "nbformat_minor": 5
}
