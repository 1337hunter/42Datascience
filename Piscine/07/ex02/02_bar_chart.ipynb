{
 "cells": [
  {
   "cell_type": "markdown",
   "id": "4a9dda29",
   "metadata": {},
   "source": [
    "## create a connection to the database using the library sqlite3"
   ]
  },
  {
   "cell_type": "code",
   "execution_count": 93,
   "id": "75e6392b",
   "metadata": {},
   "outputs": [],
   "source": [
    "import pandas as pd\n",
    "import sqlite3"
   ]
  },
  {
   "cell_type": "code",
   "execution_count": 94,
   "id": "49d04327",
   "metadata": {},
   "outputs": [],
   "source": [
    "conn = sqlite3.connect('../ex00/data/checking-logs.sqlite.sqlite copy')"
   ]
  },
  {
   "cell_type": "code",
   "execution_count": 95,
   "id": "0a7267c5",
   "metadata": {},
   "outputs": [
    {
     "data": {
      "image/png": "[encoded data removed]",
      "text/plain": [
       "<Figure size 1080x576 with 1 Axes>"
      ]
     },
     "metadata": {
      "needs_background": "light"
     },
     "output_type": "display_data"
    }
   ],
   "source": [
    "data = pd.io.sql.read_sql(\"\"\"\n",
    "SELECT  date.timestamp as date, \n",
    "        night.night, \n",
    "        morning.morning, \n",
    "        afternoon.afternoon, \n",
    "        evening.evening\n",
    "FROM ((\n",
    "    SELECT strftime(\"%Y-%m-%d\",timestamp) AS timestamp\n",
    "        FROM checker\n",
    "        WHERE uid LIKE \"user_%\"\n",
    "        GROUP BY strftime(\"%Y-%m-%d\",timestamp)) date\n",
    "    LEFT JOIN\n",
    "    (SELECT timestamp, count() as night\n",
    "        FROM checker\n",
    "        WHERE uid LIKE 'user_%' AND strftime(\"%H:%m:%s\",timestamp) >= strftime(\"%H:%m:%s\", \"00:00:00\") AND strftime(\"%H:%m:%s\",timestamp) <= strftime(\"%H:%m:%s\", \"03:59:59\")\n",
    "        GROUP BY strftime(\"%Y-%m-%d\",timestamp)) night\n",
    "    on strftime(\"%Y-%m-%d\", date.timestamp) = strftime(\"%Y-%m-%d\", night.timestamp)\n",
    "    LEFT JOIN\n",
    "    (SELECT timestamp, count() as morning\n",
    "        FROM checker\n",
    "        WHERE uid LIKE 'user_%' AND strftime(\"%H:%m:%s\",timestamp) >= strftime(\"%H:%m:%s\", \"04:00:00\") AND strftime(\"%H:%m:%s\",timestamp) <= strftime(\"%H:%m:%s\", \"09:59:59\")\n",
    "        GROUP BY strftime(\"%Y-%m-%d\",timestamp)) morning\n",
    "    on strftime(\"%Y-%m-%d\", date.timestamp) = strftime(\"%Y-%m-%d\", morning.timestamp)\n",
    "    LEFT JOIN\n",
    "    (SELECT timestamp, count() as afternoon\n",
    "        FROM checker\n",
    "        WHERE uid LIKE 'user_%' AND strftime(\"%H:%m:%s\",timestamp) >= strftime(\"%H:%m:%s\", \"10:00:00\") AND strftime(\"%H:%m:%s\",timestamp) <= strftime(\"%H:%m:%s\", \"16:59:59\")\n",
    "        GROUP BY strftime(\"%Y-%m-%d\",timestamp)) afternoon\n",
    "    on strftime(\"%Y-%m-%d\", date.timestamp) = strftime(\"%Y-%m-%d\", afternoon.timestamp)\n",
    "    LEFT JOIN\n",
    "    (SELECT timestamp, count() as evening\n",
    "        FROM checker\n",
    "        WHERE uid LIKE 'user_%' AND strftime(\"%H:%m:%s\",timestamp) >= strftime(\"%H:%m:%s\", \"17:00:00\") AND strftime(\"%H:%m:%s\",timestamp) <= strftime(\"%H:%m:%s\", \"23:59:59\")\n",
    "        GROUP BY strftime(\"%Y-%m-%d\",timestamp)) evening\n",
    "    on strftime(\"%Y-%m-%d\", date.timestamp) = strftime(\"%Y-%m-%d\", evening.timestamp))\n",
    "\"\"\", conn)\n",
    "\n",
    "plot = data.plot.bar(x='date',figsize=(15,8),  fontsize=8, stacked=True,\n",
    "                    color={\"night\": \"black\", \"morning\": \"cyan\", \"afternoon\": \"yellow\", \"evening\": \"pink\"},\n",
    "                    title='Commits per day')\n",
    "plot.grid(axis='y')\n",
    "plot.legend(title='daytime')\n",
    "conn.close()"
   ]
  },
  {
   "cell_type": "markdown",
   "id": "a841c4d9",
   "metadata": {},
   "source": [
    "## “When do our users usually commit the labs: in the night, morning, afternoon,  or evening?”, the answer is the two most common periods.\n",
    "## Afternoon and Evening"
   ]
  },
  {
   "cell_type": "markdown",
   "id": "55aae770",
   "metadata": {},
   "source": [
    "## Which day has: \n",
    "### ∗ the most number of commits \n",
    "### ∗ and at the same time, the number of commits in the evening is higher than in the afternoon?\n",
    "# 2020-05-15 (this is answare)"
   ]
  }
 ],
 "metadata": {
  "kernelspec": {
   "display_name": "Python 3",
   "language": "python",
   "name": "python3"
  },
  "language_info": {
   "codemirror_mode": {
    "name": "ipython",
    "version": 3
   },
   "file_extension": ".py",
   "mimetype": "text/x-python",
   "name": "python",
   "nbconvert_exporter": "python",
   "pygments_lexer": "ipython3",
   "version": "3.8.5"
  }
 },
 "nbformat": 4,
 "nbformat_minor": 5
}
